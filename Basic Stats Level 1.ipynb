{
 "cells": [
  {
   "cell_type": "code",
   "execution_count": 1,
   "id": "023d8854",
   "metadata": {},
   "outputs": [],
   "source": [
    "import numpy as np\n",
    "import pandas as pd"
   ]
  },
  {
   "cell_type": "code",
   "execution_count": 2,
   "id": "61aeda32",
   "metadata": {},
   "outputs": [
    {
     "data": {
      "text/html": [
       "<div>\n",
       "<style scoped>\n",
       "    .dataframe tbody tr th:only-of-type {\n",
       "        vertical-align: middle;\n",
       "    }\n",
       "\n",
       "    .dataframe tbody tr th {\n",
       "        vertical-align: top;\n",
       "    }\n",
       "\n",
       "    .dataframe thead th {\n",
       "        text-align: right;\n",
       "    }\n",
       "</style>\n",
       "<table border=\"1\" class=\"dataframe\">\n",
       "  <thead>\n",
       "    <tr style=\"text-align: right;\">\n",
       "      <th></th>\n",
       "      <th>Date</th>\n",
       "      <th>Day</th>\n",
       "      <th>SKU</th>\n",
       "      <th>City</th>\n",
       "      <th>Volume</th>\n",
       "      <th>BU</th>\n",
       "      <th>Brand</th>\n",
       "      <th>Model</th>\n",
       "      <th>Avg Price</th>\n",
       "      <th>Total Sales Value</th>\n",
       "      <th>Discount Rate (%)</th>\n",
       "      <th>Discount Amount</th>\n",
       "      <th>Net Sales Value</th>\n",
       "    </tr>\n",
       "  </thead>\n",
       "  <tbody>\n",
       "    <tr>\n",
       "      <th>0</th>\n",
       "      <td>01-04-2021</td>\n",
       "      <td>Thursday</td>\n",
       "      <td>M01</td>\n",
       "      <td>C</td>\n",
       "      <td>15</td>\n",
       "      <td>Mobiles</td>\n",
       "      <td>RealU</td>\n",
       "      <td>RU-10</td>\n",
       "      <td>12100</td>\n",
       "      <td>181500</td>\n",
       "      <td>11.654820</td>\n",
       "      <td>21153.498820</td>\n",
       "      <td>160346.501180</td>\n",
       "    </tr>\n",
       "    <tr>\n",
       "      <th>1</th>\n",
       "      <td>01-04-2021</td>\n",
       "      <td>Thursday</td>\n",
       "      <td>M02</td>\n",
       "      <td>C</td>\n",
       "      <td>10</td>\n",
       "      <td>Mobiles</td>\n",
       "      <td>RealU</td>\n",
       "      <td>RU-9 Plus</td>\n",
       "      <td>10100</td>\n",
       "      <td>101000</td>\n",
       "      <td>11.560498</td>\n",
       "      <td>11676.102961</td>\n",
       "      <td>89323.897039</td>\n",
       "    </tr>\n",
       "    <tr>\n",
       "      <th>2</th>\n",
       "      <td>01-04-2021</td>\n",
       "      <td>Thursday</td>\n",
       "      <td>M03</td>\n",
       "      <td>C</td>\n",
       "      <td>7</td>\n",
       "      <td>Mobiles</td>\n",
       "      <td>YouM</td>\n",
       "      <td>YM-99</td>\n",
       "      <td>16100</td>\n",
       "      <td>112700</td>\n",
       "      <td>9.456886</td>\n",
       "      <td>10657.910157</td>\n",
       "      <td>102042.089843</td>\n",
       "    </tr>\n",
       "    <tr>\n",
       "      <th>3</th>\n",
       "      <td>01-04-2021</td>\n",
       "      <td>Thursday</td>\n",
       "      <td>M04</td>\n",
       "      <td>C</td>\n",
       "      <td>6</td>\n",
       "      <td>Mobiles</td>\n",
       "      <td>YouM</td>\n",
       "      <td>YM-99 Plus</td>\n",
       "      <td>20100</td>\n",
       "      <td>120600</td>\n",
       "      <td>6.935385</td>\n",
       "      <td>8364.074702</td>\n",
       "      <td>112235.925298</td>\n",
       "    </tr>\n",
       "    <tr>\n",
       "      <th>4</th>\n",
       "      <td>01-04-2021</td>\n",
       "      <td>Thursday</td>\n",
       "      <td>M05</td>\n",
       "      <td>C</td>\n",
       "      <td>3</td>\n",
       "      <td>Mobiles</td>\n",
       "      <td>YouM</td>\n",
       "      <td>YM-98</td>\n",
       "      <td>8100</td>\n",
       "      <td>24300</td>\n",
       "      <td>17.995663</td>\n",
       "      <td>4372.946230</td>\n",
       "      <td>19927.053770</td>\n",
       "    </tr>\n",
       "    <tr>\n",
       "      <th>...</th>\n",
       "      <td>...</td>\n",
       "      <td>...</td>\n",
       "      <td>...</td>\n",
       "      <td>...</td>\n",
       "      <td>...</td>\n",
       "      <td>...</td>\n",
       "      <td>...</td>\n",
       "      <td>...</td>\n",
       "      <td>...</td>\n",
       "      <td>...</td>\n",
       "      <td>...</td>\n",
       "      <td>...</td>\n",
       "      <td>...</td>\n",
       "    </tr>\n",
       "    <tr>\n",
       "      <th>445</th>\n",
       "      <td>15-04-2021</td>\n",
       "      <td>Thursday</td>\n",
       "      <td>L06</td>\n",
       "      <td>C</td>\n",
       "      <td>2</td>\n",
       "      <td>Lifestyle</td>\n",
       "      <td>Jeera</td>\n",
       "      <td>M-Casuals</td>\n",
       "      <td>1300</td>\n",
       "      <td>2600</td>\n",
       "      <td>15.475687</td>\n",
       "      <td>402.367873</td>\n",
       "      <td>2197.632127</td>\n",
       "    </tr>\n",
       "    <tr>\n",
       "      <th>446</th>\n",
       "      <td>15-04-2021</td>\n",
       "      <td>Thursday</td>\n",
       "      <td>L07</td>\n",
       "      <td>C</td>\n",
       "      <td>6</td>\n",
       "      <td>Lifestyle</td>\n",
       "      <td>Viva</td>\n",
       "      <td>W-Western</td>\n",
       "      <td>2600</td>\n",
       "      <td>15600</td>\n",
       "      <td>17.057027</td>\n",
       "      <td>2660.896242</td>\n",
       "      <td>12939.103758</td>\n",
       "    </tr>\n",
       "    <tr>\n",
       "      <th>447</th>\n",
       "      <td>15-04-2021</td>\n",
       "      <td>Thursday</td>\n",
       "      <td>L08</td>\n",
       "      <td>C</td>\n",
       "      <td>2</td>\n",
       "      <td>Lifestyle</td>\n",
       "      <td>Viva</td>\n",
       "      <td>W-Lounge</td>\n",
       "      <td>1600</td>\n",
       "      <td>3200</td>\n",
       "      <td>18.965550</td>\n",
       "      <td>606.897606</td>\n",
       "      <td>2593.102394</td>\n",
       "    </tr>\n",
       "    <tr>\n",
       "      <th>448</th>\n",
       "      <td>15-04-2021</td>\n",
       "      <td>Thursday</td>\n",
       "      <td>L09</td>\n",
       "      <td>C</td>\n",
       "      <td>3</td>\n",
       "      <td>Lifestyle</td>\n",
       "      <td>Jeera</td>\n",
       "      <td>M-Formals</td>\n",
       "      <td>1900</td>\n",
       "      <td>5700</td>\n",
       "      <td>16.793014</td>\n",
       "      <td>957.201826</td>\n",
       "      <td>4742.798174</td>\n",
       "    </tr>\n",
       "    <tr>\n",
       "      <th>449</th>\n",
       "      <td>15-04-2021</td>\n",
       "      <td>Thursday</td>\n",
       "      <td>L10</td>\n",
       "      <td>C</td>\n",
       "      <td>1</td>\n",
       "      <td>Lifestyle</td>\n",
       "      <td>Jeera</td>\n",
       "      <td>M-Shoes</td>\n",
       "      <td>3100</td>\n",
       "      <td>3100</td>\n",
       "      <td>15.333300</td>\n",
       "      <td>475.332295</td>\n",
       "      <td>2624.667705</td>\n",
       "    </tr>\n",
       "  </tbody>\n",
       "</table>\n",
       "<p>450 rows × 13 columns</p>\n",
       "</div>"
      ],
      "text/plain": [
       "           Date       Day  SKU City  Volume         BU  Brand       Model  \\\n",
       "0    01-04-2021  Thursday  M01    C      15    Mobiles  RealU       RU-10   \n",
       "1    01-04-2021  Thursday  M02    C      10    Mobiles  RealU   RU-9 Plus   \n",
       "2    01-04-2021  Thursday  M03    C       7    Mobiles   YouM       YM-99   \n",
       "3    01-04-2021  Thursday  M04    C       6    Mobiles   YouM  YM-99 Plus   \n",
       "4    01-04-2021  Thursday  M05    C       3    Mobiles   YouM      YM-98    \n",
       "..          ...       ...  ...  ...     ...        ...    ...         ...   \n",
       "445  15-04-2021  Thursday  L06    C       2  Lifestyle  Jeera   M-Casuals   \n",
       "446  15-04-2021  Thursday  L07    C       6  Lifestyle   Viva   W-Western   \n",
       "447  15-04-2021  Thursday  L08    C       2  Lifestyle   Viva    W-Lounge   \n",
       "448  15-04-2021  Thursday  L09    C       3  Lifestyle  Jeera   M-Formals   \n",
       "449  15-04-2021  Thursday  L10    C       1  Lifestyle  Jeera     M-Shoes   \n",
       "\n",
       "     Avg Price  Total Sales Value  Discount Rate (%)  Discount Amount  \\\n",
       "0        12100             181500          11.654820     21153.498820   \n",
       "1        10100             101000          11.560498     11676.102961   \n",
       "2        16100             112700           9.456886     10657.910157   \n",
       "3        20100             120600           6.935385      8364.074702   \n",
       "4         8100              24300          17.995663      4372.946230   \n",
       "..         ...                ...                ...              ...   \n",
       "445       1300               2600          15.475687       402.367873   \n",
       "446       2600              15600          17.057027      2660.896242   \n",
       "447       1600               3200          18.965550       606.897606   \n",
       "448       1900               5700          16.793014       957.201826   \n",
       "449       3100               3100          15.333300       475.332295   \n",
       "\n",
       "     Net Sales Value  \n",
       "0      160346.501180  \n",
       "1       89323.897039  \n",
       "2      102042.089843  \n",
       "3      112235.925298  \n",
       "4       19927.053770  \n",
       "..               ...  \n",
       "445      2197.632127  \n",
       "446     12939.103758  \n",
       "447      2593.102394  \n",
       "448      4742.798174  \n",
       "449      2624.667705  \n",
       "\n",
       "[450 rows x 13 columns]"
      ]
     },
     "execution_count": 2,
     "metadata": {},
     "output_type": "execute_result"
    }
   ],
   "source": [
    "sales_df = pd.read_csv(r'D:\\GCOEN\\DS ExcelR Assignments\\sales_data_with_discounts.csv')\n",
    "sales_df"
   ]
  },
  {
   "cell_type": "code",
   "execution_count": 3,
   "id": "6657940f",
   "metadata": {},
   "outputs": [
    {
     "data": {
      "text/plain": [
       "(450, 13)"
      ]
     },
     "execution_count": 3,
     "metadata": {},
     "output_type": "execute_result"
    }
   ],
   "source": [
    "sales_df.shape"
   ]
  },
  {
   "cell_type": "markdown",
   "id": "539e2f57",
   "metadata": {},
   "source": [
    "There are 450 rows and 13 columns in the dataset."
   ]
  },
  {
   "cell_type": "code",
   "execution_count": 4,
   "id": "fcfa1261",
   "metadata": {},
   "outputs": [
    {
     "data": {
      "text/plain": [
       "Date                  object\n",
       "Day                   object\n",
       "SKU                   object\n",
       "City                  object\n",
       "Volume                 int64\n",
       "BU                    object\n",
       "Brand                 object\n",
       "Model                 object\n",
       "Avg Price              int64\n",
       "Total Sales Value      int64\n",
       "Discount Rate (%)    float64\n",
       "Discount Amount      float64\n",
       "Net Sales Value      float64\n",
       "dtype: object"
      ]
     },
     "execution_count": 4,
     "metadata": {},
     "output_type": "execute_result"
    }
   ],
   "source": [
    "sales_df.dtypes"
   ]
  },
  {
   "cell_type": "code",
   "execution_count": 5,
   "id": "556eb9a6",
   "metadata": {},
   "outputs": [
    {
     "data": {
      "text/html": [
       "<div>\n",
       "<style scoped>\n",
       "    .dataframe tbody tr th:only-of-type {\n",
       "        vertical-align: middle;\n",
       "    }\n",
       "\n",
       "    .dataframe tbody tr th {\n",
       "        vertical-align: top;\n",
       "    }\n",
       "\n",
       "    .dataframe thead th {\n",
       "        text-align: right;\n",
       "    }\n",
       "</style>\n",
       "<table border=\"1\" class=\"dataframe\">\n",
       "  <thead>\n",
       "    <tr style=\"text-align: right;\">\n",
       "      <th></th>\n",
       "      <th>Volume</th>\n",
       "      <th>Avg Price</th>\n",
       "      <th>Total Sales Value</th>\n",
       "    </tr>\n",
       "  </thead>\n",
       "  <tbody>\n",
       "    <tr>\n",
       "      <th>0</th>\n",
       "      <td>15</td>\n",
       "      <td>12100</td>\n",
       "      <td>181500</td>\n",
       "    </tr>\n",
       "    <tr>\n",
       "      <th>1</th>\n",
       "      <td>10</td>\n",
       "      <td>10100</td>\n",
       "      <td>101000</td>\n",
       "    </tr>\n",
       "    <tr>\n",
       "      <th>2</th>\n",
       "      <td>7</td>\n",
       "      <td>16100</td>\n",
       "      <td>112700</td>\n",
       "    </tr>\n",
       "    <tr>\n",
       "      <th>3</th>\n",
       "      <td>6</td>\n",
       "      <td>20100</td>\n",
       "      <td>120600</td>\n",
       "    </tr>\n",
       "    <tr>\n",
       "      <th>4</th>\n",
       "      <td>3</td>\n",
       "      <td>8100</td>\n",
       "      <td>24300</td>\n",
       "    </tr>\n",
       "    <tr>\n",
       "      <th>...</th>\n",
       "      <td>...</td>\n",
       "      <td>...</td>\n",
       "      <td>...</td>\n",
       "    </tr>\n",
       "    <tr>\n",
       "      <th>445</th>\n",
       "      <td>2</td>\n",
       "      <td>1300</td>\n",
       "      <td>2600</td>\n",
       "    </tr>\n",
       "    <tr>\n",
       "      <th>446</th>\n",
       "      <td>6</td>\n",
       "      <td>2600</td>\n",
       "      <td>15600</td>\n",
       "    </tr>\n",
       "    <tr>\n",
       "      <th>447</th>\n",
       "      <td>2</td>\n",
       "      <td>1600</td>\n",
       "      <td>3200</td>\n",
       "    </tr>\n",
       "    <tr>\n",
       "      <th>448</th>\n",
       "      <td>3</td>\n",
       "      <td>1900</td>\n",
       "      <td>5700</td>\n",
       "    </tr>\n",
       "    <tr>\n",
       "      <th>449</th>\n",
       "      <td>1</td>\n",
       "      <td>3100</td>\n",
       "      <td>3100</td>\n",
       "    </tr>\n",
       "  </tbody>\n",
       "</table>\n",
       "<p>450 rows × 3 columns</p>\n",
       "</div>"
      ],
      "text/plain": [
       "     Volume  Avg Price  Total Sales Value\n",
       "0        15      12100             181500\n",
       "1        10      10100             101000\n",
       "2         7      16100             112700\n",
       "3         6      20100             120600\n",
       "4         3       8100              24300\n",
       "..      ...        ...                ...\n",
       "445       2       1300               2600\n",
       "446       6       2600              15600\n",
       "447       2       1600               3200\n",
       "448       3       1900               5700\n",
       "449       1       3100               3100\n",
       "\n",
       "[450 rows x 3 columns]"
      ]
     },
     "execution_count": 5,
     "metadata": {},
     "output_type": "execute_result"
    }
   ],
   "source": [
    "sales_df.select_dtypes('int64')"
   ]
  },
  {
   "cell_type": "markdown",
   "id": "10b00620",
   "metadata": {},
   "source": [
    "There are 3 numerical columns in the sales with discounts dataset."
   ]
  },
  {
   "cell_type": "code",
   "execution_count": 6,
   "id": "c49cc7f1",
   "metadata": {},
   "outputs": [
    {
     "data": {
      "text/plain": [
       "0      15\n",
       "1      10\n",
       "2       7\n",
       "3       6\n",
       "4       3\n",
       "       ..\n",
       "445     2\n",
       "446     6\n",
       "447     2\n",
       "448     3\n",
       "449     1\n",
       "Name: Volume, Length: 450, dtype: int64"
      ]
     },
     "execution_count": 6,
     "metadata": {},
     "output_type": "execute_result"
    }
   ],
   "source": [
    "volume_series = pd.Series(sales_df['Volume'])\n",
    "volume_series"
   ]
  },
  {
   "cell_type": "code",
   "execution_count": 7,
   "id": "cd9b0efa",
   "metadata": {},
   "outputs": [
    {
     "data": {
      "text/plain": [
       "(5.066666666666666,\n",
       " 4.0,\n",
       " 0    3\n",
       " Name: Volume, dtype: int64)"
      ]
     },
     "execution_count": 7,
     "metadata": {},
     "output_type": "execute_result"
    }
   ],
   "source": [
    "# Mean, Median and Mode for volume column\n",
    "volume_series.mean(), volume_series.median(), volume_series.mode()"
   ]
  },
  {
   "cell_type": "code",
   "execution_count": 8,
   "id": "0d3a5874",
   "metadata": {},
   "outputs": [
    {
     "data": {
      "text/plain": [
       "4.226897995772632"
      ]
     },
     "execution_count": 8,
     "metadata": {},
     "output_type": "execute_result"
    }
   ],
   "source": [
    "# Standard Deviation for volume column\n",
    "volume_std = np.std(volume_series)\n",
    "volume_std"
   ]
  },
  {
   "cell_type": "code",
   "execution_count": 9,
   "id": "f17f4188",
   "metadata": {},
   "outputs": [
    {
     "data": {
      "text/plain": [
       "0      12100\n",
       "1      10100\n",
       "2      16100\n",
       "3      20100\n",
       "4       8100\n",
       "       ...  \n",
       "445     1300\n",
       "446     2600\n",
       "447     1600\n",
       "448     1900\n",
       "449     3100\n",
       "Name: Avg Price, Length: 450, dtype: int64"
      ]
     },
     "execution_count": 9,
     "metadata": {},
     "output_type": "execute_result"
    }
   ],
   "source": [
    "Avg_price_series = pd.Series(sales_df['Avg Price'])\n",
    "Avg_price_series"
   ]
  },
  {
   "cell_type": "code",
   "execution_count": 10,
   "id": "62782c7c",
   "metadata": {},
   "outputs": [
    {
     "data": {
      "text/plain": [
       "(10453.433333333332,\n",
       " 1450.0,\n",
       " 0     400\n",
       " 1     450\n",
       " 2     500\n",
       " 3    1300\n",
       " 4    8100\n",
       " Name: Avg Price, dtype: int64)"
      ]
     },
     "execution_count": 10,
     "metadata": {},
     "output_type": "execute_result"
    }
   ],
   "source": [
    "# Mean, Median, Mode for Avg Price column\n",
    "Avg_price_series.mean(), Avg_price_series.median(), Avg_price_series.mode()"
   ]
  },
  {
   "cell_type": "code",
   "execution_count": 11,
   "id": "809b2192",
   "metadata": {},
   "outputs": [
    {
     "data": {
      "text/plain": [
       "18059.80488392815"
      ]
     },
     "execution_count": 11,
     "metadata": {},
     "output_type": "execute_result"
    }
   ],
   "source": [
    "avg_price_std = np.std(Avg_price_series)\n",
    "avg_price_std"
   ]
  },
  {
   "cell_type": "code",
   "execution_count": 12,
   "id": "3602865b",
   "metadata": {},
   "outputs": [
    {
     "data": {
      "text/plain": [
       "0      181500\n",
       "1      101000\n",
       "2      112700\n",
       "3      120600\n",
       "4       24300\n",
       "        ...  \n",
       "445      2600\n",
       "446     15600\n",
       "447      3200\n",
       "448      5700\n",
       "449      3100\n",
       "Name: Total Sales Value, Length: 450, dtype: int64"
      ]
     },
     "execution_count": 12,
     "metadata": {},
     "output_type": "execute_result"
    }
   ],
   "source": [
    "Total_sales_series = pd.Series(sales_df['Total Sales Value'])\n",
    "Total_sales_series"
   ]
  },
  {
   "cell_type": "code",
   "execution_count": 13,
   "id": "eac3ab3b",
   "metadata": {},
   "outputs": [
    {
     "data": {
      "text/plain": [
       "(33812.83555555555,\n",
       " 5700.0,\n",
       " 0    24300\n",
       " Name: Total Sales Value, dtype: int64)"
      ]
     },
     "execution_count": 13,
     "metadata": {},
     "output_type": "execute_result"
    }
   ],
   "source": [
    "# Mean, Median, Mode for Avg Price column\n",
    "Total_sales_series.mean(), Total_sales_series.median(), Total_sales_series.mode()"
   ]
  },
  {
   "cell_type": "code",
   "execution_count": 14,
   "id": "c6c7e637",
   "metadata": {},
   "outputs": [
    {
     "data": {
      "text/plain": [
       "50478.89286094034"
      ]
     },
     "execution_count": 14,
     "metadata": {},
     "output_type": "execute_result"
    }
   ],
   "source": [
    "Total_sales_std = np.std(Total_sales_series)\n",
    "Total_sales_std"
   ]
  },
  {
   "cell_type": "code",
   "execution_count": 15,
   "id": "391f2fc3",
   "metadata": {},
   "outputs": [
    {
     "data": {
      "text/plain": [
       "0      11.654820\n",
       "1      11.560498\n",
       "2       9.456886\n",
       "3       6.935385\n",
       "4      17.995663\n",
       "         ...    \n",
       "445    15.475687\n",
       "446    17.057027\n",
       "447    18.965550\n",
       "448    16.793014\n",
       "449    15.333300\n",
       "Name: Discount Rate (%), Length: 450, dtype: float64"
      ]
     },
     "execution_count": 15,
     "metadata": {},
     "output_type": "execute_result"
    }
   ],
   "source": [
    "Discount_rate_series = sales_df['Discount Rate (%)']\n",
    "Discount_rate_series"
   ]
  },
  {
   "cell_type": "code",
   "execution_count": 16,
   "id": "ebb3563c",
   "metadata": {},
   "outputs": [
    {
     "data": {
      "text/plain": [
       "(15.15524189533091,\n",
       " 16.57776564929597,\n",
       " 0       5.007822\n",
       " 1       5.055218\n",
       " 2       5.059801\n",
       " 3       5.072124\n",
       " 4       5.084108\n",
       "          ...    \n",
       " 445    19.940610\n",
       " 446    19.965340\n",
       " 447    19.976879\n",
       " 448    19.982257\n",
       " 449    19.992407\n",
       " Name: Discount Rate (%), Length: 450, dtype: float64)"
      ]
     },
     "execution_count": 16,
     "metadata": {},
     "output_type": "execute_result"
    }
   ],
   "source": [
    "# Mean, Median, Mode values\n",
    "Discount_rate_series.mean(), Discount_rate_series.median(), Discount_rate_series.mode()"
   ]
  },
  {
   "cell_type": "code",
   "execution_count": 17,
   "id": "aadb297d",
   "metadata": {},
   "outputs": [
    {
     "data": {
      "text/plain": [
       "4.220602153325511"
      ]
     },
     "execution_count": 17,
     "metadata": {},
     "output_type": "execute_result"
    }
   ],
   "source": [
    "Discount_rate_series.std()"
   ]
  },
  {
   "cell_type": "code",
   "execution_count": 18,
   "id": "5ef04622",
   "metadata": {},
   "outputs": [
    {
     "data": {
      "text/plain": [
       "0      21153.498820\n",
       "1      11676.102961\n",
       "2      10657.910157\n",
       "3       8364.074702\n",
       "4       4372.946230\n",
       "           ...     \n",
       "445      402.367873\n",
       "446     2660.896242\n",
       "447      606.897606\n",
       "448      957.201826\n",
       "449      475.332295\n",
       "Name: Discount Amount, Length: 450, dtype: float64"
      ]
     },
     "execution_count": 18,
     "metadata": {},
     "output_type": "execute_result"
    }
   ],
   "source": [
    "Discount_Amount_series = sales_df['Discount Amount']\n",
    "Discount_Amount_series"
   ]
  },
  {
   "cell_type": "code",
   "execution_count": 19,
   "id": "f5cbff04",
   "metadata": {},
   "outputs": [
    {
     "data": {
      "text/plain": [
       "(3346.499424342415,\n",
       " 988.9337332382784,\n",
       " 0         69.177942\n",
       " 1         73.025199\n",
       " 2         93.649161\n",
       " 3         94.682735\n",
       " 4        102.705757\n",
       "            ...     \n",
       " 445    17900.983733\n",
       " 446    21153.498820\n",
       " 447    21496.675367\n",
       " 448    25328.224204\n",
       " 449    25738.022194\n",
       " Name: Discount Amount, Length: 450, dtype: float64)"
      ]
     },
     "execution_count": 19,
     "metadata": {},
     "output_type": "execute_result"
    }
   ],
   "source": [
    "# Mean, Median, Mode values\n",
    "Discount_Amount_series.mean(), Discount_Amount_series.median(), Discount_Amount_series.mode()"
   ]
  },
  {
   "cell_type": "code",
   "execution_count": 20,
   "id": "45106856",
   "metadata": {},
   "outputs": [
    {
     "data": {
      "text/plain": [
       "4509.9029633539985"
      ]
     },
     "execution_count": 20,
     "metadata": {},
     "output_type": "execute_result"
    }
   ],
   "source": [
    "Discount_Amount_series.std()"
   ]
  },
  {
   "cell_type": "code",
   "execution_count": 21,
   "id": "be751932",
   "metadata": {},
   "outputs": [
    {
     "data": {
      "text/plain": [
       "0      160346.501180\n",
       "1       89323.897039\n",
       "2      102042.089843\n",
       "3      112235.925298\n",
       "4       19927.053770\n",
       "           ...      \n",
       "445      2197.632127\n",
       "446     12939.103758\n",
       "447      2593.102394\n",
       "448      4742.798174\n",
       "449      2624.667705\n",
       "Name: Net Sales Value, Length: 450, dtype: float64"
      ]
     },
     "execution_count": 21,
     "metadata": {},
     "output_type": "execute_result"
    }
   ],
   "source": [
    "Net_sales_series = sales_df['Net Sales Value']\n",
    "Net_sales_series"
   ]
  },
  {
   "cell_type": "code",
   "execution_count": 22,
   "id": "7d414d34",
   "metadata": {},
   "outputs": [
    {
     "data": {
      "text/plain": [
       "(30466.336131270135,\n",
       " 4677.788059301853,\n",
       " 0         326.974801\n",
       " 1         330.822058\n",
       " 2         466.350839\n",
       " 3         485.317265\n",
       " 4         496.607104\n",
       "            ...      \n",
       " 445    162603.186379\n",
       " 446    163915.971000\n",
       " 447    163967.080070\n",
       " 448    166263.161348\n",
       " 449    179507.479049\n",
       " Name: Net Sales Value, Length: 450, dtype: float64)"
      ]
     },
     "execution_count": 22,
     "metadata": {},
     "output_type": "execute_result"
    }
   ],
   "source": [
    "Net_sales_series.mean(), Net_sales_series.median(), Net_sales_series.mode()"
   ]
  },
  {
   "cell_type": "code",
   "execution_count": 23,
   "id": "46bcdc71",
   "metadata": {},
   "outputs": [
    {
     "data": {
      "text/plain": [
       "46358.656624066934"
      ]
     },
     "execution_count": 23,
     "metadata": {},
     "output_type": "execute_result"
    }
   ],
   "source": [
    "Net_sales_series.std()"
   ]
  },
  {
   "cell_type": "markdown",
   "id": "0ed88118",
   "metadata": {},
   "source": [
    "# Data Visualization"
   ]
  },
  {
   "cell_type": "code",
   "execution_count": 24,
   "id": "6335c349",
   "metadata": {},
   "outputs": [
    {
     "data": {
      "text/plain": [
       "<Axes: ylabel='Frequency'>"
      ]
     },
     "execution_count": 24,
     "metadata": {},
     "output_type": "execute_result"
    },
    {
     "data": {
      "image/png": "[encoded data removed]",
      "text/plain": [
       "<Figure size 400x300 with 1 Axes>"
      ]
     },
     "metadata": {},
     "output_type": "display_data"
    }
   ],
   "source": [
    "# Histogram for each numerical column\n",
    "volume_series.plot(kind = 'hist', figsize = (4,3), bins = 5)"
   ]
  },
  {
   "cell_type": "code",
   "execution_count": 25,
   "id": "dab7d10f",
   "metadata": {},
   "outputs": [
    {
     "data": {
      "text/plain": [
       "(2.731723626557714, 10.258547145181762)"
      ]
     },
     "execution_count": 25,
     "metadata": {},
     "output_type": "execute_result"
    }
   ],
   "source": [
    "volume_series.skew(), volume_series.kurt()"
   ]
  },
  {
   "cell_type": "markdown",
   "id": "17b125a2",
   "metadata": {},
   "source": [
    "The volume distribution has more values on the right side of its peak than on the left.\n",
    "Positive kurtosis indicates that the volume distribution is more peaked than a normal distribution, while a kurtosis value greater than +2 suggests that the volume distribution is too peaked."
   ]
  },
  {
   "cell_type": "code",
   "execution_count": 26,
   "id": "d903b61b",
   "metadata": {},
   "outputs": [
    {
     "data": {
      "text/plain": [
       "1.5"
      ]
     },
     "execution_count": 26,
     "metadata": {},
     "output_type": "execute_result"
    }
   ],
   "source": [
    "Q1_volume = volume_series.quantile(0.25)\n",
    "Q3_volume = volume_series.quantile(0.75)\n",
    "IQR = (Q3_volume - Q1_volume) / 2\n",
    "IQR"
   ]
  },
  {
   "cell_type": "code",
   "execution_count": 27,
   "id": "3c2e64db",
   "metadata": {},
   "outputs": [
    {
     "data": {
      "text/plain": [
       "[0.75, 8.25]"
      ]
     },
     "execution_count": 27,
     "metadata": {},
     "output_type": "execute_result"
    }
   ],
   "source": [
    "Lower_Quartile = Q1_volume - 1.5*(IQR)\n",
    "Upper_Quartile = Q3_volume + 1.5*(IQR)\n",
    "[Lower_Quartile, Upper_Quartile]"
   ]
  },
  {
   "cell_type": "code",
   "execution_count": 28,
   "id": "09b9c1d3",
   "metadata": {},
   "outputs": [
    {
     "data": {
      "text/plain": [
       "60"
      ]
     },
     "execution_count": 28,
     "metadata": {},
     "output_type": "execute_result"
    }
   ],
   "source": [
    "volume_series[volume_series > Upper_Quartile].count()"
   ]
  },
  {
   "cell_type": "code",
   "execution_count": 29,
   "id": "18b2135a",
   "metadata": {},
   "outputs": [
    {
     "data": {
      "text/plain": [
       "0"
      ]
     },
     "execution_count": 29,
     "metadata": {},
     "output_type": "execute_result"
    }
   ],
   "source": [
    "volume_series[volume_series < Lower_Quartile].count()"
   ]
  },
  {
   "cell_type": "markdown",
   "id": "dad14aca",
   "metadata": {},
   "source": [
    "There are 60 outliers in the volume column."
   ]
  },
  {
   "cell_type": "code",
   "execution_count": 30,
   "id": "e3cda35c",
   "metadata": {},
   "outputs": [
    {
     "data": {
      "text/plain": [
       "<Axes: >"
      ]
     },
     "execution_count": 30,
     "metadata": {},
     "output_type": "execute_result"
    },
    {
     "data": {
      "image/png": "[encoded data removed]",
      "text/plain": [
       "<Figure size 400x300 with 1 Axes>"
      ]
     },
     "metadata": {},
     "output_type": "display_data"
    }
   ],
   "source": [
    "volume_series.plot(kind = 'box', figsize = (4,3))"
   ]
  },
  {
   "cell_type": "code",
   "execution_count": 31,
   "id": "6aba12c8",
   "metadata": {},
   "outputs": [
    {
     "data": {
      "text/plain": [
       "<Axes: ylabel='Frequency'>"
      ]
     },
     "execution_count": 31,
     "metadata": {},
     "output_type": "execute_result"
    },
    {
     "data": {
      "image/png": "[encoded data removed]",
      "text/plain": [
       "<Figure size 400x300 with 1 Axes>"
      ]
     },
     "metadata": {},
     "output_type": "display_data"
    }
   ],
   "source": [
    "Avg_price_series.plot(kind = 'hist', figsize = (4,3), bins = 5)"
   ]
  },
  {
   "cell_type": "code",
   "execution_count": 32,
   "id": "34c60239",
   "metadata": {},
   "outputs": [
    {
     "data": {
      "text/plain": [
       "(1.9088730767759727, 2.07565498004372)"
      ]
     },
     "execution_count": 32,
     "metadata": {},
     "output_type": "execute_result"
    }
   ],
   "source": [
    "Avg_price_series.skew(), Avg_price_series.kurt()"
   ]
  },
  {
   "cell_type": "markdown",
   "id": "ad52b835",
   "metadata": {},
   "source": [
    "The average price distribution has more values on the right side of its peak than on the left. Positive kurtosis indicates that the average price distribution is more peaked than a normal distribution."
   ]
  },
  {
   "cell_type": "code",
   "execution_count": 33,
   "id": "edefd050",
   "metadata": {},
   "outputs": [
    {
     "data": {
      "text/plain": [
       "4817.5"
      ]
     },
     "execution_count": 33,
     "metadata": {},
     "output_type": "execute_result"
    }
   ],
   "source": [
    "Q1 = Avg_price_series.quantile(0.25)\n",
    "Q3 = Avg_price_series.quantile(0.75)\n",
    "IQR = (Q3 - Q1) / 2\n",
    "IQR"
   ]
  },
  {
   "cell_type": "code",
   "execution_count": 34,
   "id": "67aa4bea",
   "metadata": {},
   "outputs": [
    {
     "data": {
      "text/plain": [
       "[-6761.25, 17326.25]"
      ]
     },
     "execution_count": 34,
     "metadata": {},
     "output_type": "execute_result"
    }
   ],
   "source": [
    "Lower_Quartile = Q1 - 1.5*(IQR)\n",
    "Upper_Quartile = Q3 + 1.5*(IQR)\n",
    "[Lower_Quartile, Upper_Quartile]"
   ]
  },
  {
   "cell_type": "code",
   "execution_count": 35,
   "id": "d4638b34",
   "metadata": {},
   "outputs": [
    {
     "data": {
      "text/plain": [
       "75"
      ]
     },
     "execution_count": 35,
     "metadata": {},
     "output_type": "execute_result"
    }
   ],
   "source": [
    "Avg_price_series[Avg_price_series > Upper_Quartile].count()"
   ]
  },
  {
   "cell_type": "code",
   "execution_count": 36,
   "id": "6a561906",
   "metadata": {},
   "outputs": [
    {
     "data": {
      "text/plain": [
       "0"
      ]
     },
     "execution_count": 36,
     "metadata": {},
     "output_type": "execute_result"
    }
   ],
   "source": [
    "Avg_price_series[Avg_price_series < Lower_Quartile].count()"
   ]
  },
  {
   "cell_type": "markdown",
   "id": "0a387872",
   "metadata": {},
   "source": [
    "There are 75 outliers in the Average price column."
   ]
  },
  {
   "cell_type": "code",
   "execution_count": 37,
   "id": "3749223b",
   "metadata": {},
   "outputs": [
    {
     "data": {
      "text/plain": [
       "<Axes: >"
      ]
     },
     "execution_count": 37,
     "metadata": {},
     "output_type": "execute_result"
    },
    {
     "data": {
      "image/png": "[encoded data removed]",
      "text/plain": [
       "<Figure size 400x300 with 1 Axes>"
      ]
     },
     "metadata": {},
     "output_type": "display_data"
    }
   ],
   "source": [
    "Avg_price_series.plot(kind = 'box', figsize = (4,3))"
   ]
  },
  {
   "cell_type": "code",
   "execution_count": 38,
   "id": "be804c3e",
   "metadata": {},
   "outputs": [
    {
     "data": {
      "text/plain": [
       "<Axes: ylabel='Frequency'>"
      ]
     },
     "execution_count": 38,
     "metadata": {},
     "output_type": "execute_result"
    },
    {
     "data": {
      "image/png": "[encoded data removed]",
      "text/plain": [
       "<Figure size 400x300 with 1 Axes>"
      ]
     },
     "metadata": {},
     "output_type": "display_data"
    }
   ],
   "source": [
    "Total_sales_series.plot(kind = 'hist', figsize = (4,3), bins = 5)"
   ]
  },
  {
   "cell_type": "code",
   "execution_count": 39,
   "id": "e699fb8e",
   "metadata": {},
   "outputs": [
    {
     "data": {
      "text/plain": [
       "(1.5347293238977937, 1.0249161068455352)"
      ]
     },
     "execution_count": 39,
     "metadata": {},
     "output_type": "execute_result"
    }
   ],
   "source": [
    "Total_sales_series.skew(), Total_sales_series.kurt()"
   ]
  },
  {
   "cell_type": "markdown",
   "id": "a95fd371",
   "metadata": {},
   "source": [
    "The total sales distribution has more values on the right side of its peak than on the left. Positive kurtosis indicates that the total sales distribution is more peaked than a normal distribution."
   ]
  },
  {
   "cell_type": "code",
   "execution_count": 40,
   "id": "648d73fc",
   "metadata": {},
   "outputs": [
    {
     "data": {
      "text/plain": [
       "25250.0"
      ]
     },
     "execution_count": 40,
     "metadata": {},
     "output_type": "execute_result"
    }
   ],
   "source": [
    "Q1 = Total_sales_series.quantile(0.25)\n",
    "Q3 = Total_sales_series.quantile(0.75)\n",
    "IQR = (Q3 - Q1) / 2\n",
    "IQR"
   ]
  },
  {
   "cell_type": "code",
   "execution_count": 41,
   "id": "c75b068a",
   "metadata": {},
   "outputs": [
    {
     "data": {
      "text/plain": [
       "[-35175.0, 91075.0]"
      ]
     },
     "execution_count": 41,
     "metadata": {},
     "output_type": "execute_result"
    }
   ],
   "source": [
    "Lower_Quartile = Q1 - 1.5*(IQR)\n",
    "Upper_Quartile = Q3 + 1.5*(IQR)\n",
    "[Lower_Quartile, Upper_Quartile]"
   ]
  },
  {
   "cell_type": "code",
   "execution_count": 42,
   "id": "bc9fdfb6",
   "metadata": {},
   "outputs": [
    {
     "data": {
      "text/plain": [
       "81"
      ]
     },
     "execution_count": 42,
     "metadata": {},
     "output_type": "execute_result"
    }
   ],
   "source": [
    "Total_sales_series[Total_sales_series > Upper_Quartile].count()"
   ]
  },
  {
   "cell_type": "code",
   "execution_count": 43,
   "id": "33d7e04d",
   "metadata": {},
   "outputs": [
    {
     "data": {
      "text/plain": [
       "0"
      ]
     },
     "execution_count": 43,
     "metadata": {},
     "output_type": "execute_result"
    }
   ],
   "source": [
    "Total_sales_series[Total_sales_series < Lower_Quartile].count()"
   ]
  },
  {
   "cell_type": "markdown",
   "id": "baa7dc44",
   "metadata": {},
   "source": [
    "There are 81 outliers in the total sales column."
   ]
  },
  {
   "cell_type": "code",
   "execution_count": 44,
   "id": "7a9da17d",
   "metadata": {},
   "outputs": [
    {
     "data": {
      "text/plain": [
       "<Axes: >"
      ]
     },
     "execution_count": 44,
     "metadata": {},
     "output_type": "execute_result"
    },
    {
     "data": {
      "image/png": "[encoded data removed]",
      "text/plain": [
       "<Figure size 400x300 with 1 Axes>"
      ]
     },
     "metadata": {},
     "output_type": "display_data"
    }
   ],
   "source": [
    "Total_sales_series.plot(kind = 'box', figsize = (4,3))"
   ]
  },
  {
   "cell_type": "code",
   "execution_count": 45,
   "id": "565fe46c",
   "metadata": {},
   "outputs": [
    {
     "data": {
      "text/plain": [
       "<Axes: ylabel='Frequency'>"
      ]
     },
     "execution_count": 45,
     "metadata": {},
     "output_type": "execute_result"
    },
    {
     "data": {
      "image/png": "[encoded data removed]",
      "text/plain": [
       "<Figure size 400x300 with 1 Axes>"
      ]
     },
     "metadata": {},
     "output_type": "display_data"
    }
   ],
   "source": [
    "Discount_rate_series.plot(kind = 'hist', figsize = (4,3), bins = 5)"
   ]
  },
  {
   "cell_type": "code",
   "execution_count": 46,
   "id": "8479ffd8",
   "metadata": {},
   "outputs": [
    {
     "data": {
      "text/plain": [
       "(-1.0622943696988825, -0.1785407468981699)"
      ]
     },
     "execution_count": 46,
     "metadata": {},
     "output_type": "execute_result"
    }
   ],
   "source": [
    "Discount_rate_series.skew(), Discount_rate_series.kurt()"
   ]
  },
  {
   "cell_type": "markdown",
   "id": "e1d67074",
   "metadata": {},
   "source": [
    "The negative skewness indicates that the extreme data values are smaller, and the mean is lower than the median. The discount rate distribution is flatter than a normal distribution."
   ]
  },
  {
   "cell_type": "code",
   "execution_count": 47,
   "id": "42861de3",
   "metadata": {},
   "outputs": [
    {
     "data": {
      "text/plain": [
       "2.074827967025481"
      ]
     },
     "execution_count": 47,
     "metadata": {},
     "output_type": "execute_result"
    }
   ],
   "source": [
    "Q1 = Discount_rate_series.quantile(0.25)\n",
    "Q3 = Discount_rate_series.quantile(0.75)\n",
    "IQR = (Q3 - Q1) / 2\n",
    "IQR"
   ]
  },
  {
   "cell_type": "code",
   "execution_count": 48,
   "id": "e5cb60d2",
   "metadata": {},
   "outputs": [
    {
     "data": {
      "text/plain": [
       "[10.85282059316352, 21.226960428290923]"
      ]
     },
     "execution_count": 48,
     "metadata": {},
     "output_type": "execute_result"
    }
   ],
   "source": [
    "Lower_Quartile = Q1 - 1.5*(IQR)\n",
    "Upper_Quartile = Q3 + 1.5*(IQR)\n",
    "[Lower_Quartile, Upper_Quartile]"
   ]
  },
  {
   "cell_type": "code",
   "execution_count": 49,
   "id": "4ef07067",
   "metadata": {},
   "outputs": [
    {
     "data": {
      "text/plain": [
       "0"
      ]
     },
     "execution_count": 49,
     "metadata": {},
     "output_type": "execute_result"
    }
   ],
   "source": [
    "Discount_rate_series[Discount_rate_series > Upper_Quartile].count()"
   ]
  },
  {
   "cell_type": "code",
   "execution_count": 50,
   "id": "00f7f44f",
   "metadata": {},
   "outputs": [
    {
     "data": {
      "text/plain": [
       "92"
      ]
     },
     "execution_count": 50,
     "metadata": {},
     "output_type": "execute_result"
    }
   ],
   "source": [
    "Discount_rate_series[Discount_rate_series < Lower_Quartile].count()"
   ]
  },
  {
   "cell_type": "markdown",
   "id": "5f47f952",
   "metadata": {},
   "source": [
    "There are 92 outliers in the discount rate column."
   ]
  },
  {
   "cell_type": "code",
   "execution_count": 51,
   "id": "20853966",
   "metadata": {},
   "outputs": [
    {
     "data": {
      "text/plain": [
       "<Axes: >"
      ]
     },
     "execution_count": 51,
     "metadata": {},
     "output_type": "execute_result"
    },
    {
     "data": {
      "image/png": "[encoded data removed]",
      "text/plain": [
       "<Figure size 400x300 with 1 Axes>"
      ]
     },
     "metadata": {},
     "output_type": "display_data"
    }
   ],
   "source": [
    "Discount_rate_series.plot(kind = 'box', figsize = (4,3))"
   ]
  },
  {
   "cell_type": "code",
   "execution_count": 52,
   "id": "b83b0e00",
   "metadata": {},
   "outputs": [
    {
     "data": {
      "text/plain": [
       "<Axes: ylabel='Frequency'>"
      ]
     },
     "execution_count": 52,
     "metadata": {},
     "output_type": "execute_result"
    },
    {
     "data": {
      "image/png": "[encoded data removed]",
      "text/plain": [
       "<Figure size 400x300 with 1 Axes>"
      ]
     },
     "metadata": {},
     "output_type": "display_data"
    }
   ],
   "source": [
    "Discount_Amount_series.plot(kind = 'hist', figsize = (4,3), bins = 5)"
   ]
  },
  {
   "cell_type": "code",
   "execution_count": 53,
   "id": "60ddbc2e",
   "metadata": {},
   "outputs": [
    {
     "data": {
      "text/plain": [
       "(1.9130377339538271, -0.1785407468981699)"
      ]
     },
     "execution_count": 53,
     "metadata": {},
     "output_type": "execute_result"
    }
   ],
   "source": [
    "Discount_Amount_series.skew(), Discount_rate_series.kurt()"
   ]
  },
  {
   "cell_type": "markdown",
   "id": "15ebd0ab",
   "metadata": {},
   "source": [
    "The discount amount distribution has more values on the right side of its peak than on the left. The discount amount distribution is flatter than a normal distribution."
   ]
  },
  {
   "cell_type": "code",
   "execution_count": 54,
   "id": "556e2a1d",
   "metadata": {},
   "outputs": [
    {
     "data": {
      "text/plain": [
       "2428.01806140056"
      ]
     },
     "execution_count": 54,
     "metadata": {},
     "output_type": "execute_result"
    }
   ],
   "source": [
    "Q1 = Discount_Amount_series.quantile(0.25)\n",
    "Q3 = Discount_Amount_series.quantile(0.75)\n",
    "IQR = (Q3 - Q1) / 2\n",
    "IQR"
   ]
  },
  {
   "cell_type": "code",
   "execution_count": 55,
   "id": "292f72a0",
   "metadata": {},
   "outputs": [
    {
     "data": {
      "text/plain": [
       "[-3181.567788215307, 8958.522518787493]"
      ]
     },
     "execution_count": 55,
     "metadata": {},
     "output_type": "execute_result"
    }
   ],
   "source": [
    "Lower_Quartile = Q1 - 1.5*(IQR)\n",
    "Upper_Quartile = Q3 + 1.5*(IQR)\n",
    "[Lower_Quartile, Upper_Quartile]"
   ]
  },
  {
   "cell_type": "code",
   "execution_count": 56,
   "id": "ca0749a7",
   "metadata": {},
   "outputs": [
    {
     "data": {
      "text/plain": [
       "57"
      ]
     },
     "execution_count": 56,
     "metadata": {},
     "output_type": "execute_result"
    }
   ],
   "source": [
    "Discount_Amount_series[Discount_Amount_series > Upper_Quartile].count()"
   ]
  },
  {
   "cell_type": "code",
   "execution_count": 57,
   "id": "dded463c",
   "metadata": {},
   "outputs": [
    {
     "data": {
      "text/plain": [
       "0"
      ]
     },
     "execution_count": 57,
     "metadata": {},
     "output_type": "execute_result"
    }
   ],
   "source": [
    "Discount_Amount_series[Discount_Amount_series < Lower_Quartile].count()"
   ]
  },
  {
   "cell_type": "markdown",
   "id": "72b15e2a",
   "metadata": {},
   "source": [
    "There are 57 outliers in the discount amount column."
   ]
  },
  {
   "cell_type": "code",
   "execution_count": 58,
   "id": "b1f065a7",
   "metadata": {},
   "outputs": [
    {
     "data": {
      "text/plain": [
       "<Axes: >"
      ]
     },
     "execution_count": 58,
     "metadata": {},
     "output_type": "execute_result"
    },
    {
     "data": {
      "image/png": "[encoded data removed]",
      "text/plain": [
       "<Figure size 400x300 with 1 Axes>"
      ]
     },
     "metadata": {},
     "output_type": "display_data"
    }
   ],
   "source": [
    "Discount_Amount_series.plot(kind = 'box', figsize = (4,3))"
   ]
  },
  {
   "cell_type": "code",
   "execution_count": 59,
   "id": "a45e7ade",
   "metadata": {},
   "outputs": [
    {
     "data": {
      "text/plain": [
       "<Axes: ylabel='Frequency'>"
      ]
     },
     "execution_count": 59,
     "metadata": {},
     "output_type": "execute_result"
    },
    {
     "data": {
      "image/png": "[encoded data removed]",
      "text/plain": [
       "<Figure size 400x300 with 1 Axes>"
      ]
     },
     "metadata": {},
     "output_type": "display_data"
    }
   ],
   "source": [
    "Net_sales_series.plot(kind = 'hist', figsize = (4,3), bins = 5)"
   ]
  },
  {
   "cell_type": "code",
   "execution_count": 60,
   "id": "ec00eafe",
   "metadata": {},
   "outputs": [
    {
     "data": {
      "text/plain": [
       "(1.5408217575344376, 1.0124678624199062)"
      ]
     },
     "execution_count": 60,
     "metadata": {},
     "output_type": "execute_result"
    }
   ],
   "source": [
    "Net_sales_series.skew(), Net_sales_series.kurt()"
   ]
  },
  {
   "cell_type": "markdown",
   "id": "7c21ee5a",
   "metadata": {},
   "source": [
    "The net sales distribution has more values on the right side of its peak than on the left. Positive kurtosis indicates that the net sales distribution is more peaked than a normal distribution."
   ]
  },
  {
   "cell_type": "code",
   "execution_count": 61,
   "id": "90cb070d",
   "metadata": {},
   "outputs": [
    {
     "data": {
      "text/plain": [
       "22822.852103135076"
      ]
     },
     "execution_count": 61,
     "metadata": {},
     "output_type": "execute_result"
    }
   ],
   "source": [
    "Q1 = Net_sales_series.quantile(0.25)\n",
    "Q3 = Net_sales_series.quantile(0.75)\n",
    "IQR = (Q3 - Q1) / 2\n",
    "IQR"
   ]
  },
  {
   "cell_type": "code",
   "execution_count": 62,
   "id": "8d2fdfe0",
   "metadata": {},
   "outputs": [
    {
     "data": {
      "text/plain": [
       "[-32032.06950938138, 82082.19100629399]"
      ]
     },
     "execution_count": 62,
     "metadata": {},
     "output_type": "execute_result"
    }
   ],
   "source": [
    "Lower_Quartile = Q1 - 1.5*(IQR)\n",
    "Upper_Quartile = Q3 + 1.5*(IQR)\n",
    "[Lower_Quartile, Upper_Quartile]"
   ]
  },
  {
   "cell_type": "code",
   "execution_count": 63,
   "id": "f90db97e",
   "metadata": {},
   "outputs": [
    {
     "data": {
      "text/plain": [
       "81"
      ]
     },
     "execution_count": 63,
     "metadata": {},
     "output_type": "execute_result"
    }
   ],
   "source": [
    "Net_sales_series[Net_sales_series > Upper_Quartile].count()"
   ]
  },
  {
   "cell_type": "code",
   "execution_count": 64,
   "id": "e4c1e2d6",
   "metadata": {},
   "outputs": [
    {
     "data": {
      "text/plain": [
       "0"
      ]
     },
     "execution_count": 64,
     "metadata": {},
     "output_type": "execute_result"
    }
   ],
   "source": [
    "Net_sales_series[Net_sales_series < Lower_Quartile].count()"
   ]
  },
  {
   "cell_type": "markdown",
   "id": "3cabfd8f",
   "metadata": {},
   "source": [
    "There are 81 outliers in the net sales column."
   ]
  },
  {
   "cell_type": "code",
   "execution_count": 65,
   "id": "e169209e",
   "metadata": {},
   "outputs": [
    {
     "data": {
      "text/plain": [
       "<Axes: >"
      ]
     },
     "execution_count": 65,
     "metadata": {},
     "output_type": "execute_result"
    },
    {
     "data": {
      "image/png": "[encoded data removed]",
      "text/plain": [
       "<Figure size 400x300 with 1 Axes>"
      ]
     },
     "metadata": {},
     "output_type": "display_data"
    }
   ],
   "source": [
    "Net_sales_series.plot(kind = 'box', figsize = (4,3))"
   ]
  },
  {
   "cell_type": "code",
   "execution_count": 66,
   "id": "8b90eccf",
   "metadata": {},
   "outputs": [
    {
     "data": {
      "text/html": [
       "<div>\n",
       "<style scoped>\n",
       "    .dataframe tbody tr th:only-of-type {\n",
       "        vertical-align: middle;\n",
       "    }\n",
       "\n",
       "    .dataframe tbody tr th {\n",
       "        vertical-align: top;\n",
       "    }\n",
       "\n",
       "    .dataframe thead th {\n",
       "        text-align: right;\n",
       "    }\n",
       "</style>\n",
       "<table border=\"1\" class=\"dataframe\">\n",
       "  <thead>\n",
       "    <tr style=\"text-align: right;\">\n",
       "      <th></th>\n",
       "      <th>Date</th>\n",
       "      <th>Day</th>\n",
       "      <th>SKU</th>\n",
       "      <th>City</th>\n",
       "      <th>BU</th>\n",
       "      <th>Brand</th>\n",
       "      <th>Model</th>\n",
       "    </tr>\n",
       "  </thead>\n",
       "  <tbody>\n",
       "    <tr>\n",
       "      <th>0</th>\n",
       "      <td>01-04-2021</td>\n",
       "      <td>Thursday</td>\n",
       "      <td>M01</td>\n",
       "      <td>C</td>\n",
       "      <td>Mobiles</td>\n",
       "      <td>RealU</td>\n",
       "      <td>RU-10</td>\n",
       "    </tr>\n",
       "    <tr>\n",
       "      <th>1</th>\n",
       "      <td>01-04-2021</td>\n",
       "      <td>Thursday</td>\n",
       "      <td>M02</td>\n",
       "      <td>C</td>\n",
       "      <td>Mobiles</td>\n",
       "      <td>RealU</td>\n",
       "      <td>RU-9 Plus</td>\n",
       "    </tr>\n",
       "    <tr>\n",
       "      <th>2</th>\n",
       "      <td>01-04-2021</td>\n",
       "      <td>Thursday</td>\n",
       "      <td>M03</td>\n",
       "      <td>C</td>\n",
       "      <td>Mobiles</td>\n",
       "      <td>YouM</td>\n",
       "      <td>YM-99</td>\n",
       "    </tr>\n",
       "    <tr>\n",
       "      <th>3</th>\n",
       "      <td>01-04-2021</td>\n",
       "      <td>Thursday</td>\n",
       "      <td>M04</td>\n",
       "      <td>C</td>\n",
       "      <td>Mobiles</td>\n",
       "      <td>YouM</td>\n",
       "      <td>YM-99 Plus</td>\n",
       "    </tr>\n",
       "    <tr>\n",
       "      <th>4</th>\n",
       "      <td>01-04-2021</td>\n",
       "      <td>Thursday</td>\n",
       "      <td>M05</td>\n",
       "      <td>C</td>\n",
       "      <td>Mobiles</td>\n",
       "      <td>YouM</td>\n",
       "      <td>YM-98</td>\n",
       "    </tr>\n",
       "    <tr>\n",
       "      <th>...</th>\n",
       "      <td>...</td>\n",
       "      <td>...</td>\n",
       "      <td>...</td>\n",
       "      <td>...</td>\n",
       "      <td>...</td>\n",
       "      <td>...</td>\n",
       "      <td>...</td>\n",
       "    </tr>\n",
       "    <tr>\n",
       "      <th>445</th>\n",
       "      <td>15-04-2021</td>\n",
       "      <td>Thursday</td>\n",
       "      <td>L06</td>\n",
       "      <td>C</td>\n",
       "      <td>Lifestyle</td>\n",
       "      <td>Jeera</td>\n",
       "      <td>M-Casuals</td>\n",
       "    </tr>\n",
       "    <tr>\n",
       "      <th>446</th>\n",
       "      <td>15-04-2021</td>\n",
       "      <td>Thursday</td>\n",
       "      <td>L07</td>\n",
       "      <td>C</td>\n",
       "      <td>Lifestyle</td>\n",
       "      <td>Viva</td>\n",
       "      <td>W-Western</td>\n",
       "    </tr>\n",
       "    <tr>\n",
       "      <th>447</th>\n",
       "      <td>15-04-2021</td>\n",
       "      <td>Thursday</td>\n",
       "      <td>L08</td>\n",
       "      <td>C</td>\n",
       "      <td>Lifestyle</td>\n",
       "      <td>Viva</td>\n",
       "      <td>W-Lounge</td>\n",
       "    </tr>\n",
       "    <tr>\n",
       "      <th>448</th>\n",
       "      <td>15-04-2021</td>\n",
       "      <td>Thursday</td>\n",
       "      <td>L09</td>\n",
       "      <td>C</td>\n",
       "      <td>Lifestyle</td>\n",
       "      <td>Jeera</td>\n",
       "      <td>M-Formals</td>\n",
       "    </tr>\n",
       "    <tr>\n",
       "      <th>449</th>\n",
       "      <td>15-04-2021</td>\n",
       "      <td>Thursday</td>\n",
       "      <td>L10</td>\n",
       "      <td>C</td>\n",
       "      <td>Lifestyle</td>\n",
       "      <td>Jeera</td>\n",
       "      <td>M-Shoes</td>\n",
       "    </tr>\n",
       "  </tbody>\n",
       "</table>\n",
       "<p>450 rows × 7 columns</p>\n",
       "</div>"
      ],
      "text/plain": [
       "           Date       Day  SKU City         BU  Brand       Model\n",
       "0    01-04-2021  Thursday  M01    C    Mobiles  RealU       RU-10\n",
       "1    01-04-2021  Thursday  M02    C    Mobiles  RealU   RU-9 Plus\n",
       "2    01-04-2021  Thursday  M03    C    Mobiles   YouM       YM-99\n",
       "3    01-04-2021  Thursday  M04    C    Mobiles   YouM  YM-99 Plus\n",
       "4    01-04-2021  Thursday  M05    C    Mobiles   YouM      YM-98 \n",
       "..          ...       ...  ...  ...        ...    ...         ...\n",
       "445  15-04-2021  Thursday  L06    C  Lifestyle  Jeera   M-Casuals\n",
       "446  15-04-2021  Thursday  L07    C  Lifestyle   Viva   W-Western\n",
       "447  15-04-2021  Thursday  L08    C  Lifestyle   Viva    W-Lounge\n",
       "448  15-04-2021  Thursday  L09    C  Lifestyle  Jeera   M-Formals\n",
       "449  15-04-2021  Thursday  L10    C  Lifestyle  Jeera     M-Shoes\n",
       "\n",
       "[450 rows x 7 columns]"
      ]
     },
     "execution_count": 66,
     "metadata": {},
     "output_type": "execute_result"
    }
   ],
   "source": [
    "sales_df.select_dtypes('object')"
   ]
  },
  {
   "cell_type": "code",
   "execution_count": 67,
   "id": "1671007b",
   "metadata": {},
   "outputs": [
    {
     "data": {
      "text/plain": [
       "<Axes: >"
      ]
     },
     "execution_count": 67,
     "metadata": {},
     "output_type": "execute_result"
    },
    {
     "data": {
      "image/png": "[encoded data removed]",
      "text/plain": [
       "<Figure size 640x480 with 1 Axes>"
      ]
     },
     "metadata": {},
     "output_type": "display_data"
    }
   ],
   "source": [
    "sales_df['Day'].value_counts().plot(kind='bar')"
   ]
  },
  {
   "cell_type": "markdown",
   "id": "390cb255",
   "metadata": {},
   "source": [
    "We can observe that Thursday has more observations as compared to other days of a week."
   ]
  },
  {
   "cell_type": "code",
   "execution_count": 68,
   "id": "70b42201",
   "metadata": {},
   "outputs": [
    {
     "data": {
      "text/plain": [
       "<Axes: >"
      ]
     },
     "execution_count": 68,
     "metadata": {},
     "output_type": "execute_result"
    },
    {
     "data": {
      "image/png": "[encoded data removed]",
      "text/plain": [
       "<Figure size 640x480 with 1 Axes>"
      ]
     },
     "metadata": {},
     "output_type": "display_data"
    }
   ],
   "source": [
    "sales_df['SKU'].value_counts().plot(kind='bar')"
   ]
  },
  {
   "cell_type": "code",
   "execution_count": 69,
   "id": "47712c1f",
   "metadata": {},
   "outputs": [
    {
     "data": {
      "text/plain": [
       "<Axes: >"
      ]
     },
     "execution_count": 69,
     "metadata": {},
     "output_type": "execute_result"
    },
    {
     "data": {
      "image/png": "[encoded data removed]",
      "text/plain": [
       "<Figure size 640x480 with 1 Axes>"
      ]
     },
     "metadata": {},
     "output_type": "display_data"
    }
   ],
   "source": [
    "sales_df['City'].value_counts().plot(kind='bar')"
   ]
  },
  {
   "cell_type": "code",
   "execution_count": 70,
   "id": "9c4797bb",
   "metadata": {},
   "outputs": [
    {
     "data": {
      "text/plain": [
       "<Axes: >"
      ]
     },
     "execution_count": 70,
     "metadata": {},
     "output_type": "execute_result"
    },
    {
     "data": {
      "image/png": "[encoded data removed]",
      "text/plain": [
       "<Figure size 640x480 with 1 Axes>"
      ]
     },
     "metadata": {},
     "output_type": "display_data"
    }
   ],
   "source": [
    "sales_df['BU'].value_counts().plot(kind='bar')"
   ]
  },
  {
   "cell_type": "code",
   "execution_count": 71,
   "id": "ff93f55a",
   "metadata": {},
   "outputs": [
    {
     "data": {
      "text/plain": [
       "<Axes: >"
      ]
     },
     "execution_count": 71,
     "metadata": {},
     "output_type": "execute_result"
    },
    {
     "data": {
      "image/png": "[encoded data removed]",
      "text/plain": [
       "<Figure size 640x480 with 1 Axes>"
      ]
     },
     "metadata": {},
     "output_type": "display_data"
    }
   ],
   "source": [
    "sales_df['Brand'].value_counts().plot(kind='bar')"
   ]
  },
  {
   "cell_type": "markdown",
   "id": "6755c56a",
   "metadata": {},
   "source": [
    "The Jeera brand has the maximum observations while Sumsang and Orange have the lowest."
   ]
  },
  {
   "cell_type": "code",
   "execution_count": 72,
   "id": "dca814a8",
   "metadata": {},
   "outputs": [
    {
     "data": {
      "text/plain": [
       "<Axes: >"
      ]
     },
     "execution_count": 72,
     "metadata": {},
     "output_type": "execute_result"
    },
    {
     "data": {
      "image/png": "[encoded data removed]",
      "text/plain": [
       "<Figure size 640x480 with 1 Axes>"
      ]
     },
     "metadata": {},
     "output_type": "display_data"
    }
   ],
   "source": [
    "sales_df['Model'].value_counts().plot(kind='bar')"
   ]
  },
  {
   "cell_type": "markdown",
   "id": "2e7d279c",
   "metadata": {},
   "source": [
    "# Standardization"
   ]
  },
  {
   "cell_type": "code",
   "execution_count": 73,
   "id": "b8074f06",
   "metadata": {},
   "outputs": [
    {
     "data": {
      "text/plain": [
       "array([15, 10,  7,  6,  3,  3,  3,  2,  2,  3, 13,  4,  4,  9,  5,  5,  3,\n",
       "        3,  1,  4, 10,  8,  7,  5,  5,  4,  5,  3,  1,  3, 11,  8,  7,  6,\n",
       "        2,  3,  3,  1,  3,  3, 29,  8,  6,  9,  7,  3,  3,  1,  2,  3, 13,\n",
       "        3,  4,  6,  7,  6,  4,  3,  1,  2,  5,  5,  5,  5,  4,  2,  4,  1,\n",
       "        1,  2, 24, 14,  4,  6,  6,  6,  5,  3,  2,  4, 12,  9,  5,  5,  3,\n",
       "        3,  6,  3,  3,  1,  9,  9,  3,  6,  3,  2,  3,  2,  2,  2, 25, 15,\n",
       "       11,  7,  6,  4,  4,  4,  3,  1, 10, 10,  3,  3,  7,  5,  4,  2,  1,\n",
       "        3,  3,  6,  5,  3,  3,  3,  3,  3,  2,  2, 15,  7, 10,  8,  4,  4,\n",
       "        4,  2,  2,  2, 14,  3,  2,  5,  4,  4,  4,  2,  3,  1,  7,  6,  4,\n",
       "        6,  5,  2,  2,  3,  2,  2,  9, 12,  8,  2,  3,  6,  2,  1,  2,  3,\n",
       "       12,  6,  6,  6,  7,  3,  5,  3,  3,  1, 12,  2,  7,  4,  4,  3,  3,\n",
       "        3,  3,  3, 22, 10, 11, 11,  2,  3,  2,  2,  4,  3, 12, 12,  7,  3,\n",
       "        3,  4,  4,  3,  2,  1, 14,  7,  7,  5,  6,  3,  3,  2,  2,  1,  2,\n",
       "       11, 11,  2,  5,  4,  3,  2,  3,  3,  7,  9,  7,  3,  6,  3,  5,  2,\n",
       "        3,  2, 15,  7,  7,  7,  5,  2,  3,  2,  2,  1, 31, 12,  7,  4,  8,\n",
       "        2,  4,  2,  2,  1, 16,  6,  5,  2,  5,  4,  3,  2,  2,  1,  3,  6,\n",
       "        4,  5,  4,  4,  2,  2,  3,  2, 24, 11, 12,  4,  3,  3,  3,  3,  2,\n",
       "        2,  5,  4,  5,  4,  5,  5,  5,  1,  3,  2, 12,  7,  6,  4,  4,  3,\n",
       "        3,  1,  3,  3, 22,  2, 11,  6,  4,  2,  4,  2,  2,  3, 13,  9,  5,\n",
       "        4,  6,  6,  4,  3,  3,  1,  4,  7,  3,  6,  4,  3,  2,  1,  3,  3,\n",
       "       15,  7,  3,  8,  5,  3,  4,  3,  3,  4, 12,  8,  2,  4,  6,  4,  4,\n",
       "        1,  2,  1,  9,  6,  7,  7,  5,  3,  3,  1,  2,  2, 14, 14,  3,  7,\n",
       "        7,  5,  4,  2,  3,  3,  4,  6,  6,  3,  5,  3,  4,  4,  3,  3, 11,\n",
       "        7,  6,  3,  4,  3,  3,  2,  2,  2, 29,  2,  5,  4,  7,  6,  4,  2,\n",
       "        3,  3, 15,  7,  6,  5,  6,  3,  4,  3,  2,  2, 13,  6,  4,  5,  3,\n",
       "        3,  3,  1,  3,  2,  2, 17,  4,  5,  7,  4,  3,  3,  2,  4, 10,  3,\n",
       "        7,  3,  6,  2,  6,  2,  3,  1], dtype=int64)"
      ]
     },
     "execution_count": 73,
     "metadata": {},
     "output_type": "execute_result"
    }
   ],
   "source": [
    "volume = np.array(sales_df['Volume'])\n",
    "volume"
   ]
  },
  {
   "cell_type": "code",
   "execution_count": 74,
   "id": "ba3891c5",
   "metadata": {},
   "outputs": [
    {
     "data": {
      "text/plain": [
       "5.066666666666666"
      ]
     },
     "execution_count": 74,
     "metadata": {},
     "output_type": "execute_result"
    }
   ],
   "source": [
    "mean_volume = np.mean(volume)\n",
    "mean_volume"
   ]
  },
  {
   "cell_type": "code",
   "execution_count": 75,
   "id": "027f85e3",
   "metadata": {},
   "outputs": [
    {
     "data": {
      "text/plain": [
       "4.226897995772629"
      ]
     },
     "execution_count": 75,
     "metadata": {},
     "output_type": "execute_result"
    }
   ],
   "source": [
    "std_volume = np.std(volume)\n",
    "std_volume"
   ]
  },
  {
   "cell_type": "code",
   "execution_count": 76,
   "id": "b30f5a56",
   "metadata": {},
   "outputs": [
    {
     "name": "stdout",
     "output_type": "stream",
     "text": [
      "Original Volumes:  [15 10  7  6  3  3  3  2  2  3 13  4  4  9  5  5  3  3  1  4 10  8  7  5\n",
      "  5  4  5  3  1  3 11  8  7  6  2  3  3  1  3  3 29  8  6  9  7  3  3  1\n",
      "  2  3 13  3  4  6  7  6  4  3  1  2  5  5  5  5  4  2  4  1  1  2 24 14\n",
      "  4  6  6  6  5  3  2  4 12  9  5  5  3  3  6  3  3  1  9  9  3  6  3  2\n",
      "  3  2  2  2 25 15 11  7  6  4  4  4  3  1 10 10  3  3  7  5  4  2  1  3\n",
      "  3  6  5  3  3  3  3  3  2  2 15  7 10  8  4  4  4  2  2  2 14  3  2  5\n",
      "  4  4  4  2  3  1  7  6  4  6  5  2  2  3  2  2  9 12  8  2  3  6  2  1\n",
      "  2  3 12  6  6  6  7  3  5  3  3  1 12  2  7  4  4  3  3  3  3  3 22 10\n",
      " 11 11  2  3  2  2  4  3 12 12  7  3  3  4  4  3  2  1 14  7  7  5  6  3\n",
      "  3  2  2  1  2 11 11  2  5  4  3  2  3  3  7  9  7  3  6  3  5  2  3  2\n",
      " 15  7  7  7  5  2  3  2  2  1 31 12  7  4  8  2  4  2  2  1 16  6  5  2\n",
      "  5  4  3  2  2  1  3  6  4  5  4  4  2  2  3  2 24 11 12  4  3  3  3  3\n",
      "  2  2  5  4  5  4  5  5  5  1  3  2 12  7  6  4  4  3  3  1  3  3 22  2\n",
      " 11  6  4  2  4  2  2  3 13  9  5  4  6  6  4  3  3  1  4  7  3  6  4  3\n",
      "  2  1  3  3 15  7  3  8  5  3  4  3  3  4 12  8  2  4  6  4  4  1  2  1\n",
      "  9  6  7  7  5  3  3  1  2  2 14 14  3  7  7  5  4  2  3  3  4  6  6  3\n",
      "  5  3  4  4  3  3 11  7  6  3  4  3  3  2  2  2 29  2  5  4  7  6  4  2\n",
      "  3  3 15  7  6  5  6  3  4  3  2  2 13  6  4  5  3  3  3  1  3  2  2 17\n",
      "  4  5  7  4  3  3  2  4 10  3  7  3  6  2  6  2  3  1]\n",
      "Mean:  5.066666666666666\n",
      "Standard Deviation:  4.226897995772629\n",
      "Z-scores:  [ 2.35002911  1.16712855  0.45738822  0.2208081  -0.48893223 -0.48893223\n",
      " -0.48893223 -0.72551234 -0.72551234 -0.48893223  1.87686889 -0.25235212\n",
      " -0.25235212  0.93054844 -0.01577201 -0.01577201 -0.48893223 -0.48893223\n",
      " -0.96209245 -0.25235212  1.16712855  0.69396833  0.45738822 -0.01577201\n",
      " -0.01577201 -0.25235212 -0.01577201 -0.48893223 -0.96209245 -0.48893223\n",
      "  1.40370866  0.69396833  0.45738822  0.2208081  -0.72551234 -0.48893223\n",
      " -0.48893223 -0.96209245 -0.48893223 -0.48893223  5.66215067  0.69396833\n",
      "  0.2208081   0.93054844  0.45738822 -0.48893223 -0.48893223 -0.96209245\n",
      " -0.72551234 -0.48893223  1.87686889 -0.48893223 -0.25235212  0.2208081\n",
      "  0.45738822  0.2208081  -0.25235212 -0.48893223 -0.96209245 -0.72551234\n",
      " -0.01577201 -0.01577201 -0.01577201 -0.01577201 -0.25235212 -0.72551234\n",
      " -0.25235212 -0.96209245 -0.96209245 -0.72551234  4.47925011  2.113449\n",
      " -0.25235212  0.2208081   0.2208081   0.2208081  -0.01577201 -0.48893223\n",
      " -0.72551234 -0.25235212  1.64028877  0.93054844 -0.01577201 -0.01577201\n",
      " -0.48893223 -0.48893223  0.2208081  -0.48893223 -0.48893223 -0.96209245\n",
      "  0.93054844  0.93054844 -0.48893223  0.2208081  -0.48893223 -0.72551234\n",
      " -0.48893223 -0.72551234 -0.72551234 -0.72551234  4.71583023  2.35002911\n",
      "  1.40370866  0.45738822  0.2208081  -0.25235212 -0.25235212 -0.25235212\n",
      " -0.48893223 -0.96209245  1.16712855  1.16712855 -0.48893223 -0.48893223\n",
      "  0.45738822 -0.01577201 -0.25235212 -0.72551234 -0.96209245 -0.48893223\n",
      " -0.48893223  0.2208081  -0.01577201 -0.48893223 -0.48893223 -0.48893223\n",
      " -0.48893223 -0.48893223 -0.72551234 -0.72551234  2.35002911  0.45738822\n",
      "  1.16712855  0.69396833 -0.25235212 -0.25235212 -0.25235212 -0.72551234\n",
      " -0.72551234 -0.72551234  2.113449   -0.48893223 -0.72551234 -0.01577201\n",
      " -0.25235212 -0.25235212 -0.25235212 -0.72551234 -0.48893223 -0.96209245\n",
      "  0.45738822  0.2208081  -0.25235212  0.2208081  -0.01577201 -0.72551234\n",
      " -0.72551234 -0.48893223 -0.72551234 -0.72551234  0.93054844  1.64028877\n",
      "  0.69396833 -0.72551234 -0.48893223  0.2208081  -0.72551234 -0.96209245\n",
      " -0.72551234 -0.48893223  1.64028877  0.2208081   0.2208081   0.2208081\n",
      "  0.45738822 -0.48893223 -0.01577201 -0.48893223 -0.48893223 -0.96209245\n",
      "  1.64028877 -0.72551234  0.45738822 -0.25235212 -0.25235212 -0.48893223\n",
      " -0.48893223 -0.48893223 -0.48893223 -0.48893223  4.00608989  1.16712855\n",
      "  1.40370866  1.40370866 -0.72551234 -0.48893223 -0.72551234 -0.72551234\n",
      " -0.25235212 -0.48893223  1.64028877  1.64028877  0.45738822 -0.48893223\n",
      " -0.48893223 -0.25235212 -0.25235212 -0.48893223 -0.72551234 -0.96209245\n",
      "  2.113449    0.45738822  0.45738822 -0.01577201  0.2208081  -0.48893223\n",
      " -0.48893223 -0.72551234 -0.72551234 -0.96209245 -0.72551234  1.40370866\n",
      "  1.40370866 -0.72551234 -0.01577201 -0.25235212 -0.48893223 -0.72551234\n",
      " -0.48893223 -0.48893223  0.45738822  0.93054844  0.45738822 -0.48893223\n",
      "  0.2208081  -0.48893223 -0.01577201 -0.72551234 -0.48893223 -0.72551234\n",
      "  2.35002911  0.45738822  0.45738822  0.45738822 -0.01577201 -0.72551234\n",
      " -0.48893223 -0.72551234 -0.72551234 -0.96209245  6.1353109   1.64028877\n",
      "  0.45738822 -0.25235212  0.69396833 -0.72551234 -0.25235212 -0.72551234\n",
      " -0.72551234 -0.96209245  2.58660922  0.2208081  -0.01577201 -0.72551234\n",
      " -0.01577201 -0.25235212 -0.48893223 -0.72551234 -0.72551234 -0.96209245\n",
      " -0.48893223  0.2208081  -0.25235212 -0.01577201 -0.25235212 -0.25235212\n",
      " -0.72551234 -0.72551234 -0.48893223 -0.72551234  4.47925011  1.40370866\n",
      "  1.64028877 -0.25235212 -0.48893223 -0.48893223 -0.48893223 -0.48893223\n",
      " -0.72551234 -0.72551234 -0.01577201 -0.25235212 -0.01577201 -0.25235212\n",
      " -0.01577201 -0.01577201 -0.01577201 -0.96209245 -0.48893223 -0.72551234\n",
      "  1.64028877  0.45738822  0.2208081  -0.25235212 -0.25235212 -0.48893223\n",
      " -0.48893223 -0.96209245 -0.48893223 -0.48893223  4.00608989 -0.72551234\n",
      "  1.40370866  0.2208081  -0.25235212 -0.72551234 -0.25235212 -0.72551234\n",
      " -0.72551234 -0.48893223  1.87686889  0.93054844 -0.01577201 -0.25235212\n",
      "  0.2208081   0.2208081  -0.25235212 -0.48893223 -0.48893223 -0.96209245\n",
      " -0.25235212  0.45738822 -0.48893223  0.2208081  -0.25235212 -0.48893223\n",
      " -0.72551234 -0.96209245 -0.48893223 -0.48893223  2.35002911  0.45738822\n",
      " -0.48893223  0.69396833 -0.01577201 -0.48893223 -0.25235212 -0.48893223\n",
      " -0.48893223 -0.25235212  1.64028877  0.69396833 -0.72551234 -0.25235212\n",
      "  0.2208081  -0.25235212 -0.25235212 -0.96209245 -0.72551234 -0.96209245\n",
      "  0.93054844  0.2208081   0.45738822  0.45738822 -0.01577201 -0.48893223\n",
      " -0.48893223 -0.96209245 -0.72551234 -0.72551234  2.113449    2.113449\n",
      " -0.48893223  0.45738822  0.45738822 -0.01577201 -0.25235212 -0.72551234\n",
      " -0.48893223 -0.48893223 -0.25235212  0.2208081   0.2208081  -0.48893223\n",
      " -0.01577201 -0.48893223 -0.25235212 -0.25235212 -0.48893223 -0.48893223\n",
      "  1.40370866  0.45738822  0.2208081  -0.48893223 -0.25235212 -0.48893223\n",
      " -0.48893223 -0.72551234 -0.72551234 -0.72551234  5.66215067 -0.72551234\n",
      " -0.01577201 -0.25235212  0.45738822  0.2208081  -0.25235212 -0.72551234\n",
      " -0.48893223 -0.48893223  2.35002911  0.45738822  0.2208081  -0.01577201\n",
      "  0.2208081  -0.48893223 -0.25235212 -0.48893223 -0.72551234 -0.72551234\n",
      "  1.87686889  0.2208081  -0.25235212 -0.01577201 -0.48893223 -0.48893223\n",
      " -0.48893223 -0.96209245 -0.48893223 -0.72551234 -0.72551234  2.82318933\n",
      " -0.25235212 -0.01577201  0.45738822 -0.25235212 -0.48893223 -0.48893223\n",
      " -0.72551234 -0.25235212  1.16712855 -0.48893223  0.45738822 -0.48893223\n",
      "  0.2208081  -0.72551234  0.2208081  -0.72551234 -0.48893223 -0.96209245]\n"
     ]
    }
   ],
   "source": [
    "z_scores = (volume - mean_volume) / std_volume\n",
    "print(\"Original Volumes: \", volume)\n",
    "print(\"Mean: \", mean_volume)\n",
    "print(\"Standard Deviation: \", std_volume)\n",
    "print(\"Z-scores: \", z_scores)"
   ]
  },
  {
   "cell_type": "code",
   "execution_count": 77,
   "id": "8def73cd",
   "metadata": {},
   "outputs": [
    {
     "name": "stdout",
     "output_type": "stream",
     "text": [
      "Outliers: [29 24 25 22 31 24 22 29]\n"
     ]
    },
    {
     "data": {
      "image/png": "[encoded data removed]",
      "text/plain": [
       "<Figure size 1000x600 with 1 Axes>"
      ]
     },
     "metadata": {},
     "output_type": "display_data"
    }
   ],
   "source": [
    "#Outlier detection: Z-scores beyond ±3 are considered outliers\n",
    "outliers = np.where(np.abs(z_scores) > 3)\n",
    "print(\"Outliers:\", volume[outliers])\n",
    "\n",
    "# Visualizing the data\n",
    "import matplotlib.pyplot as plt\n",
    "plt.figure(figsize=(10, 6))\n",
    "plt.plot(volume, 'bo-', label='Original Data')\n",
    "plt.plot(outliers[0], volume[outliers], 'ro', label='Outliers')\n",
    "plt.axhline(mean_volume, color='g', linestyle='--', label='Mean')\n",
    "plt.xlabel('Index')\n",
    "plt.ylabel('Value')\n",
    "plt.title('Volume data with Outliers Detected')\n",
    "plt.legend()\n",
    "plt.show()"
   ]
  },
  {
   "cell_type": "code",
   "execution_count": 78,
   "id": "ae84f270",
   "metadata": {},
   "outputs": [
    {
     "data": {
      "text/plain": [
       "array([12100, 10100, 16100, 20100,  8100,  8100, 49100, 54100, 55100,\n",
       "       60100,   400,   300,   390,   465,   290,   450,   500,   400,\n",
       "         560,  1099,   450,   500,   900,  1300,  2099,  1300,  2600,\n",
       "        1600,  1900,  3100, 12100, 10100, 16100, 20100,  8100,  8100,\n",
       "       49100, 54100, 55100, 60100,   400,   300,   390,   465,   290,\n",
       "         450,   500,   400,   560,  1099,   450,   500,   900,  1300,\n",
       "        2099,  1300,  2600,  1600,  1900,  3100, 12100, 10100, 16100,\n",
       "       20100,  8100,  8100, 49100, 54100, 55100, 60100,   400,   300,\n",
       "         390,   465,   290,   450,   500,   400,   560,  1099,   450,\n",
       "         500,   900,  1300,  2099,  1300,  2600,  1600,  1900,  3100,\n",
       "       12100, 10100, 16100, 20100,  8100,  8100, 49100, 54100, 55100,\n",
       "       60100,   400,   300,   390,   465,   290,   450,   500,   400,\n",
       "         560,  1099,   450,   500,   900,  1300,  2099,  1300,  2600,\n",
       "        1600,  1900,  3100, 12100, 10100, 16100, 20100,  8100,  8100,\n",
       "       49100, 54100, 55100, 60100,   400,   300,   390,   465,   290,\n",
       "         450,   500,   400,   560,  1099,   450,   500,   900,  1300,\n",
       "        2099,  1300,  2600,  1600,  1900,  3100, 12100, 10100, 16100,\n",
       "       20100,  8100,  8100, 49100, 54100, 55100, 60100,   400,   300,\n",
       "         390,   465,   290,   450,   500,   400,   560,  1099,   450,\n",
       "         500,   900,  1300,  2099,  1300,  2600,  1600,  1900,  3100,\n",
       "       12100, 10100, 16100, 20100,  8100,  8100, 49100, 54100, 55100,\n",
       "       60100,   400,   300,   390,   465,   290,   450,   500,   400,\n",
       "         560,  1099,   450,   500,   900,  1300,  2099,  1300,  2600,\n",
       "        1600,  1900,  3100, 12100, 10100, 16100, 20100,  8100,  8100,\n",
       "       49100, 54100, 55100, 60100,   400,   300,   390,   465,   290,\n",
       "         450,   500,   400,   560,  1099,   450,   500,   900,  1300,\n",
       "        2099,  1300,  2600,  1600,  1900,  3100, 12100, 10100, 16100,\n",
       "       20100,  8100,  8100, 49100, 54100, 55100, 60100,   400,   300,\n",
       "         390,   465,   290,   450,   500,   400,   560,  1099,   450,\n",
       "         500,   900,  1300,  2099,  1300,  2600,  1600,  1900,  3100,\n",
       "       12100, 10100, 16100, 20100,  8100,  8100, 49100, 54100, 55100,\n",
       "       60100,   400,   300,   390,   465,   290,   450,   500,   400,\n",
       "         560,  1099,   450,   500,   900,  1300,  2099,  1300,  2600,\n",
       "        1600,  1900,  3100, 12100, 10100, 16100, 20100,  8100,  8100,\n",
       "       49100, 54100, 55100, 60100,   400,   300,   390,   465,   290,\n",
       "         450,   500,   400,   560,  1099,   450,   500,   900,  1300,\n",
       "        2099,  1300,  2600,  1600,  1900,  3100, 12100, 10100, 16100,\n",
       "       20100,  8100,  8100, 49100, 54100, 55100, 60100,   400,   300,\n",
       "         390,   465,   290,   450,   500,   400,   560,  1099,   450,\n",
       "         500,   900,  1300,  2099,  1300,  2600,  1600,  1900,  3100,\n",
       "       12100, 10100, 16100, 20100,  8100,  8100, 49100, 54100, 55100,\n",
       "       60100,   400,   300,   390,   465,   290,   450,   500,   400,\n",
       "         560,  1099,   450,   500,   900,  1300,  2099,  1300,  2600,\n",
       "        1600,  1900,  3100, 12100, 10100, 16100, 20100,  8100,  8100,\n",
       "       49100, 54100, 55100, 60100,   400,   300,   390,   465,   290,\n",
       "         450,   500,   400,   560,  1099,   450,   500,   900,  1300,\n",
       "        2099,  1300,  2600,  1600,  1900,  3100, 12100, 10100, 16100,\n",
       "       20100,  8100,  8100, 49100, 54100, 55100, 60100,   400,   300,\n",
       "         390,   465,   290,   450,   500,   400,   560,  1099,   450,\n",
       "         500,   900,  1300,  2099,  1300,  2600,  1600,  1900,  3100],\n",
       "      dtype=int64)"
      ]
     },
     "execution_count": 78,
     "metadata": {},
     "output_type": "execute_result"
    }
   ],
   "source": [
    "avg_price = np.array(sales_df['Avg Price'])\n",
    "avg_price"
   ]
  },
  {
   "cell_type": "code",
   "execution_count": 79,
   "id": "539f2364",
   "metadata": {},
   "outputs": [
    {
     "data": {
      "text/plain": [
       "10453.433333333332"
      ]
     },
     "execution_count": 79,
     "metadata": {},
     "output_type": "execute_result"
    }
   ],
   "source": [
    "mean_avg_price = np.mean(avg_price)\n",
    "mean_avg_price"
   ]
  },
  {
   "cell_type": "code",
   "execution_count": 80,
   "id": "1a4c6f84",
   "metadata": {},
   "outputs": [
    {
     "data": {
      "text/plain": [
       "18059.804883928166"
      ]
     },
     "execution_count": 80,
     "metadata": {},
     "output_type": "execute_result"
    }
   ],
   "source": [
    "std_avg_price = np.std(avg_price)\n",
    "std_avg_price"
   ]
  },
  {
   "cell_type": "code",
   "execution_count": 81,
   "id": "20ccef0e",
   "metadata": {},
   "outputs": [
    {
     "name": "stdout",
     "output_type": "stream",
     "text": [
      "Original Prices:  [12100 10100 16100 20100  8100  8100 49100 54100 55100 60100   400   300\n",
      "   390   465   290   450   500   400   560  1099   450   500   900  1300\n",
      "  2099  1300  2600  1600  1900  3100 12100 10100 16100 20100  8100  8100\n",
      " 49100 54100 55100 60100   400   300   390   465   290   450   500   400\n",
      "   560  1099   450   500   900  1300  2099  1300  2600  1600  1900  3100\n",
      " 12100 10100 16100 20100  8100  8100 49100 54100 55100 60100   400   300\n",
      "   390   465   290   450   500   400   560  1099   450   500   900  1300\n",
      "  2099  1300  2600  1600  1900  3100 12100 10100 16100 20100  8100  8100\n",
      " 49100 54100 55100 60100   400   300   390   465   290   450   500   400\n",
      "   560  1099   450   500   900  1300  2099  1300  2600  1600  1900  3100\n",
      " 12100 10100 16100 20100  8100  8100 49100 54100 55100 60100   400   300\n",
      "   390   465   290   450   500   400   560  1099   450   500   900  1300\n",
      "  2099  1300  2600  1600  1900  3100 12100 10100 16100 20100  8100  8100\n",
      " 49100 54100 55100 60100   400   300   390   465   290   450   500   400\n",
      "   560  1099   450   500   900  1300  2099  1300  2600  1600  1900  3100\n",
      " 12100 10100 16100 20100  8100  8100 49100 54100 55100 60100   400   300\n",
      "   390   465   290   450   500   400   560  1099   450   500   900  1300\n",
      "  2099  1300  2600  1600  1900  3100 12100 10100 16100 20100  8100  8100\n",
      " 49100 54100 55100 60100   400   300   390   465   290   450   500   400\n",
      "   560  1099   450   500   900  1300  2099  1300  2600  1600  1900  3100\n",
      " 12100 10100 16100 20100  8100  8100 49100 54100 55100 60100   400   300\n",
      "   390   465   290   450   500   400   560  1099   450   500   900  1300\n",
      "  2099  1300  2600  1600  1900  3100 12100 10100 16100 20100  8100  8100\n",
      " 49100 54100 55100 60100   400   300   390   465   290   450   500   400\n",
      "   560  1099   450   500   900  1300  2099  1300  2600  1600  1900  3100\n",
      " 12100 10100 16100 20100  8100  8100 49100 54100 55100 60100   400   300\n",
      "   390   465   290   450   500   400   560  1099   450   500   900  1300\n",
      "  2099  1300  2600  1600  1900  3100 12100 10100 16100 20100  8100  8100\n",
      " 49100 54100 55100 60100   400   300   390   465   290   450   500   400\n",
      "   560  1099   450   500   900  1300  2099  1300  2600  1600  1900  3100\n",
      " 12100 10100 16100 20100  8100  8100 49100 54100 55100 60100   400   300\n",
      "   390   465   290   450   500   400   560  1099   450   500   900  1300\n",
      "  2099  1300  2600  1600  1900  3100 12100 10100 16100 20100  8100  8100\n",
      " 49100 54100 55100 60100   400   300   390   465   290   450   500   400\n",
      "   560  1099   450   500   900  1300  2099  1300  2600  1600  1900  3100\n",
      " 12100 10100 16100 20100  8100  8100 49100 54100 55100 60100   400   300\n",
      "   390   465   290   450   500   400   560  1099   450   500   900  1300\n",
      "  2099  1300  2600  1600  1900  3100]\n",
      "Mean:  10453.433333333332\n",
      "Standard Deviation:  18059.804883928166\n",
      "Z-scores:  [ 0.091173   -0.01957016  0.31265934  0.53414567 -0.13031333 -0.13031333\n",
      "  2.13992161  2.41677952  2.47215111  2.74900903 -0.55667453 -0.56221168\n",
      " -0.55722824 -0.55307537 -0.5627654  -0.55390595 -0.55113737 -0.55667453\n",
      " -0.54781507 -0.51796979 -0.55390595 -0.55113737 -0.52898873 -0.5068401\n",
      " -0.46259821 -0.5068401  -0.43485704 -0.49022863 -0.47361715 -0.40717125\n",
      "  0.091173   -0.01957016  0.31265934  0.53414567 -0.13031333 -0.13031333\n",
      "  2.13992161  2.41677952  2.47215111  2.74900903 -0.55667453 -0.56221168\n",
      " -0.55722824 -0.55307537 -0.5627654  -0.55390595 -0.55113737 -0.55667453\n",
      " -0.54781507 -0.51796979 -0.55390595 -0.55113737 -0.52898873 -0.5068401\n",
      " -0.46259821 -0.5068401  -0.43485704 -0.49022863 -0.47361715 -0.40717125\n",
      "  0.091173   -0.01957016  0.31265934  0.53414567 -0.13031333 -0.13031333\n",
      "  2.13992161  2.41677952  2.47215111  2.74900903 -0.55667453 -0.56221168\n",
      " -0.55722824 -0.55307537 -0.5627654  -0.55390595 -0.55113737 -0.55667453\n",
      " -0.54781507 -0.51796979 -0.55390595 -0.55113737 -0.52898873 -0.5068401\n",
      " -0.46259821 -0.5068401  -0.43485704 -0.49022863 -0.47361715 -0.40717125\n",
      "  0.091173   -0.01957016  0.31265934  0.53414567 -0.13031333 -0.13031333\n",
      "  2.13992161  2.41677952  2.47215111  2.74900903 -0.55667453 -0.56221168\n",
      " -0.55722824 -0.55307537 -0.5627654  -0.55390595 -0.55113737 -0.55667453\n",
      " -0.54781507 -0.51796979 -0.55390595 -0.55113737 -0.52898873 -0.5068401\n",
      " -0.46259821 -0.5068401  -0.43485704 -0.49022863 -0.47361715 -0.40717125\n",
      "  0.091173   -0.01957016  0.31265934  0.53414567 -0.13031333 -0.13031333\n",
      "  2.13992161  2.41677952  2.47215111  2.74900903 -0.55667453 -0.56221168\n",
      " -0.55722824 -0.55307537 -0.5627654  -0.55390595 -0.55113737 -0.55667453\n",
      " -0.54781507 -0.51796979 -0.55390595 -0.55113737 -0.52898873 -0.5068401\n",
      " -0.46259821 -0.5068401  -0.43485704 -0.49022863 -0.47361715 -0.40717125\n",
      "  0.091173   -0.01957016  0.31265934  0.53414567 -0.13031333 -0.13031333\n",
      "  2.13992161  2.41677952  2.47215111  2.74900903 -0.55667453 -0.56221168\n",
      " -0.55722824 -0.55307537 -0.5627654  -0.55390595 -0.55113737 -0.55667453\n",
      " -0.54781507 -0.51796979 -0.55390595 -0.55113737 -0.52898873 -0.5068401\n",
      " -0.46259821 -0.5068401  -0.43485704 -0.49022863 -0.47361715 -0.40717125\n",
      "  0.091173   -0.01957016  0.31265934  0.53414567 -0.13031333 -0.13031333\n",
      "  2.13992161  2.41677952  2.47215111  2.74900903 -0.55667453 -0.56221168\n",
      " -0.55722824 -0.55307537 -0.5627654  -0.55390595 -0.55113737 -0.55667453\n",
      " -0.54781507 -0.51796979 -0.55390595 -0.55113737 -0.52898873 -0.5068401\n",
      " -0.46259821 -0.5068401  -0.43485704 -0.49022863 -0.47361715 -0.40717125\n",
      "  0.091173   -0.01957016  0.31265934  0.53414567 -0.13031333 -0.13031333\n",
      "  2.13992161  2.41677952  2.47215111  2.74900903 -0.55667453 -0.56221168\n",
      " -0.55722824 -0.55307537 -0.5627654  -0.55390595 -0.55113737 -0.55667453\n",
      " -0.54781507 -0.51796979 -0.55390595 -0.55113737 -0.52898873 -0.5068401\n",
      " -0.46259821 -0.5068401  -0.43485704 -0.49022863 -0.47361715 -0.40717125\n",
      "  0.091173   -0.01957016  0.31265934  0.53414567 -0.13031333 -0.13031333\n",
      "  2.13992161  2.41677952  2.47215111  2.74900903 -0.55667453 -0.56221168\n",
      " -0.55722824 -0.55307537 -0.5627654  -0.55390595 -0.55113737 -0.55667453\n",
      " -0.54781507 -0.51796979 -0.55390595 -0.55113737 -0.52898873 -0.5068401\n",
      " -0.46259821 -0.5068401  -0.43485704 -0.49022863 -0.47361715 -0.40717125\n",
      "  0.091173   -0.01957016  0.31265934  0.53414567 -0.13031333 -0.13031333\n",
      "  2.13992161  2.41677952  2.47215111  2.74900903 -0.55667453 -0.56221168\n",
      " -0.55722824 -0.55307537 -0.5627654  -0.55390595 -0.55113737 -0.55667453\n",
      " -0.54781507 -0.51796979 -0.55390595 -0.55113737 -0.52898873 -0.5068401\n",
      " -0.46259821 -0.5068401  -0.43485704 -0.49022863 -0.47361715 -0.40717125\n",
      "  0.091173   -0.01957016  0.31265934  0.53414567 -0.13031333 -0.13031333\n",
      "  2.13992161  2.41677952  2.47215111  2.74900903 -0.55667453 -0.56221168\n",
      " -0.55722824 -0.55307537 -0.5627654  -0.55390595 -0.55113737 -0.55667453\n",
      " -0.54781507 -0.51796979 -0.55390595 -0.55113737 -0.52898873 -0.5068401\n",
      " -0.46259821 -0.5068401  -0.43485704 -0.49022863 -0.47361715 -0.40717125\n",
      "  0.091173   -0.01957016  0.31265934  0.53414567 -0.13031333 -0.13031333\n",
      "  2.13992161  2.41677952  2.47215111  2.74900903 -0.55667453 -0.56221168\n",
      " -0.55722824 -0.55307537 -0.5627654  -0.55390595 -0.55113737 -0.55667453\n",
      " -0.54781507 -0.51796979 -0.55390595 -0.55113737 -0.52898873 -0.5068401\n",
      " -0.46259821 -0.5068401  -0.43485704 -0.49022863 -0.47361715 -0.40717125\n",
      "  0.091173   -0.01957016  0.31265934  0.53414567 -0.13031333 -0.13031333\n",
      "  2.13992161  2.41677952  2.47215111  2.74900903 -0.55667453 -0.56221168\n",
      " -0.55722824 -0.55307537 -0.5627654  -0.55390595 -0.55113737 -0.55667453\n",
      " -0.54781507 -0.51796979 -0.55390595 -0.55113737 -0.52898873 -0.5068401\n",
      " -0.46259821 -0.5068401  -0.43485704 -0.49022863 -0.47361715 -0.40717125\n",
      "  0.091173   -0.01957016  0.31265934  0.53414567 -0.13031333 -0.13031333\n",
      "  2.13992161  2.41677952  2.47215111  2.74900903 -0.55667453 -0.56221168\n",
      " -0.55722824 -0.55307537 -0.5627654  -0.55390595 -0.55113737 -0.55667453\n",
      " -0.54781507 -0.51796979 -0.55390595 -0.55113737 -0.52898873 -0.5068401\n",
      " -0.46259821 -0.5068401  -0.43485704 -0.49022863 -0.47361715 -0.40717125\n",
      "  0.091173   -0.01957016  0.31265934  0.53414567 -0.13031333 -0.13031333\n",
      "  2.13992161  2.41677952  2.47215111  2.74900903 -0.55667453 -0.56221168\n",
      " -0.55722824 -0.55307537 -0.5627654  -0.55390595 -0.55113737 -0.55667453\n",
      " -0.54781507 -0.51796979 -0.55390595 -0.55113737 -0.52898873 -0.5068401\n",
      " -0.46259821 -0.5068401  -0.43485704 -0.49022863 -0.47361715 -0.40717125]\n"
     ]
    }
   ],
   "source": [
    "z_scores = (avg_price - mean_avg_price) / std_avg_price\n",
    "print(\"Original Prices: \", avg_price)\n",
    "print(\"Mean: \", mean_avg_price)\n",
    "print(\"Standard Deviation: \", std_avg_price)\n",
    "print(\"Z-scores: \", z_scores)"
   ]
  },
  {
   "cell_type": "code",
   "execution_count": 82,
   "id": "aacc2d75",
   "metadata": {},
   "outputs": [
    {
     "name": "stdout",
     "output_type": "stream",
     "text": [
      "Outliers: []\n"
     ]
    },
    {
     "data": {
      "image/png": "[encoded data removed]",
      "text/plain": [
       "<Figure size 1000x600 with 1 Axes>"
      ]
     },
     "metadata": {},
     "output_type": "display_data"
    }
   ],
   "source": [
    "#Outlier detection: Z-scores beyond ±3 are considered outliers\n",
    "outliers = np.where(np.abs(z_scores) > 3)\n",
    "print(\"Outliers:\", avg_price[outliers])\n",
    "\n",
    "# Visualizing the data\n",
    "import matplotlib.pyplot as plt\n",
    "plt.figure(figsize=(10, 6))\n",
    "plt.plot(avg_price, 'bo-', label='Original Data')\n",
    "plt.plot(outliers[0], avg_price[outliers], 'ro', label='Outliers')\n",
    "plt.axhline(mean_avg_price, color='g', linestyle='--', label='Mean')\n",
    "plt.xlabel('Index')\n",
    "plt.ylabel('Value')\n",
    "plt.title('Avg Price data with Outliers Detected')\n",
    "plt.legend()\n",
    "plt.show()"
   ]
  },
  {
   "cell_type": "code",
   "execution_count": 83,
   "id": "05b6e258",
   "metadata": {},
   "outputs": [
    {
     "data": {
      "text/plain": [
       "array([181500, 101000, 112700, 120600,  24300,  24300, 147300, 108200,\n",
       "       110200, 180300,   5200,   1200,   1560,   4185,   1450,   2250,\n",
       "         1500,   1200,    560,   4396,   4500,   4000,   6300,   6500,\n",
       "        10495,   5200,  13000,   4800,   1900,   9300, 133100,  80800,\n",
       "       112700, 120600,  16200,  24300, 147300,  54100, 165300, 180300,\n",
       "        11600,   2400,   2340,   4185,   2030,   1350,   1500,    400,\n",
       "         1120,   3297,   5850,   1500,   3600,   7800,  14693,   7800,\n",
       "        10400,   4800,   1900,   6200,  60500,  50500,  80500, 100500,\n",
       "        32400,  16200, 196400,  54100,  55100, 120200,   9600,   4200,\n",
       "         1560,   2790,   1740,   2700,   2500,   1200,   1120,   4396,\n",
       "         5400,   4500,   4500,   6500,   6297,   3900,  15600,   4800,\n",
       "         5700,   3100, 108900,  90900,  48300, 120600,  24300,  16200,\n",
       "       147300, 108200, 110200, 120200,  10000,   4500,   4290,   3255,\n",
       "         1740,   1800,   2000,   1600,   1680,   1099,   4500,   5000,\n",
       "         2700,   3900,  14693,   6500,  10400,   3200,   1900,   9300,\n",
       "        36300,  60600,  80500,  60300,  24300,  24300, 147300, 162300,\n",
       "       110200, 120200,   6000,   2100,   3900,   3720,   1160,   1800,\n",
       "         2000,    800,   1120,   2198,   6300,   1500,   1800,   6500,\n",
       "         8396,   5200,  10400,   3200,   5700,   3100,  84700,  60600,\n",
       "        64400, 120600,  40500,  16200,  98200, 162300, 110200, 120200,\n",
       "         3600,   3600,   3120,    930,    870,   2700,   1000,    400,\n",
       "         1120,   3297,   5400,   3000,   5400,   7800,  14693,   3900,\n",
       "        13000,   4800,   5700,   3100, 145200,  20200, 112700,  80400,\n",
       "        32400,  24300, 147300, 162300, 165300, 180300,   8800,   3000,\n",
       "         4290,   5115,    580,   1350,   1000,    800,   2240,   3297,\n",
       "         5400,   6000,   6300,   3900,   6297,   5200,  10400,   4800,\n",
       "         3800,   3100, 169400,  70700, 112700, 100500,  48600,  24300,\n",
       "       147300, 108200, 110200,  60100,    800,   3300,   4290,    930,\n",
       "         1450,   1800,   1500,    800,   1680,   3297,   3150,   4500,\n",
       "         6300,   3900,  12594,   3900,  13000,   3200,   5700,   6200,\n",
       "       181500,  70700, 112700, 140700,  40500,  16200, 147300, 108200,\n",
       "       110200,  60100,  12400,   3600,   2730,   1860,   2320,    900,\n",
       "         2000,    800,   1120,   1099,   7200,   3000,   4500,   2600,\n",
       "        10495,   5200,   7800,   3200,   3800,   3100,  36300,  60600,\n",
       "        64400, 100500,  32400,  32400,  98200, 108200, 165300, 120200,\n",
       "         9600,   3300,   4680,   1860,    870,   1350,   1500,   1200,\n",
       "         1120,   2198,   2250,   2000,   4500,   5200,  10495,   6500,\n",
       "        13000,   1600,   5700,   6200, 145200,  70700,  96600,  80400,\n",
       "        32400,  24300, 147300,  54100, 165300, 180300,   8800,    600,\n",
       "         4290,   2790,   1160,    900,   2000,    800,   1120,   3297,\n",
       "         5850,   4500,   4500,   5200,  12594,   7800,  10400,   4800,\n",
       "         5700,   3100,  48400,  70700,  48300, 120600,  32400,  24300,\n",
       "        98200,  54100, 165300, 180300,   6000,   2100,   1170,   3720,\n",
       "         1450,   1350,   2000,   1200,   1680,   4396,   5400,   4000,\n",
       "         1800,   5200,  12594,   5200,  10400,   1600,   3800,   3100,\n",
       "       108900,  60600, 112700, 140700,  40500,  24300, 147300,  54100,\n",
       "       110200, 120200,   5600,   4200,   1170,   3255,   2030,   2250,\n",
       "         2000,    800,   1680,   3297,   1800,   3000,   5400,   3900,\n",
       "        10495,   3900,  10400,   6400,   5700,   9300, 133100,  70700,\n",
       "        96600,  60300,  32400,  24300, 147300, 108200, 110200, 120200,\n",
       "        11600,    600,   1950,   1860,   2030,   2700,   2000,    800,\n",
       "         1680,   3297,   6750,   3500,   5400,   6500,  12594,   3900,\n",
       "        10400,   4800,   3800,   6200, 157300,  60600,  64400, 100500,\n",
       "        24300,  24300, 147300,  54100, 165300, 120200,    800,   5100,\n",
       "         1560,   2325,   2030,   1800,   1500,   1200,   1120,   4396,\n",
       "         4500,   1500,   6300,   3900,  12594,   2600,  15600,   3200,\n",
       "         5700,   3100], dtype=int64)"
      ]
     },
     "execution_count": 83,
     "metadata": {},
     "output_type": "execute_result"
    }
   ],
   "source": [
    "total_sales = np.array(sales_df['Total Sales Value'])\n",
    "total_sales"
   ]
  },
  {
   "cell_type": "code",
   "execution_count": 84,
   "id": "8c4f8920",
   "metadata": {},
   "outputs": [
    {
     "data": {
      "text/plain": [
       "33812.83555555555"
      ]
     },
     "execution_count": 84,
     "metadata": {},
     "output_type": "execute_result"
    }
   ],
   "source": [
    "mean_total_sales = np.mean(total_sales)\n",
    "mean_total_sales"
   ]
  },
  {
   "cell_type": "code",
   "execution_count": 85,
   "id": "383858ff",
   "metadata": {},
   "outputs": [
    {
     "data": {
      "text/plain": [
       "50478.892860940316"
      ]
     },
     "execution_count": 85,
     "metadata": {},
     "output_type": "execute_result"
    }
   ],
   "source": [
    "std_total_sales = np.std(total_sales)\n",
    "std_total_sales"
   ]
  },
  {
   "cell_type": "code",
   "execution_count": 86,
   "id": "45a244e6",
   "metadata": {},
   "outputs": [
    {
     "name": "stdout",
     "output_type": "stream",
     "text": [
      "Original Sales:  [181500 101000 112700 120600  24300  24300 147300 108200 110200 180300\n",
      "   5200   1200   1560   4185   1450   2250   1500   1200    560   4396\n",
      "   4500   4000   6300   6500  10495   5200  13000   4800   1900   9300\n",
      " 133100  80800 112700 120600  16200  24300 147300  54100 165300 180300\n",
      "  11600   2400   2340   4185   2030   1350   1500    400   1120   3297\n",
      "   5850   1500   3600   7800  14693   7800  10400   4800   1900   6200\n",
      "  60500  50500  80500 100500  32400  16200 196400  54100  55100 120200\n",
      "   9600   4200   1560   2790   1740   2700   2500   1200   1120   4396\n",
      "   5400   4500   4500   6500   6297   3900  15600   4800   5700   3100\n",
      " 108900  90900  48300 120600  24300  16200 147300 108200 110200 120200\n",
      "  10000   4500   4290   3255   1740   1800   2000   1600   1680   1099\n",
      "   4500   5000   2700   3900  14693   6500  10400   3200   1900   9300\n",
      "  36300  60600  80500  60300  24300  24300 147300 162300 110200 120200\n",
      "   6000   2100   3900   3720   1160   1800   2000    800   1120   2198\n",
      "   6300   1500   1800   6500   8396   5200  10400   3200   5700   3100\n",
      "  84700  60600  64400 120600  40500  16200  98200 162300 110200 120200\n",
      "   3600   3600   3120    930    870   2700   1000    400   1120   3297\n",
      "   5400   3000   5400   7800  14693   3900  13000   4800   5700   3100\n",
      " 145200  20200 112700  80400  32400  24300 147300 162300 165300 180300\n",
      "   8800   3000   4290   5115    580   1350   1000    800   2240   3297\n",
      "   5400   6000   6300   3900   6297   5200  10400   4800   3800   3100\n",
      " 169400  70700 112700 100500  48600  24300 147300 108200 110200  60100\n",
      "    800   3300   4290    930   1450   1800   1500    800   1680   3297\n",
      "   3150   4500   6300   3900  12594   3900  13000   3200   5700   6200\n",
      " 181500  70700 112700 140700  40500  16200 147300 108200 110200  60100\n",
      "  12400   3600   2730   1860   2320    900   2000    800   1120   1099\n",
      "   7200   3000   4500   2600  10495   5200   7800   3200   3800   3100\n",
      "  36300  60600  64400 100500  32400  32400  98200 108200 165300 120200\n",
      "   9600   3300   4680   1860    870   1350   1500   1200   1120   2198\n",
      "   2250   2000   4500   5200  10495   6500  13000   1600   5700   6200\n",
      " 145200  70700  96600  80400  32400  24300 147300  54100 165300 180300\n",
      "   8800    600   4290   2790   1160    900   2000    800   1120   3297\n",
      "   5850   4500   4500   5200  12594   7800  10400   4800   5700   3100\n",
      "  48400  70700  48300 120600  32400  24300  98200  54100 165300 180300\n",
      "   6000   2100   1170   3720   1450   1350   2000   1200   1680   4396\n",
      "   5400   4000   1800   5200  12594   5200  10400   1600   3800   3100\n",
      " 108900  60600 112700 140700  40500  24300 147300  54100 110200 120200\n",
      "   5600   4200   1170   3255   2030   2250   2000    800   1680   3297\n",
      "   1800   3000   5400   3900  10495   3900  10400   6400   5700   9300\n",
      " 133100  70700  96600  60300  32400  24300 147300 108200 110200 120200\n",
      "  11600    600   1950   1860   2030   2700   2000    800   1680   3297\n",
      "   6750   3500   5400   6500  12594   3900  10400   4800   3800   6200\n",
      " 157300  60600  64400 100500  24300  24300 147300  54100 165300 120200\n",
      "    800   5100   1560   2325   2030   1800   1500   1200   1120   4396\n",
      "   4500   1500   6300   3900  12594   2600  15600   3200   5700   3100]\n",
      "Mean:  33812.83555555555\n",
      "Standard Deviation:  50478.892860940316\n",
      "Z-scores:  [ 2.92572115  1.33099521  1.56277525  1.71927631 -0.18845175 -0.18845175\n",
      "  2.24821025  1.47362908  1.5132496   2.90194884 -0.56682772 -0.64606876\n",
      " -0.63893706 -0.58693513 -0.64111619 -0.62526798 -0.64012568 -0.64606876\n",
      " -0.65874732 -0.58275517 -0.5806949  -0.59060003 -0.54503643 -0.54107438\n",
      " -0.46193239 -0.56682772 -0.41230769 -0.57475182 -0.63220157 -0.48560565\n",
      "  1.96690456  0.93082795  1.56277525  1.71927631 -0.34891485 -0.18845175\n",
      "  2.24821025  0.40189401  2.60479493  2.90194884 -0.44004205 -0.62229644\n",
      " -0.62348506 -0.58693513 -0.62962624 -0.64309722 -0.64012568 -0.66191696\n",
      " -0.64765358 -0.60452664 -0.55395105 -0.64012568 -0.59852413 -0.51532104\n",
      " -0.37876892 -0.51532104 -0.46381436 -0.57475182 -0.63220157 -0.54701746\n",
      "  0.52867967  0.33057707  0.92488487  1.32109008 -0.02798864 -0.34891485\n",
      "  3.22089403  0.40189401  0.42170427  1.7113522  -0.47966257 -0.58663798\n",
      " -0.63893706 -0.61457044 -0.63537122 -0.61635337 -0.62031542 -0.64606876\n",
      " -0.64765358 -0.58275517 -0.56286566 -0.5806949  -0.5806949  -0.54107438\n",
      " -0.54509586 -0.59258105 -0.36080101 -0.57475182 -0.55692259 -0.60842926\n",
      "  1.48749626  1.13091158  0.2869945   1.71927631 -0.18845175 -0.34891485\n",
      "  2.24821025  1.47362908  1.5132496   1.7113522  -0.47173847 -0.5806949\n",
      " -0.58485505 -0.60535867 -0.63537122 -0.6341826  -0.63022055 -0.63814465\n",
      " -0.63655983 -0.64806959 -0.5806949  -0.57078977 -0.61635337 -0.59258105\n",
      " -0.37876892 -0.54107438 -0.46381436 -0.60644824 -0.63220157 -0.48560565\n",
      "  0.04927137  0.5306607   0.92488487  0.52471762 -0.18845175 -0.18845175\n",
      "  2.24821025  2.54536415  1.5132496   1.7113522  -0.55097951 -0.62823952\n",
      " -0.59258105 -0.5961469  -0.64686117 -0.6341826  -0.63022055 -0.65399286\n",
      " -0.64765358 -0.62629812 -0.54503643 -0.64012568 -0.6341826  -0.54107438\n",
      " -0.50351412 -0.56682772 -0.46381436 -0.60644824 -0.55692259 -0.60842926\n",
      "  1.00808797  0.5306607   0.60593969  1.71927631  0.13247447 -0.34891485\n",
      "  1.27552648  2.54536415  1.5132496   1.7113522  -0.59852413 -0.59852413\n",
      " -0.60803306 -0.65141753 -0.65260614 -0.61635337 -0.65003081 -0.66191696\n",
      " -0.64765358 -0.60452664 -0.56286566 -0.61041029 -0.56286566 -0.51532104\n",
      " -0.37876892 -0.59258105 -0.41230769 -0.57475182 -0.55692259 -0.60842926\n",
      "  2.20660871 -0.26967381  1.56277525  0.92290385 -0.02798864 -0.18845175\n",
      "  2.24821025  2.54536415  2.60479493  2.90194884 -0.49551078 -0.61041029\n",
      " -0.58485505 -0.56851159 -0.65835112 -0.64309722 -0.65003081 -0.65399286\n",
      " -0.62546609 -0.60452664 -0.56286566 -0.55097951 -0.54503643 -0.59258105\n",
      " -0.54509586 -0.56682772 -0.46381436 -0.57475182 -0.59456208 -0.60842926\n",
      "  2.686017    0.73074432  1.56277525  1.32109008  0.29293757 -0.18845175\n",
      "  2.24821025  1.47362908  1.5132496   0.52075557 -0.65399286 -0.60446721\n",
      " -0.58485505 -0.65141753 -0.64111619 -0.6341826  -0.64012568 -0.65399286\n",
      " -0.63655983 -0.60452664 -0.60743875 -0.5806949  -0.54503643 -0.59258105\n",
      " -0.42035065 -0.59258105 -0.41230769 -0.60644824 -0.55692259 -0.54701746\n",
      "  2.92572115  0.73074432  1.56277525  2.11746254  0.13247447 -0.34891485\n",
      "  2.24821025  1.47362908  1.5132496   0.52075557 -0.42419384 -0.59852413\n",
      " -0.61575906 -0.63299399 -0.62388127 -0.65201183 -0.63022055 -0.65399286\n",
      " -0.64765358 -0.64806959 -0.5272072  -0.61041029 -0.5806949  -0.61833439\n",
      " -0.46193239 -0.56682772 -0.51532104 -0.60644824 -0.59456208 -0.60842926\n",
      "  0.04927137  0.5306607   0.60593969  1.32109008 -0.02798864 -0.02798864\n",
      "  1.27552648  1.47362908  2.60479493  1.7113522  -0.47966257 -0.60446721\n",
      " -0.57712905 -0.63299399 -0.65260614 -0.64309722 -0.64012568 -0.64606876\n",
      " -0.64765358 -0.62629812 -0.62526798 -0.63022055 -0.5806949  -0.56682772\n",
      " -0.46193239 -0.54107438 -0.41230769 -0.63814465 -0.55692259 -0.54701746\n",
      "  2.20660871  0.73074432  1.24383006  0.92290385 -0.02798864 -0.18845175\n",
      "  2.24821025  0.40189401  2.60479493  2.90194884 -0.49551078 -0.65795491\n",
      " -0.58485505 -0.61457044 -0.64686117 -0.65201183 -0.63022055 -0.65399286\n",
      " -0.64765358 -0.60452664 -0.55395105 -0.5806949  -0.5806949  -0.56682772\n",
      " -0.42035065 -0.51532104 -0.46381436 -0.57475182 -0.55692259 -0.60842926\n",
      "  0.28897552  0.73074432  0.2869945   1.71927631 -0.02798864 -0.18845175\n",
      "  1.27552648  0.40189401  2.60479493  2.90194884 -0.55097951 -0.62823952\n",
      " -0.64666306 -0.5961469  -0.64111619 -0.64309722 -0.63022055 -0.64606876\n",
      " -0.63655983 -0.58275517 -0.56286566 -0.59060003 -0.6341826  -0.56682772\n",
      " -0.42035065 -0.56682772 -0.46381436 -0.63814465 -0.59456208 -0.60842926\n",
      "  1.48749626  0.5306607   1.56277525  2.11746254  0.13247447 -0.18845175\n",
      "  2.24821025  0.40189401  1.5132496   1.7113522  -0.55890361 -0.58663798\n",
      " -0.64666306 -0.60535867 -0.62962624 -0.62526798 -0.63022055 -0.65399286\n",
      " -0.63655983 -0.60452664 -0.6341826  -0.61041029 -0.56286566 -0.59258105\n",
      " -0.46193239 -0.59258105 -0.46381436 -0.5430554  -0.55692259 -0.48560565\n",
      "  1.96690456  0.73074432  1.24383006  0.52471762 -0.02798864 -0.18845175\n",
      "  2.24821025  1.47362908  1.5132496   1.7113522  -0.44004205 -0.65795491\n",
      " -0.63121106 -0.63299399 -0.62962624 -0.61635337 -0.63022055 -0.65399286\n",
      " -0.63655983 -0.60452664 -0.53612181 -0.60050516 -0.56286566 -0.54107438\n",
      " -0.42035065 -0.59258105 -0.46381436 -0.57475182 -0.59456208 -0.54701746\n",
      "  2.44631285  0.5306607   0.60593969  1.32109008 -0.18845175 -0.18845175\n",
      "  2.24821025  0.40189401  2.60479493  1.7113522  -0.65399286 -0.56880874\n",
      " -0.63893706 -0.62378221 -0.62962624 -0.6341826  -0.64012568 -0.64606876\n",
      " -0.64765358 -0.58275517 -0.5806949  -0.64012568 -0.54503643 -0.59258105\n",
      " -0.42035065 -0.61833439 -0.36080101 -0.60644824 -0.55692259 -0.60842926]\n"
     ]
    }
   ],
   "source": [
    "z_scores = (total_sales - mean_total_sales) / std_total_sales\n",
    "print(\"Original Sales: \", total_sales)\n",
    "print(\"Mean: \", mean_total_sales)\n",
    "print(\"Standard Deviation: \", std_total_sales)\n",
    "print(\"Z-scores: \", z_scores)"
   ]
  },
  {
   "cell_type": "code",
   "execution_count": 87,
   "id": "da1ef961",
   "metadata": {},
   "outputs": [
    {
     "name": "stdout",
     "output_type": "stream",
     "text": [
      "Outliers: [196400]\n"
     ]
    },
    {
     "data": {
      "image/png": "[encoded data removed]",
      "text/plain": [
       "<Figure size 1000x600 with 1 Axes>"
      ]
     },
     "metadata": {},
     "output_type": "display_data"
    }
   ],
   "source": [
    "#Outlier detection: Z-scores beyond ±3 are considered outliers\n",
    "outliers = np.where(np.abs(z_scores) > 3)\n",
    "print(\"Outliers:\", total_sales[outliers])\n",
    "\n",
    "# Visualizing the data\n",
    "import matplotlib.pyplot as plt\n",
    "plt.figure(figsize=(10, 6))\n",
    "plt.plot(total_sales, 'bo-', label='Original Data')\n",
    "plt.plot(outliers[0], total_sales[outliers], 'ro', label='Outliers')\n",
    "plt.axhline(mean_total_sales, color='g', linestyle='--', label='Mean')\n",
    "plt.xlabel('Index')\n",
    "plt.ylabel('Value')\n",
    "plt.title('Total Sales data with Outliers Detected')\n",
    "plt.legend()\n",
    "plt.show()"
   ]
  },
  {
   "cell_type": "code",
   "execution_count": 88,
   "id": "24c192ee",
   "metadata": {},
   "outputs": [
    {
     "data": {
      "text/plain": [
       "array([11.65482029, 11.56049798,  9.45688568,  6.93538533, 17.9956635 ,\n",
       "       16.99648891,  9.22881176,  5.55371934,  7.41010449,  9.92844356,\n",
       "       18.86924165, 16.57831584, 18.1594081 , 18.50950766, 15.51659059,\n",
       "       18.12092836, 18.1148706 , 17.50696721, 16.72306453, 16.73595369,\n",
       "       19.52748279, 19.19432327, 18.06086733, 18.70696234, 19.93859957,\n",
       "       18.84207796, 15.22271398, 19.6070123 , 16.6685375 , 16.57721546,\n",
       "       13.10714037, 11.4637095 ,  9.81611505,  6.2148882 , 18.73516928,\n",
       "       17.98854165,  5.25211255,  9.23895734,  8.4402058 ,  9.08709318,\n",
       "       19.68807393, 16.22140072, 18.06294988, 17.30065136, 17.29675302,\n",
       "       15.99920611, 18.51911043, 17.29448557, 15.9705749 , 18.4648665 ,\n",
       "       17.68346639, 15.34890186, 16.50774318, 18.00700009, 18.11426211,\n",
       "       15.46512976, 18.01701775, 16.36102237, 18.39585554, 17.00475069,\n",
       "       10.8728056 , 10.92443831,  8.66804132,  9.15394957, 17.14675853,\n",
       "       18.53189269,  8.60107991,  7.62179096,  8.90713438,  5.00782219,\n",
       "       17.05029676, 16.98864526, 19.27606884, 17.94387704, 18.18516737,\n",
       "       19.88747924, 17.81192489, 18.7038447 , 17.25338589, 16.94607826,\n",
       "       19.18987071, 17.36132208, 16.02048658, 19.35793428, 15.23473293,\n",
       "       18.60252597, 17.4064832 , 18.33391371, 15.98016919, 15.4440625 ,\n",
       "       13.97120599, 12.4546565 ,  8.41772966,  5.87067094, 16.78933964,\n",
       "       15.77608924,  8.56924892,  7.82377392,  6.71045354,  6.09520144,\n",
       "       17.93227484, 17.2169435 , 16.5301158 , 15.2517299 , 16.44014451,\n",
       "       16.45459055, 19.68043913, 16.0906373 , 17.39993098, 18.46860316,\n",
       "       18.32601839, 19.78474373, 15.0898274 , 19.12905879, 17.78871343,\n",
       "       19.66497623, 15.7631211 , 19.97687885, 18.9041619 , 17.67182384,\n",
       "       12.13816118, 14.56810141,  8.09708709,  7.74799088, 15.41667299,\n",
       "       17.32863377,  8.53227792,  5.93508419,  7.58459064,  9.08608781,\n",
       "       17.71269437, 17.29722657, 16.6315178 , 17.57311946, 17.80206774,\n",
       "       17.72023423, 15.54611424, 16.34737903, 16.55972731, 16.11614241,\n",
       "       17.19470437, 17.34450754, 17.67337262, 16.12159665, 18.9397842 ,\n",
       "       17.37960449, 18.09216824, 17.60609764, 17.34439087, 15.57197751,\n",
       "       12.9095187 , 12.30153101,  7.73266709,  7.23384674, 19.76683137,\n",
       "       17.28065328,  5.42050666,  6.84997564,  8.41262648,  7.25669557,\n",
       "       15.74882967, 16.2970696 , 17.50762494, 15.18325184, 15.93845566,\n",
       "       17.92821481, 16.53516266, 18.25629986, 19.82336854, 18.84952874,\n",
       "       16.42524573, 16.66480531, 15.94996888, 15.04362021, 15.36169715,\n",
       "       16.43402216, 16.03714236, 17.50527815, 18.18304095, 19.5891248 ,\n",
       "       11.83080707, 12.54256944,  8.74130231,  7.98881272, 17.6185845 ,\n",
       "       16.0655761 ,  8.65822536,  7.1787259 ,  8.46941228,  9.81520445,\n",
       "       18.1827493 , 19.765153  , 18.92254531, 19.28103465, 16.32460955,\n",
       "       18.37684555, 19.06483966, 19.80471511, 15.43763351, 17.25507653,\n",
       "       19.7128278 , 17.64135501, 15.02375138, 16.41968202, 18.02035183,\n",
       "       16.37695   , 17.47825748, 19.4479254 , 16.29980482, 17.89656938,\n",
       "       14.95172621, 12.89156528,  7.6793856 ,  5.79480208, 19.57381754,\n",
       "       15.82123141,  9.238451  ,  9.66608229,  5.05980128,  9.54983227,\n",
       "       15.57239355, 18.23880381, 19.29009649, 19.91038373, 16.17987766,\n",
       "       15.39428242, 19.35851648, 16.95879599, 15.40774796, 16.47136519,\n",
       "       15.43353289, 16.36791411, 15.62158049, 19.5382451 , 18.27029351,\n",
       "       15.13260351, 18.46189328, 15.51203164, 18.27644174, 17.44635923,\n",
       "       14.18072848, 12.01888255,  6.85825457,  7.20836295, 17.16353023,\n",
       "       16.63778339,  7.34187434,  9.77136747,  6.47330471,  6.43991996,\n",
       "       17.38393442, 18.19607162, 18.06839101, 16.37059555, 19.81697935,\n",
       "       18.48820169, 16.86697046, 15.73372533, 17.5792162 , 17.15758343,\n",
       "       19.14081735, 19.00377426, 16.69286811, 17.79136356, 17.07765991,\n",
       "       16.47525078, 17.56215896, 18.96663746, 17.6453931 , 17.96714075,\n",
       "       11.05573761, 11.08918153,  8.97734337,  7.4213256 , 16.55384817,\n",
       "       17.91696774,  7.80286089,  9.83577322,  6.26891381,  6.81911066,\n",
       "       19.35868056, 16.9893921 , 17.4865815 , 15.91087995, 15.14241458,\n",
       "       15.56257107, 17.63119016, 18.57874079, 16.38611185, 16.93486485,\n",
       "       17.56720701, 17.50576724, 15.69166816, 15.38756981, 19.71631112,\n",
       "       19.53756201, 16.81358444, 19.00824982, 17.68404468, 17.25697328,\n",
       "       14.80487284, 12.23538491,  6.17039789,  5.07212419, 19.7356036 ,\n",
       "       19.94061027,  8.39446932,  6.1069307 ,  6.50871908,  9.05874649,\n",
       "       18.18850808, 17.11762612, 16.38558507, 19.12478535, 15.08981884,\n",
       "       18.48426635, 17.12451516, 19.99240704, 18.49602626, 15.18946297,\n",
       "       15.18420876, 19.58669525, 19.38396296, 17.53295627, 15.41406919,\n",
       "       18.90766781, 19.50526759, 16.6335875 , 17.39005186, 15.88458597,\n",
       "       11.37328449, 14.54308173,  7.82635371,  8.49148617, 17.3375191 ,\n",
       "       15.60813256,  6.06619192,  9.79144008,  5.08410843,  7.78526825,\n",
       "       17.94498362, 18.60838629, 17.69125312, 15.67131959, 17.85265233,\n",
       "       15.62485857, 17.85669403, 15.7706073 , 18.39673438, 17.06230088,\n",
       "       18.86666515, 18.81403992, 15.28201211, 19.65873168, 15.81511815,\n",
       "       18.39797564, 15.86693027, 18.07541564, 18.28485187, 19.51879612,\n",
       "       11.52453923, 10.21381047,  9.28292228,  9.05046838, 18.20853577,\n",
       "       17.33279659,  9.01274999,  9.35088591,  6.32689169,  9.76690015,\n",
       "       15.77724986, 15.22930444, 19.28772746, 15.60269272, 15.89257421,\n",
       "       18.89646759, 16.91057925, 19.70033865, 19.14985255, 19.24025252,\n",
       "       18.16249906, 19.98225655, 16.14683639, 17.08635768, 19.94004576,\n",
       "       19.77900687, 16.6427166 , 18.72234439, 17.60028177, 16.85797791,\n",
       "       12.18527026, 13.96301473,  9.85266117,  6.41523029, 17.73983301,\n",
       "       19.17680154,  9.08501516,  5.05521841,  5.41180219,  5.51104232,\n",
       "       15.04247713, 17.23214929, 18.98898033, 15.71672908, 17.22838981,\n",
       "       16.27280995, 19.3490931 , 18.99129132, 15.91560189, 15.23911668,\n",
       "       15.30600671, 15.19158998, 15.95302429, 18.62938274, 16.95456688,\n",
       "       18.86426868, 18.71790805, 19.91592   , 15.55347363, 17.4149738 ,\n",
       "       10.16194042, 14.68637421,  5.48515667,  5.46637934, 17.25038271,\n",
       "       15.84207872,  6.00819957,  6.64259534,  5.42591053,  8.44067883,\n",
       "       18.99927017, 19.96534003, 17.77986523, 19.52019766, 15.77005772,\n",
       "       16.33213693, 16.21466376, 15.7222758 , 19.18500512, 18.68568032,\n",
       "       16.47799821, 16.80302997, 17.14752805, 16.44261931, 15.0729542 ,\n",
       "       15.47568742, 17.05702719, 18.96555018, 16.79301449, 15.33329983])"
      ]
     },
     "execution_count": 88,
     "metadata": {},
     "output_type": "execute_result"
    }
   ],
   "source": [
    "discount_rate = np.array(sales_df['Discount Rate (%)'])\n",
    "discount_rate"
   ]
  },
  {
   "cell_type": "code",
   "execution_count": 89,
   "id": "2e8fbe6f",
   "metadata": {},
   "outputs": [
    {
     "data": {
      "text/plain": [
       "15.155241895330914"
      ]
     },
     "execution_count": 89,
     "metadata": {},
     "output_type": "execute_result"
    }
   ],
   "source": [
    "mean_discount_rate = np.mean(discount_rate)\n",
    "mean_discount_rate"
   ]
  },
  {
   "cell_type": "code",
   "execution_count": 90,
   "id": "0bf6aa76",
   "metadata": {},
   "outputs": [
    {
     "data": {
      "text/plain": [
       "4.215909987168583"
      ]
     },
     "execution_count": 90,
     "metadata": {},
     "output_type": "execute_result"
    }
   ],
   "source": [
    "std_discount_rate = np.std(discount_rate)\n",
    "std_discount_rate"
   ]
  },
  {
   "cell_type": "code",
   "execution_count": 91,
   "id": "89d93ea5",
   "metadata": {},
   "outputs": [
    {
     "name": "stdout",
     "output_type": "stream",
     "text": [
      "Original Discount Rate:  [11.65482029 11.56049798  9.45688568  6.93538533 17.9956635  16.99648891\n",
      "  9.22881176  5.55371934  7.41010449  9.92844356 18.86924165 16.57831584\n",
      " 18.1594081  18.50950766 15.51659059 18.12092836 18.1148706  17.50696721\n",
      " 16.72306453 16.73595369 19.52748279 19.19432327 18.06086733 18.70696234\n",
      " 19.93859957 18.84207796 15.22271398 19.6070123  16.6685375  16.57721546\n",
      " 13.10714037 11.4637095   9.81611505  6.2148882  18.73516928 17.98854165\n",
      "  5.25211255  9.23895734  8.4402058   9.08709318 19.68807393 16.22140072\n",
      " 18.06294988 17.30065136 17.29675302 15.99920611 18.51911043 17.29448557\n",
      " 15.9705749  18.4648665  17.68346639 15.34890186 16.50774318 18.00700009\n",
      " 18.11426211 15.46512976 18.01701775 16.36102237 18.39585554 17.00475069\n",
      " 10.8728056  10.92443831  8.66804132  9.15394957 17.14675853 18.53189269\n",
      "  8.60107991  7.62179096  8.90713438  5.00782219 17.05029676 16.98864526\n",
      " 19.27606884 17.94387704 18.18516737 19.88747924 17.81192489 18.7038447\n",
      " 17.25338589 16.94607826 19.18987071 17.36132208 16.02048658 19.35793428\n",
      " 15.23473293 18.60252597 17.4064832  18.33391371 15.98016919 15.4440625\n",
      " 13.97120599 12.4546565   8.41772966  5.87067094 16.78933964 15.77608924\n",
      "  8.56924892  7.82377392  6.71045354  6.09520144 17.93227484 17.2169435\n",
      " 16.5301158  15.2517299  16.44014451 16.45459055 19.68043913 16.0906373\n",
      " 17.39993098 18.46860316 18.32601839 19.78474373 15.0898274  19.12905879\n",
      " 17.78871343 19.66497623 15.7631211  19.97687885 18.9041619  17.67182384\n",
      " 12.13816118 14.56810141  8.09708709  7.74799088 15.41667299 17.32863377\n",
      "  8.53227792  5.93508419  7.58459064  9.08608781 17.71269437 17.29722657\n",
      " 16.6315178  17.57311946 17.80206774 17.72023423 15.54611424 16.34737903\n",
      " 16.55972731 16.11614241 17.19470437 17.34450754 17.67337262 16.12159665\n",
      " 18.9397842  17.37960449 18.09216824 17.60609764 17.34439087 15.57197751\n",
      " 12.9095187  12.30153101  7.73266709  7.23384674 19.76683137 17.28065328\n",
      "  5.42050666  6.84997564  8.41262648  7.25669557 15.74882967 16.2970696\n",
      " 17.50762494 15.18325184 15.93845566 17.92821481 16.53516266 18.25629986\n",
      " 19.82336854 18.84952874 16.42524573 16.66480531 15.94996888 15.04362021\n",
      " 15.36169715 16.43402216 16.03714236 17.50527815 18.18304095 19.5891248\n",
      " 11.83080707 12.54256944  8.74130231  7.98881272 17.6185845  16.0655761\n",
      "  8.65822536  7.1787259   8.46941228  9.81520445 18.1827493  19.765153\n",
      " 18.92254531 19.28103465 16.32460955 18.37684555 19.06483966 19.80471511\n",
      " 15.43763351 17.25507653 19.7128278  17.64135501 15.02375138 16.41968202\n",
      " 18.02035183 16.37695    17.47825748 19.4479254  16.29980482 17.89656938\n",
      " 14.95172621 12.89156528  7.6793856   5.79480208 19.57381754 15.82123141\n",
      "  9.238451    9.66608229  5.05980128  9.54983227 15.57239355 18.23880381\n",
      " 19.29009649 19.91038373 16.17987766 15.39428242 19.35851648 16.95879599\n",
      " 15.40774796 16.47136519 15.43353289 16.36791411 15.62158049 19.5382451\n",
      " 18.27029351 15.13260351 18.46189328 15.51203164 18.27644174 17.44635923\n",
      " 14.18072848 12.01888255  6.85825457  7.20836295 17.16353023 16.63778339\n",
      "  7.34187434  9.77136747  6.47330471  6.43991996 17.38393442 18.19607162\n",
      " 18.06839101 16.37059555 19.81697935 18.48820169 16.86697046 15.73372533\n",
      " 17.5792162  17.15758343 19.14081735 19.00377426 16.69286811 17.79136356\n",
      " 17.07765991 16.47525078 17.56215896 18.96663746 17.6453931  17.96714075\n",
      " 11.05573761 11.08918153  8.97734337  7.4213256  16.55384817 17.91696774\n",
      "  7.80286089  9.83577322  6.26891381  6.81911066 19.35868056 16.9893921\n",
      " 17.4865815  15.91087995 15.14241458 15.56257107 17.63119016 18.57874079\n",
      " 16.38611185 16.93486485 17.56720701 17.50576724 15.69166816 15.38756981\n",
      " 19.71631112 19.53756201 16.81358444 19.00824982 17.68404468 17.25697328\n",
      " 14.80487284 12.23538491  6.17039789  5.07212419 19.7356036  19.94061027\n",
      "  8.39446932  6.1069307   6.50871908  9.05874649 18.18850808 17.11762612\n",
      " 16.38558507 19.12478535 15.08981884 18.48426635 17.12451516 19.99240704\n",
      " 18.49602626 15.18946297 15.18420876 19.58669525 19.38396296 17.53295627\n",
      " 15.41406919 18.90766781 19.50526759 16.6335875  17.39005186 15.88458597\n",
      " 11.37328449 14.54308173  7.82635371  8.49148617 17.3375191  15.60813256\n",
      "  6.06619192  9.79144008  5.08410843  7.78526825 17.94498362 18.60838629\n",
      " 17.69125312 15.67131959 17.85265233 15.62485857 17.85669403 15.7706073\n",
      " 18.39673438 17.06230088 18.86666515 18.81403992 15.28201211 19.65873168\n",
      " 15.81511815 18.39797564 15.86693027 18.07541564 18.28485187 19.51879612\n",
      " 11.52453923 10.21381047  9.28292228  9.05046838 18.20853577 17.33279659\n",
      "  9.01274999  9.35088591  6.32689169  9.76690015 15.77724986 15.22930444\n",
      " 19.28772746 15.60269272 15.89257421 18.89646759 16.91057925 19.70033865\n",
      " 19.14985255 19.24025252 18.16249906 19.98225655 16.14683639 17.08635768\n",
      " 19.94004576 19.77900687 16.6427166  18.72234439 17.60028177 16.85797791\n",
      " 12.18527026 13.96301473  9.85266117  6.41523029 17.73983301 19.17680154\n",
      "  9.08501516  5.05521841  5.41180219  5.51104232 15.04247713 17.23214929\n",
      " 18.98898033 15.71672908 17.22838981 16.27280995 19.3490931  18.99129132\n",
      " 15.91560189 15.23911668 15.30600671 15.19158998 15.95302429 18.62938274\n",
      " 16.95456688 18.86426868 18.71790805 19.91592    15.55347363 17.4149738\n",
      " 10.16194042 14.68637421  5.48515667  5.46637934 17.25038271 15.84207872\n",
      "  6.00819957  6.64259534  5.42591053  8.44067883 18.99927017 19.96534003\n",
      " 17.77986523 19.52019766 15.77005772 16.33213693 16.21466376 15.7222758\n",
      " 19.18500512 18.68568032 16.47799821 16.80302997 17.14752805 16.44261931\n",
      " 15.0729542  15.47568742 17.05702719 18.96555018 16.79301449 15.33329983]\n",
      "Mean:  15.155241895330914\n",
      "Standard Deviation:  4.215909987168583\n",
      "Z-scores:  [-0.83028851 -0.85266145 -1.35163138 -1.94972298  0.67373867  0.43673774\n",
      " -1.40572976 -2.27744961 -1.83712115 -1.2397794   0.88094854  0.33754846\n",
      "  0.71257836  0.79562082  0.08571072  0.70345109  0.70201421  0.55782152\n",
      "  0.37188238  0.37493964  1.03708118  0.95805683  0.68920481  0.84245642\n",
      "  1.13459673  0.8745054   0.01600416  1.05594532  0.35894875  0.33728746\n",
      " -0.48580295 -0.87561936 -1.26642335 -2.12062253  0.84914702  0.6720494\n",
      " -2.34898975 -1.40332326 -1.5927845  -1.43934494  1.07517287  0.25288937\n",
      "  0.68969878  0.50888408  0.5079594   0.20018554  0.79789857  0.50742157\n",
      "  0.19339431  0.78503208  0.59968654  0.04593551  0.32080886  0.67642768\n",
      "  0.70186988  0.07350438  0.67880383  0.28600717  0.76866291  0.43869741\n",
      " -1.01577982 -1.00353271 -1.53874267 -1.42348683  0.4723812   0.80093048\n",
      " -1.55462569 -1.78690982 -1.48203058 -2.40693462  0.44950079  0.43487726\n",
      "  0.97744662  0.6614551   0.71868837  1.12247115  0.63015648  0.84171693\n",
      "  0.49767286  0.4247805   0.9570007   0.52327497  0.2052332   0.99686483\n",
      "  0.01885501  0.81768446  0.53398704  0.75397051  0.19567004  0.0685073\n",
      " -0.28084943 -0.64056998 -1.59811577 -2.20226973  0.38760262  0.14726295\n",
      " -1.5621759  -1.73900012 -2.00307606 -2.14901183  0.65870309  0.48902885\n",
      "  0.32611557  0.02288664  0.30477468  0.30820123  1.07336192  0.22187272\n",
      "  0.53243288  0.78591841  0.75209777  1.09810263 -0.0155161   0.94257631\n",
      "  0.6246508   1.06969417  0.14418695  1.14367645  0.88923151  0.59692497\n",
      " -0.71564164 -0.1392678  -1.67417114 -1.75697561  0.0620106   0.51552141\n",
      " -1.5709453  -2.18699112 -1.79573361 -1.43958341  0.60661933  0.50807173\n",
      "  0.35016779  0.57351262  0.6278184   0.60840776  0.09271364  0.28277101\n",
      "  0.33313933  0.22792245  0.4837538   0.51928662  0.59729234  0.22921617\n",
      "  0.897681    0.5276115   0.69662928  0.58133493  0.51925895  0.09884832\n",
      " -0.53267817 -0.67689085 -1.76061036 -1.87892891  1.09385387  0.5041406\n",
      " -2.30904722 -1.96998187 -1.59932623 -1.87350924  0.14079707  0.27083778\n",
      "  0.55797753  0.00664387  0.18577573  0.65774007  0.32731267  0.73556076\n",
      "  1.10726431  0.8762727   0.30124074  0.35806348  0.18850663 -0.0264763\n",
      "  0.04897051  0.30332248  0.20918389  0.55742088  0.71818399  1.05170246\n",
      " -0.78854502 -0.61971732 -1.5213654  -1.69985346  0.58429677  0.21592828\n",
      " -1.54107098 -1.89200339 -1.58585682 -1.26663934  0.71811481  1.09345577\n",
      "  0.89359199  0.97862449  0.27737017  0.7641538   0.92734375  1.10283977\n",
      "  0.06698236  0.49807388  1.08104441  0.58969786 -0.03118912  0.29992104\n",
      "  0.67959466  0.28978515  0.55101167  1.01821043  0.27148656  0.65023387\n",
      " -0.04827325 -0.53693666 -1.77324856 -2.22026558  1.04807163  0.15797053\n",
      " -1.40344336 -1.30201063 -2.39460535 -1.32958475  0.098947    0.73141076\n",
      "  0.98077393  1.12790402  0.24304024  0.05669963  0.99700292  0.42779711\n",
      "  0.05989361  0.31218012  0.06600971  0.28764187  0.11061398  1.03963396\n",
      "  0.73888001 -0.00536975  0.78432685  0.08462936  0.74033835  0.54344551\n",
      " -0.23115138 -0.74393413 -1.96801814 -1.88497358  0.4763594   0.35165397\n",
      " -1.85330512 -1.27703733 -2.05932698 -2.06724573  0.52863855  0.72127482\n",
      "  0.6909894   0.28827789  1.10574881  0.79056712  0.40601639  0.13721437\n",
      "  0.57495874  0.47494883  0.9453654   0.91285923  0.36471989  0.6252794\n",
      "  0.45599124  0.31310177  0.57091282  0.90405051  0.59065569  0.66697317\n",
      " -0.97238895 -0.96445616 -1.46537724 -1.83445954  0.33174481  0.6550723\n",
      " -1.74396062 -1.2617605  -2.10780783 -1.97730294  0.99704184  0.4350544\n",
      "  0.5529861   0.17923486 -0.0030426   0.09661714  0.58728679  0.81204269\n",
      "  0.29195831  0.42212072  0.5721102   0.55753689  0.12723855  0.05510742\n",
      "  1.08187064  1.03947194  0.3933534   0.91392082  0.59982371  0.49852378\n",
      " -0.08310639 -0.69258049 -2.13117548 -2.3916824   1.08644675  1.13507366\n",
      " -1.60363305 -2.14622969 -2.05092681 -1.44606868  0.71948078  0.46547109\n",
      "  0.29183336  0.94156267 -0.01551813  0.78963367  0.46710515  1.14735968\n",
      "  0.79242308  0.00811713  0.00687085  1.05112618  1.00303875  0.56398604\n",
      "  0.06139298  0.8900631   1.03181181  0.35065872  0.53008958  0.17299802\n",
      " -0.89706787 -0.14520238 -1.7383882  -1.58062097  0.51762899  0.10742418\n",
      " -2.1558928  -1.27227617 -2.38883978 -1.74813354  0.66171757  0.81907451\n",
      "  0.60153353  0.12241193  0.63981689  0.11139153  0.64077557  0.14596265\n",
      "  0.76887137  0.45234813  0.8803374   0.86785487  0.03006948  1.06821298\n",
      "  0.15652048  0.76916579  0.16881014  0.69265562  0.74233321  1.03502073\n",
      " -0.86119075 -1.1720913  -1.39289492 -1.44803222  0.72423128  0.51650882\n",
      " -1.4569789  -1.37677417 -2.09405567 -1.27809696  0.14753825  0.01756739\n",
      "  0.980212    0.10613387  0.1748928   0.88740644  0.41636025  1.07808202\n",
      "  0.94750852  0.9689511   0.71331152  1.14495202  0.23520296  0.45805432\n",
      "  1.13493976  1.09674186  0.35282411  0.84610499  0.57995543  0.40388339\n",
      " -0.70446751 -0.28279237 -1.25775473 -2.07310204  0.61305652  0.95390074\n",
      " -1.43983784 -2.39569239 -2.31111189 -2.28757246 -0.02674743  0.49263561\n",
      "  0.90935016  0.13318291  0.49174388  0.26508347  0.99476773  0.90989832\n",
      "  0.18035489  0.01989482  0.03576092  0.00862165  0.18923136  0.8240548\n",
      "  0.42679398  0.87976897  0.84505271  1.12921721  0.09445926  0.53600099\n",
      " -1.18439471 -0.11121388 -2.29371245 -2.29816637  0.49696052  0.16291544\n",
      " -2.16964839 -2.0191718  -2.30776544 -1.5926723   0.91179088  1.14093948\n",
      "  0.62255203  1.03535317  0.14583229  0.27915564  0.25129139  0.13449858\n",
      "  0.9558466   0.8374084   0.31375345  0.39084992  0.47256373  0.30536169\n",
      " -0.01951837  0.07600863  0.45109722  0.90379261  0.38847428  0.04223476]\n"
     ]
    }
   ],
   "source": [
    "z_scores = (discount_rate - mean_discount_rate) / std_discount_rate\n",
    "print(\"Original Discount Rate: \", discount_rate)\n",
    "print(\"Mean: \", mean_discount_rate)\n",
    "print(\"Standard Deviation: \", std_discount_rate)\n",
    "print(\"Z-scores: \", z_scores)"
   ]
  },
  {
   "cell_type": "code",
   "execution_count": 93,
   "id": "63c933ff",
   "metadata": {},
   "outputs": [
    {
     "name": "stdout",
     "output_type": "stream",
     "text": [
      "Outliers: []\n"
     ]
    },
    {
     "data": {
      "image/png": "[encoded data removed]",
      "text/plain": [
       "<Figure size 1000x600 with 1 Axes>"
      ]
     },
     "metadata": {},
     "output_type": "display_data"
    }
   ],
   "source": [
    "#Outlier detection: Z-scores beyond ±3 are considered outliers\n",
    "outliers = np.where(np.abs(z_scores) > 3)\n",
    "print(\"Outliers:\", discount_rate[outliers])\n",
    "\n",
    "# Visualizing the data\n",
    "import matplotlib.pyplot as plt\n",
    "plt.figure(figsize=(10, 6))\n",
    "plt.plot(total_sales, 'bo-', label='Original Data')\n",
    "plt.plot(outliers[0], discount_rate[outliers], 'ro', label='Outliers')\n",
    "plt.axhline(mean_discount_rate, color='g', linestyle='--', label='Mean')\n",
    "plt.xlabel('Index')\n",
    "plt.ylabel('Value')\n",
    "plt.title('Discount Rate data with Outliers Detected')\n",
    "plt.legend()\n",
    "plt.show()"
   ]
  },
  {
   "cell_type": "code",
   "execution_count": 94,
   "id": "b011fa61",
   "metadata": {},
   "outputs": [
    {
     "data": {
      "text/plain": [
       "array([21153.49881959, 11676.10296098, 10657.9101567 ,  8364.07470207,\n",
       "        4372.94623046,  4130.14680522, 13594.039719  ,  6009.1243214 ,\n",
       "        8165.93514362, 17900.98373313,   981.20056582,   198.93979007,\n",
       "         283.2867664 ,   774.62289563,   224.99056355,   407.72088808,\n",
       "         271.72305899,   210.08360656,    93.64916136,   735.71252404,\n",
       "         878.73672568,   767.77293072,  1137.8346419 ,  1215.95255215,\n",
       "        2092.55602476,   979.78805408,  1978.95281744,   941.13659056,\n",
       "         316.70221256,  1541.68103773, 17445.6038281 ,  9262.67727332,\n",
       "       11062.76166273,  7495.15517125,  3035.097424  ,  4371.21562163,\n",
       "        7736.36178508,  4998.27592   , 13951.66019446, 16384.02900944,\n",
       "        2283.81657553,   389.31361721,   422.67302723,   724.03225959,\n",
       "         351.12408635,   215.98928249,   277.78665652,    69.17794229,\n",
       "         178.87043883,   608.78664859,  1034.48278377,   230.23352791,\n",
       "         594.27875457,  1404.54600704,  2661.52853227,  1206.28012158,\n",
       "        1873.76984652,   785.32907364,   349.52125526,  1054.29454269,\n",
       "        6578.047386  ,  5516.84134409,  6977.77326258,  9199.719313  ,\n",
       "        5555.54976367,  3002.16661566, 16892.52095098,  4123.38890824,\n",
       "        4907.83104383,  6019.40227142,  1636.82848862,   713.52310108,\n",
       "         300.70667394,   500.63416944,   316.4219122 ,   536.96193945,\n",
       "         445.29812221,   224.44613641,   193.23792192,   744.94960037,\n",
       "        1036.25301816,   781.25949374,   720.92189618,  1258.26572797,\n",
       "         959.33113236,   725.4985128 ,  2715.41137935,   880.02785826,\n",
       "         910.86964382,   478.7659375 , 15214.6433236 , 11321.28276101,\n",
       "        4065.7634246 ,  7080.02915143,  4079.80953293,  2555.72645731,\n",
       "       12622.50365771,  8465.32338059,  7394.91979711,  7326.43213136,\n",
       "        1793.22748402,   774.76245766,   709.1419678 ,   496.44380831,\n",
       "         286.05851445,   296.18262982,   393.60878254,   257.45019684,\n",
       "         292.3188404 ,   202.96994873,   824.6708274 ,   989.2371867 ,\n",
       "         407.42533975,   746.03329262,  2613.69566437,  1278.2234547 ,\n",
       "        1639.36459464,   639.26012329,   359.17907601,  1643.47961732,\n",
       "        4406.15250785,  8828.26945196,  6518.155105  ,  4672.038501  ,\n",
       "        3746.25153613,  4210.85800597, 12568.04537502,  9632.641646  ,\n",
       "        8358.21888318, 10921.47754544,  1062.76166196,   363.241758  ,\n",
       "         648.62919413,   653.72004389,   206.50398584,   318.96421614,\n",
       "         310.92228478,   130.77903226,   185.46894583,   354.23281017,\n",
       "        1083.26637533,   260.16761315,   318.12070722,  1047.90378255,\n",
       "        1590.18428163,   903.73943343,  1881.58549649,   563.39512441,\n",
       "         988.63027978,   482.73130277, 10934.36233513,  7454.727792  ,\n",
       "        4979.83760506,  8724.01917126,  8005.56670315,  2799.46583101,\n",
       "        5322.93754119, 11117.51046683,  9270.71438355,  8722.54807531,\n",
       "         566.95786816,   586.6945055 ,   546.23789798,   141.20424214,\n",
       "         138.66456428,   484.06179982,   165.35162659,    73.02519945,\n",
       "         222.02172766,   621.46896264,   886.96326955,   499.9441593 ,\n",
       "         861.29831932,  1173.40237672,  2257.09416187,   640.92686428,\n",
       "        2084.82850666,   840.25335126,  1036.43333437,   607.26286868,\n",
       "       17178.33185948,  2533.599028  ,  9851.44770632,  6423.0054287 ,\n",
       "        5708.42137937,  3903.93499128, 12753.56595799, 11651.07213447,\n",
       "       13999.93849871, 17696.81362055,  1600.08193826,   592.95459007,\n",
       "         811.77719386,   986.22492237,    94.68273537,   248.08741492,\n",
       "         190.6483966 ,   158.43772086,   345.8029906 ,   568.89987329,\n",
       "        1064.49270124,  1058.48130067,   946.49633709,   640.36759861,\n",
       "        1134.74155458,   851.60139979,  1817.73877828,   933.5004194 ,\n",
       "         619.392583  ,   554.7936507 , 25328.2242042 ,  9114.336652  ,\n",
       "        8654.66756635,  5823.77608953,  9512.87532669,  3844.55923299,\n",
       "       13608.23831923, 10458.70104   ,  5575.90100742,  5739.44919493,\n",
       "         124.57914842,   601.88052561,   827.5451393 ,   185.1665687 ,\n",
       "         234.60822609,   277.09708354,   290.3777471 ,   135.6703679 ,\n",
       "         258.85016577,   543.06091037,   486.15628605,   736.55613516,\n",
       "         984.15957098,   761.99155873,  2300.96076468,   590.17153686,\n",
       "        2400.04612577,   496.3850126 ,  1041.75717924,  1081.67427246,\n",
       "       25738.02219376,  8497.349963  ,  7729.2528995 , 10142.16667297,\n",
       "        6951.22974432,  2695.32090995, 10814.58090873, 10572.61959971,\n",
       "        7133.58178493,  3870.39189587,  2155.60786802,   655.05857828,\n",
       "         493.2670746 ,   304.49307719,   459.75392103,   166.39381523,\n",
       "         337.33940911,   125.86980267,   196.8872214 ,   188.56184189,\n",
       "        1378.13884899,   570.11322768,   751.17906506,   462.57545244,\n",
       "        1792.30040768,   856.71304048,  1369.84839925,   606.93239874,\n",
       "         670.52493776,   556.98136313,  4013.23275265,  6720.04400931,\n",
       "        5781.4091326 ,  7458.43222775,  5363.4468062 ,  5805.09754784,\n",
       "        7662.40939468, 10642.30662582, 10362.51452545,  8196.571017  ,\n",
       "        1858.43333387,   560.6499393 ,   818.37201406,   295.942367  ,\n",
       "         131.73900687,   210.09470943,   264.46785236,   222.94488945,\n",
       "         183.52445273,   372.2283295 ,   395.26215766,   350.11534479,\n",
       "         706.12506729,   800.15363023,  2069.22685211,  1269.9415305 ,\n",
       "        2185.76597699,   304.13199711,  1007.99054703,  1069.93234338,\n",
       "       21496.67536736,  8650.41713121,  5960.604367  ,  4077.98784524,\n",
       "        6394.33556639,  4845.56829575, 12365.05330846,  3303.84951117,\n",
       "       10758.91263531, 16332.91992954,  1600.58871108,   102.70575669,\n",
       "         702.94159964,   533.5815113 ,   175.04189859,   166.35839715,\n",
       "         342.4903031 ,   159.93925634,   207.15549407,   500.7965942 ,\n",
       "         888.27621264,   881.40128621,   872.27833318,   911.71372591,\n",
       "        1941.24787425,  1474.79808891,  2028.54782927,   798.41220014,\n",
       "         991.23295606,   492.42216509,  5504.66969553, 10281.95878072,\n",
       "        3780.12884307, 10240.73232645,  5617.35618941,  3792.77621223,\n",
       "        5957.00046409,  5297.16908318,  8404.03122843, 14036.83865216,\n",
       "        1076.69901726,   390.77611209,   206.98766152,   582.97308876,\n",
       "         258.86345874,   210.93559069,   357.13388063,   189.24728756,\n",
       "         309.06513765,   750.05874652,  1018.79991789,   752.5615969 ,\n",
       "         275.07621806,  1022.2540475 ,  1991.75597992,   956.69473325,\n",
       "        1650.16074792,   289.20665028,   694.82437116,   605.08267975,\n",
       "       12550.22322179,  6189.569144  , 10461.85341457, 12734.00901241,\n",
       "        7374.45698798,  4211.86957177, 13275.78074114,  5058.82927478,\n",
       "        6972.23464544, 11739.81397874,   883.5259921 ,   639.63078659,\n",
       "         225.66641125,   507.86764813,   322.61925644,   425.17052067,\n",
       "         338.21158499,   157.60270922,   321.71752277,   634.3511257 ,\n",
       "         326.92498309,   599.4676965 ,   871.92916489,   666.36794952,\n",
       "        2092.70780263,   771.38126778,  1730.84252638,  1198.23004114,\n",
       "        1003.21606089,  1567.7919455 , 16218.59472035,  9871.85141278,\n",
       "        9517.67068855,  3868.38386748,  5747.70589365,  4659.96277516,\n",
       "       13382.22733346,  5469.746322  ,  5963.80600916,  6624.27286987,\n",
       "        1744.92734656,   103.39289575,   370.28511637,   292.3311608 ,\n",
       "         349.7363132 ,   439.36586853,   386.98186204,   151.93033054,\n",
       "         267.38211176,   502.43367682,  1033.15545314,   531.70564939,\n",
       "         861.46331192,  1210.90987816,  2135.25815349,   735.70647869,\n",
       "        1946.66243749,   955.96415992,   591.03199782,  1079.7283759 ,\n",
       "       15984.73228058,  8899.94277059,  3532.44089553,  5493.71123234,\n",
       "        4191.84299838,  3849.62512937,  8850.07796095,  3593.64407628,\n",
       "        8969.03011037, 10145.69595912,   151.99416132,  1018.23234175,\n",
       "         277.36589752,   453.84459564,   320.13217173,   293.97846469,\n",
       "         243.21995633,   188.6673096 ,   214.87205738,   821.42250682,\n",
       "         741.50991931,   252.04544962,  1080.2942671 ,   641.26215301,\n",
       "        1898.28785198,   402.36787297,  2660.89624159,   606.89760583,\n",
       "         957.20182567,   475.33229483])"
      ]
     },
     "execution_count": 94,
     "metadata": {},
     "output_type": "execute_result"
    }
   ],
   "source": [
    "discount_amount = np.array(sales_df['Discount Amount'])\n",
    "discount_amount"
   ]
  },
  {
   "cell_type": "code",
   "execution_count": 95,
   "id": "691e3fd3",
   "metadata": {},
   "outputs": [
    {
     "data": {
      "text/plain": [
       "3346.499424342415"
      ]
     },
     "execution_count": 95,
     "metadata": {},
     "output_type": "execute_result"
    }
   ],
   "source": [
    "mean_discount_amount = np.mean(discount_amount)\n",
    "mean_discount_amount"
   ]
  },
  {
   "cell_type": "code",
   "execution_count": 96,
   "id": "b188bb16",
   "metadata": {},
   "outputs": [
    {
     "data": {
      "text/plain": [
       "4504.889173073149"
      ]
     },
     "execution_count": 96,
     "metadata": {},
     "output_type": "execute_result"
    }
   ],
   "source": [
    "std_discount_amount = np.std(discount_amount)\n",
    "std_discount_amount"
   ]
  },
  {
   "cell_type": "code",
   "execution_count": 97,
   "id": "be3b7f2f",
   "metadata": {},
   "outputs": [
    {
     "name": "stdout",
     "output_type": "stream",
     "text": [
      "Original Discount Rate:  [21153.49881959 11676.10296098 10657.9101567   8364.07470207\n",
      "  4372.94623046  4130.14680522 13594.039719    6009.1243214\n",
      "  8165.93514362 17900.98373313   981.20056582   198.93979007\n",
      "   283.2867664    774.62289563   224.99056355   407.72088808\n",
      "   271.72305899   210.08360656    93.64916136   735.71252404\n",
      "   878.73672568   767.77293072  1137.8346419   1215.95255215\n",
      "  2092.55602476   979.78805408  1978.95281744   941.13659056\n",
      "   316.70221256  1541.68103773 17445.6038281   9262.67727332\n",
      " 11062.76166273  7495.15517125  3035.097424    4371.21562163\n",
      "  7736.36178508  4998.27592    13951.66019446 16384.02900944\n",
      "  2283.81657553   389.31361721   422.67302723   724.03225959\n",
      "   351.12408635   215.98928249   277.78665652    69.17794229\n",
      "   178.87043883   608.78664859  1034.48278377   230.23352791\n",
      "   594.27875457  1404.54600704  2661.52853227  1206.28012158\n",
      "  1873.76984652   785.32907364   349.52125526  1054.29454269\n",
      "  6578.047386    5516.84134409  6977.77326258  9199.719313\n",
      "  5555.54976367  3002.16661566 16892.52095098  4123.38890824\n",
      "  4907.83104383  6019.40227142  1636.82848862   713.52310108\n",
      "   300.70667394   500.63416944   316.4219122    536.96193945\n",
      "   445.29812221   224.44613641   193.23792192   744.94960037\n",
      "  1036.25301816   781.25949374   720.92189618  1258.26572797\n",
      "   959.33113236   725.4985128   2715.41137935   880.02785826\n",
      "   910.86964382   478.7659375  15214.6433236  11321.28276101\n",
      "  4065.7634246   7080.02915143  4079.80953293  2555.72645731\n",
      " 12622.50365771  8465.32338059  7394.91979711  7326.43213136\n",
      "  1793.22748402   774.76245766   709.1419678    496.44380831\n",
      "   286.05851445   296.18262982   393.60878254   257.45019684\n",
      "   292.3188404    202.96994873   824.6708274    989.2371867\n",
      "   407.42533975   746.03329262  2613.69566437  1278.2234547\n",
      "  1639.36459464   639.26012329   359.17907601  1643.47961732\n",
      "  4406.15250785  8828.26945196  6518.155105    4672.038501\n",
      "  3746.25153613  4210.85800597 12568.04537502  9632.641646\n",
      "  8358.21888318 10921.47754544  1062.76166196   363.241758\n",
      "   648.62919413   653.72004389   206.50398584   318.96421614\n",
      "   310.92228478   130.77903226   185.46894583   354.23281017\n",
      "  1083.26637533   260.16761315   318.12070722  1047.90378255\n",
      "  1590.18428163   903.73943343  1881.58549649   563.39512441\n",
      "   988.63027978   482.73130277 10934.36233513  7454.727792\n",
      "  4979.83760506  8724.01917126  8005.56670315  2799.46583101\n",
      "  5322.93754119 11117.51046683  9270.71438355  8722.54807531\n",
      "   566.95786816   586.6945055    546.23789798   141.20424214\n",
      "   138.66456428   484.06179982   165.35162659    73.02519945\n",
      "   222.02172766   621.46896264   886.96326955   499.9441593\n",
      "   861.29831932  1173.40237672  2257.09416187   640.92686428\n",
      "  2084.82850666   840.25335126  1036.43333437   607.26286868\n",
      " 17178.33185948  2533.599028    9851.44770632  6423.0054287\n",
      "  5708.42137937  3903.93499128 12753.56595799 11651.07213447\n",
      " 13999.93849871 17696.81362055  1600.08193826   592.95459007\n",
      "   811.77719386   986.22492237    94.68273537   248.08741492\n",
      "   190.6483966    158.43772086   345.8029906    568.89987329\n",
      "  1064.49270124  1058.48130067   946.49633709   640.36759861\n",
      "  1134.74155458   851.60139979  1817.73877828   933.5004194\n",
      "   619.392583     554.7936507  25328.2242042   9114.336652\n",
      "  8654.66756635  5823.77608953  9512.87532669  3844.55923299\n",
      " 13608.23831923 10458.70104     5575.90100742  5739.44919493\n",
      "   124.57914842   601.88052561   827.5451393    185.1665687\n",
      "   234.60822609   277.09708354   290.3777471    135.6703679\n",
      "   258.85016577   543.06091037   486.15628605   736.55613516\n",
      "   984.15957098   761.99155873  2300.96076468   590.17153686\n",
      "  2400.04612577   496.3850126   1041.75717924  1081.67427246\n",
      " 25738.02219376  8497.349963    7729.2528995  10142.16667297\n",
      "  6951.22974432  2695.32090995 10814.58090873 10572.61959971\n",
      "  7133.58178493  3870.39189587  2155.60786802   655.05857828\n",
      "   493.2670746    304.49307719   459.75392103   166.39381523\n",
      "   337.33940911   125.86980267   196.8872214    188.56184189\n",
      "  1378.13884899   570.11322768   751.17906506   462.57545244\n",
      "  1792.30040768   856.71304048  1369.84839925   606.93239874\n",
      "   670.52493776   556.98136313  4013.23275265  6720.04400931\n",
      "  5781.4091326   7458.43222775  5363.4468062   5805.09754784\n",
      "  7662.40939468 10642.30662582 10362.51452545  8196.571017\n",
      "  1858.43333387   560.6499393    818.37201406   295.942367\n",
      "   131.73900687   210.09470943   264.46785236   222.94488945\n",
      "   183.52445273   372.2283295    395.26215766   350.11534479\n",
      "   706.12506729   800.15363023  2069.22685211  1269.9415305\n",
      "  2185.76597699   304.13199711  1007.99054703  1069.93234338\n",
      " 21496.67536736  8650.41713121  5960.604367    4077.98784524\n",
      "  6394.33556639  4845.56829575 12365.05330846  3303.84951117\n",
      " 10758.91263531 16332.91992954  1600.58871108   102.70575669\n",
      "   702.94159964   533.5815113    175.04189859   166.35839715\n",
      "   342.4903031    159.93925634   207.15549407   500.7965942\n",
      "   888.27621264   881.40128621   872.27833318   911.71372591\n",
      "  1941.24787425  1474.79808891  2028.54782927   798.41220014\n",
      "   991.23295606   492.42216509  5504.66969553 10281.95878072\n",
      "  3780.12884307 10240.73232645  5617.35618941  3792.77621223\n",
      "  5957.00046409  5297.16908318  8404.03122843 14036.83865216\n",
      "  1076.69901726   390.77611209   206.98766152   582.97308876\n",
      "   258.86345874   210.93559069   357.13388063   189.24728756\n",
      "   309.06513765   750.05874652  1018.79991789   752.5615969\n",
      "   275.07621806  1022.2540475   1991.75597992   956.69473325\n",
      "  1650.16074792   289.20665028   694.82437116   605.08267975\n",
      " 12550.22322179  6189.569144   10461.85341457 12734.00901241\n",
      "  7374.45698798  4211.86957177 13275.78074114  5058.82927478\n",
      "  6972.23464544 11739.81397874   883.5259921    639.63078659\n",
      "   225.66641125   507.86764813   322.61925644   425.17052067\n",
      "   338.21158499   157.60270922   321.71752277   634.3511257\n",
      "   326.92498309   599.4676965    871.92916489   666.36794952\n",
      "  2092.70780263   771.38126778  1730.84252638  1198.23004114\n",
      "  1003.21606089  1567.7919455  16218.59472035  9871.85141278\n",
      "  9517.67068855  3868.38386748  5747.70589365  4659.96277516\n",
      " 13382.22733346  5469.746322    5963.80600916  6624.27286987\n",
      "  1744.92734656   103.39289575   370.28511637   292.3311608\n",
      "   349.7363132    439.36586853   386.98186204   151.93033054\n",
      "   267.38211176   502.43367682  1033.15545314   531.70564939\n",
      "   861.46331192  1210.90987816  2135.25815349   735.70647869\n",
      "  1946.66243749   955.96415992   591.03199782  1079.7283759\n",
      " 15984.73228058  8899.94277059  3532.44089553  5493.71123234\n",
      "  4191.84299838  3849.62512937  8850.07796095  3593.64407628\n",
      "  8969.03011037 10145.69595912   151.99416132  1018.23234175\n",
      "   277.36589752   453.84459564   320.13217173   293.97846469\n",
      "   243.21995633   188.6673096    214.87205738   821.42250682\n",
      "   741.50991931   252.04544962  1080.2942671    641.26215301\n",
      "  1898.28785198   402.36787297  2660.89624159   606.89760583\n",
      "   957.20182567   475.33229483]\n",
      "Mean:  3346.499424342415\n",
      "Standard Deviation:  4504.889173073149\n",
      "Z-scores:  [ 3.95281631  1.84901409  1.62299458  1.1138066   0.22785173  0.17395486\n",
      "  2.27475969  0.59105225  1.06982337  3.23081962 -0.52505151 -0.69869857\n",
      " -0.67997514 -0.57090784 -0.69291579 -0.65235313 -0.68254207 -0.69622486\n",
      " -0.7220711  -0.5795452  -0.54779654 -0.5724284  -0.49028171 -0.47294102\n",
      " -0.27835166 -0.52536506 -0.30356942 -0.53394495 -0.67255755 -0.40063547\n",
      "  3.12973391  1.31327933  1.71286394  0.92092293 -0.06912534  0.22746757\n",
      "  0.97446623  0.36666307  2.35414466  2.89408442 -0.23589545 -0.65643919\n",
      " -0.64903403 -0.582138   -0.66491654 -0.69491391 -0.68119606 -0.72750324\n",
      " -0.70315359 -0.60772034 -0.51322387 -0.69175196 -0.61094082 -0.43107685\n",
      " -0.15205055 -0.47508811 -0.32691805 -0.56853127 -0.66527234 -0.50882603\n",
      "  0.71734239  0.48177476  0.80607396  1.29930386  0.4903673  -0.07643536\n",
      "  3.00696     0.17245474  0.34658602  0.59333376 -0.37951454 -0.58447083\n",
      " -0.67610825 -0.63172814 -0.67261977 -0.62366406 -0.64401169 -0.69303665\n",
      " -0.69996428 -0.57749474 -0.51283091 -0.56943464 -0.58282844 -0.4635483\n",
      " -0.52990611 -0.58181252 -0.14008958 -0.54750993 -0.54066364 -0.63658247\n",
      "  2.63450297  1.77025073  0.15966297  0.82877283  0.16278094 -0.17553661\n",
      "  2.0590971   1.13628188  0.89867258  0.88346962 -0.34479693 -0.57087686\n",
      " -0.58544336 -0.63265832 -0.67935987 -0.67711251 -0.65548575 -0.68571037\n",
      " -0.67797019 -0.69780395 -0.55979814 -0.52326753 -0.65241873 -0.57725419\n",
      " -0.16266854 -0.45911806 -0.37895157 -0.60095581 -0.66312849 -0.37803811\n",
      "  0.2352229   1.21684903  0.70404744  0.29424455  0.08873739  0.19187122\n",
      "  2.04700839  1.39540441  1.11250672  1.68150155 -0.50694649 -0.66222665\n",
      " -0.59887605 -0.59774598 -0.69701946 -0.67205543 -0.67384058 -0.71382897\n",
      " -0.70168884 -0.66422647 -0.50239483 -0.68510716 -0.67224267 -0.51024466\n",
      " -0.38986867 -0.54224641 -0.32518312 -0.6177964  -0.52340225 -0.63570224\n",
      "  1.68436173  0.91194882  0.36257011  1.19370745  1.03422462 -0.12143109\n",
      "  0.4387318   1.72501714  1.31506342  1.19338089 -0.61700554 -0.61262438\n",
      " -0.62160498 -0.71151477 -0.71207853 -0.63540689 -0.70615451 -0.72664922\n",
      " -0.69357482 -0.60490511 -0.5459704  -0.63188131 -0.55166753 -0.48238635\n",
      " -0.24182732 -0.60058582 -0.28006703 -0.55633912 -0.51279088 -0.60805859\n",
      "  3.0704046  -0.18044848  1.44397521  0.68292601  0.5243019   0.12374013\n",
      "  2.08819045  1.84345772  2.36486152  3.18549772 -0.38767158 -0.61123476\n",
      " -0.56266029 -0.5239362  -0.72184166 -0.68778873 -0.7005391  -0.70768926\n",
      " -0.66609773 -0.61657445 -0.50656223 -0.50789665 -0.53275519 -0.60070997\n",
      " -0.49096832 -0.55382007 -0.33935588 -0.53564004 -0.60536602 -0.61970576\n",
      "  4.87952621  1.28035053  1.1783127   0.54990846  1.36881856  0.11055984\n",
      "  2.27791151  1.57877394  0.49488489  0.53118949 -0.71520523 -0.60925337\n",
      " -0.5591601  -0.70175597 -0.69078086 -0.68134913 -0.67840108 -0.71274318\n",
      " -0.6853996  -0.62231021 -0.63494195 -0.57935794 -0.52439467 -0.57371175\n",
      " -0.23208976 -0.61185254 -0.21009469 -0.63267137 -0.51160909 -0.50274825\n",
      "  4.97049359  1.14339118  0.97288819  1.50850931  0.8001818  -0.14454929\n",
      "  1.65777252  1.6040617   0.84066049  0.1162942  -0.26435535 -0.59744885\n",
      " -0.63336349 -0.67526774 -0.64080278 -0.70592316 -0.66797648 -0.71491872\n",
      " -0.6991542  -0.70100228 -0.43693873 -0.61630511 -0.57611192 -0.64017645\n",
      " -0.34500272 -0.55268538 -0.43877906 -0.60813195 -0.59401561 -0.61922013\n",
      "  0.14800216  0.74886295  0.5405038   0.91277113  0.44772408  0.54576218\n",
      "  0.9580502   1.6195309   1.55742235  1.07662395 -0.33032246 -0.61840578\n",
      " -0.56119636 -0.67716584 -0.71361587 -0.69622239 -0.68415258 -0.6933699\n",
      " -0.70212049 -0.6602318  -0.65511873 -0.66514047 -0.58611306 -0.5652405\n",
      " -0.2835303  -0.46095649 -0.25766082 -0.6753479  -0.51910464 -0.50535474\n",
      "  4.028995    1.17736919  0.58028174  0.16237656  0.67656185  0.33276487\n",
      "  2.001948   -0.00946747  1.64541522  2.88273918 -0.38755908 -0.7200607\n",
      " -0.58681972 -0.62441445 -0.70400345 -0.70593102 -0.66683308 -0.70735595\n",
      " -0.69687484 -0.63169208 -0.54567895 -0.54720506 -0.54923018 -0.54047627\n",
      " -0.31193921 -0.41548222 -0.29256027 -0.56562706 -0.52282451 -0.63355105\n",
      "  0.47907289  1.53954051  0.09625751  1.53038901  0.50408715  0.09906499\n",
      "  0.57948175  0.43301169  1.12267619  2.37305266 -0.50385266 -0.65611455\n",
      " -0.6969121  -0.61345046 -0.68539665 -0.69603573 -0.66358248 -0.70085012\n",
      " -0.67425283 -0.57636061 -0.51670517 -0.57580503 -0.68179773 -0.51593841\n",
      " -0.30072736 -0.53049134 -0.37655503 -0.67866104 -0.5886216  -0.60854255\n",
      "  2.04305221  0.63110758  1.5794737   2.08384918  0.89413022  0.19209577\n",
      "  2.20411223  0.38010477  0.80484449  1.86315672 -0.54673341 -0.60087353\n",
      " -0.69276577 -0.63012244 -0.67124408 -0.64847964 -0.66778287 -0.70787462\n",
      " -0.67144424 -0.60204551 -0.67028829 -0.60978897 -0.54930769 -0.59493838\n",
      " -0.27831797 -0.57162742 -0.3586452  -0.47687508 -0.52016449 -0.39483934\n",
      "  2.85736115  1.44850444  1.36988304  0.11584845  0.53302232  0.29156397\n",
      "  2.22774135  0.47132056  0.58099245  0.72760357 -0.35551864 -0.71990817\n",
      " -0.66066316 -0.67796746 -0.6652246  -0.64532854 -0.6569568  -0.70913378\n",
      " -0.68350567 -0.63132868 -0.51351851 -0.62483086 -0.55163091 -0.4740604\n",
      " -0.2688726  -0.57954654 -0.31073728 -0.53065351 -0.61166153 -0.5031802\n",
      "  2.80544812  1.23275915  0.04127548  0.47664032  0.18765025  0.11168437\n",
      "  1.22169011  0.05486143  1.24809523  1.50929274 -0.70911961 -0.51683116\n",
      " -0.68128946 -0.64211454 -0.67179616 -0.67760179 -0.68886921 -0.70097887\n",
      " -0.69516191 -0.56051921 -0.57825829 -0.68691012 -0.50305459 -0.60051139\n",
      " -0.32147552 -0.65354139 -0.15219091 -0.60813967 -0.53037877 -0.63734468]\n"
     ]
    }
   ],
   "source": [
    "z_scores = (discount_amount - mean_discount_amount) / std_discount_amount\n",
    "print(\"Original Discount Amount: \", discount_amount)\n",
    "print(\"Mean: \", mean_discount_amount)\n",
    "print(\"Standard Deviation: \", std_discount_amount)\n",
    "print(\"Z-scores: \", z_scores)"
   ]
  },
  {
   "cell_type": "code",
   "execution_count": 98,
   "id": "2e0e7a73",
   "metadata": {},
   "outputs": [
    {
     "name": "stdout",
     "output_type": "stream",
     "text": [
      "Outliers: [21153.49881959 17900.98373313 17445.6038281  16892.52095098\n",
      " 17178.33185948 17696.81362055 25328.2242042  25738.02219376\n",
      " 21496.67536736]\n"
     ]
    },
    {
     "data": {
      "image/png": "[encoded data removed]",
      "text/plain": [
       "<Figure size 1000x600 with 1 Axes>"
      ]
     },
     "metadata": {},
     "output_type": "display_data"
    }
   ],
   "source": [
    "#Outlier detection: Z-scores beyond ±3 are considered outliers\n",
    "outliers = np.where(np.abs(z_scores) > 3)\n",
    "print(\"Outliers:\", discount_amount[outliers])\n",
    "\n",
    "# Visualizing the data\n",
    "import matplotlib.pyplot as plt\n",
    "plt.figure(figsize=(10, 6))\n",
    "plt.plot(discount_amount, 'bo-', label='Original Data')\n",
    "plt.plot(outliers[0], discount_amount[outliers], 'ro', label='Outliers')\n",
    "plt.axhline(mean_discount_amount, color='g', linestyle='--', label='Mean')\n",
    "plt.xlabel('Index')\n",
    "plt.ylabel('Value')\n",
    "plt.title('Discount Amount data with Outliers Detected')\n",
    "plt.legend()\n",
    "plt.show()"
   ]
  },
  {
   "cell_type": "code",
   "execution_count": 99,
   "id": "1d96aadb",
   "metadata": {},
   "outputs": [
    {
     "data": {
      "text/plain": [
       "array([160346.50118041,  89323.89703902, 102042.0898433 , 112235.92529793,\n",
       "        19927.05376954,  20169.85319478, 133705.960281  , 102190.8756786 ,\n",
       "       102034.06485638, 162399.01626687,   4218.79943418,   1001.06020993,\n",
       "         1276.7132336 ,   3410.37710437,   1225.00943645,   1842.27911192,\n",
       "         1228.27694101,    989.91639344,    466.35083864,   3660.28747596,\n",
       "         3621.26327432,   3232.22706928,   5162.1653581 ,   5284.04744785,\n",
       "         8402.44397524,   4220.21194592,  11021.04718256,   3858.86340944,\n",
       "         1583.29778744,   7758.31896227, 115654.3961719 ,  71537.32273   ,\n",
       "       101637.23833727, 113104.84482875,  13164.90257614,  19928.78437837,\n",
       "       139563.63821492,  49101.72407986, 151348.33980554, 163915.971     ,\n",
       "         9316.18342447,   2010.68638279,   1917.32697277,   3460.96774041,\n",
       "         1678.87591365,   1134.01071751,   1222.21334348,    330.82205771,\n",
       "          941.12956117,   2688.21335141,   4815.51721623,   1269.76647209,\n",
       "         3005.72124543,   6395.45399296,  12031.47146773,   6593.71987842,\n",
       "         8526.23015348,   4014.67092636,   1550.47874474,   5145.70545731,\n",
       "        53921.95261411,  44983.15865591,  73522.22673742,  91300.28069   ,\n",
       "        26844.45023633,  13197.83338434, 179507.47904902,  49976.61109176,\n",
       "        50192.16895617, 114180.59772858,   7963.17151138,   3486.47689892,\n",
       "         1259.29332606,   2289.36583056,   1423.57808777,   2163.03806055,\n",
       "         2054.70187779,    975.5538636 ,    926.76207808,   3651.05039963,\n",
       "         4363.74698184,   3718.74050626,   3779.07810382,   5241.73427203,\n",
       "         5337.66886764,   3174.5014872 ,  12884.58862065,   3919.97214174,\n",
       "         4789.13035618,   2621.2340625 ,  93685.35668   ,  79578.71723899,\n",
       "        44234.2365754 , 113519.97084857,  20220.19047   ,  13644.27354269,\n",
       "       134677.49634229,  99734.67661941, 102805.08020289, 112873.56786864,\n",
       "         8206.77251598,   3725.23754234,   3580.8580322 ,   2758.55619169,\n",
       "         1453.94148555,   1503.81737018,   1606.39121746,   1342.54980316,\n",
       "         1387.6811596 ,    896.03005127,   3675.32917258,   4010.76281328,\n",
       "         2292.57466025,   3153.96670738,  12079.30433563,   5221.7765453 ,\n",
       "         8760.63540536,   2560.73987671,   1540.82092399,   7656.52038268,\n",
       "        31893.84749215,  51771.73054804,  73981.84489498,  55627.96149931,\n",
       "        20553.74846387,  20089.14199403, 134731.95462498, 152667.35835357,\n",
       "       101841.78111682, 109278.52245456,   4937.23833804,   1736.758242  ,\n",
       "         3251.37080587,   3066.27995611,    953.49601416,   1481.03578386,\n",
       "         1689.07771522,    669.22096774,    934.53105417,   1843.76718983,\n",
       "         5216.73362467,   1239.83238685,   1481.87929278,   5452.09621745,\n",
       "         6805.81571837,   4296.26056657,   8518.41450351,   2636.60487559,\n",
       "         4711.36972022,   2617.26869723,  73765.63766487,  53145.27220794,\n",
       "        59420.16239494, 111875.98082874,  32494.43329685,  13400.53416899,\n",
       "        92877.06246   , 151182.48953317, 100929.28561645, 111477.45192469,\n",
       "         3033.04213184,   3013.30549451,   2573.76210202,    788.79575786,\n",
       "          731.33543572,   2215.93820018,    834.64837341,    326.97480055,\n",
       "          897.97827234,   2675.53103736,   4513.03673045,   2500.05584066,\n",
       "         4538.70168068,   6626.59762328,  12435.90583813,   3259.07313572,\n",
       "        10915.17149334,   3959.74664874,   4663.56666563,   2492.73713132,\n",
       "       128021.66814052,  17666.40097235, 102848.55229368,  73976.9945713 ,\n",
       "        26691.57862063,  20396.06500872, 134546.43404201, 150648.92786553,\n",
       "       151300.06150129, 162603.18637945,   7199.91806174,   2407.04540993,\n",
       "         3478.22280614,   4128.77507763,    485.31726463,   1101.91258508,\n",
       "          809.3516034 ,    641.56227914,   1894.19700943,   2728.10012671,\n",
       "         4335.50729876,   4941.51869933,   5353.50366291,   3259.63240139,\n",
       "         5162.25844542,   4348.39860021,   8582.26122172,   3866.49958064,\n",
       "         3180.60741703,   2545.2063493 , 144071.7757958 ,  61585.66335   ,\n",
       "       104045.33243365,  94676.22391   ,  39087.12467331,  20455.44076701,\n",
       "       133691.76168077,  97741.29896   , 104624.09899258,  54360.55080507,\n",
       "          675.42085158,   2698.119474  ,   3462.45486068,    744.8334313 ,\n",
       "         1215.39177391,   1522.90291646,   1209.62225286,    664.3296321 ,\n",
       "         1421.14983423,   2753.93908963,   2663.84371395,   3763.44386484,\n",
       "         5315.84042902,   3138.00844127,  10293.03923532,   3309.82846314,\n",
       "        10599.95387423,   2703.614987  ,   4658.24282076,   5118.32572754,\n",
       "       155761.97780624,  62202.65003674, 104970.7471005 , 130557.83332703,\n",
       "        33548.77025568,  13504.67909005, 136485.41909127,  97627.3804    ,\n",
       "       103066.41821507,  56229.60810413,  10244.39213198,   2944.94142172,\n",
       "         2236.7329254 ,   1555.50692281,   1860.24607897,    733.60618477,\n",
       "         1662.66059089,    674.13019733,    923.1127786 ,    910.43815811,\n",
       "         5821.86115101,   2429.88677232,   3748.82093494,   2137.42454756,\n",
       "         8702.69959232,   4343.28695952,   6430.15160075,   2593.06760126,\n",
       "         3129.47506224,   2543.01863687,  32286.76724735,  53879.95599069,\n",
       "        58618.5908674 ,  93041.56777   ,  27036.5531938 ,  26594.90245216,\n",
       "        90537.59060532,  97557.69337418, 154937.48547455, 112003.42898323,\n",
       "         7741.56666613,   2739.35006072,   3861.62798594,   1564.057633  ,\n",
       "          738.26099313,   1139.90529057,   1235.53214764,    977.05511055,\n",
       "          936.47554727,   1825.77167052,   1854.73784234,   1649.88465521,\n",
       "         3793.87493271,   4399.84636977,   8425.77314789,   5230.0584695 ,\n",
       "        10814.23402301,   1295.86800289,   4692.00945297,   5130.06765662,\n",
       "       123703.32463264,  62049.58286879,  90639.39563343,  76322.01215476,\n",
       "        26005.66443361,  19454.43170425, 134934.94669154,  50796.15048883,\n",
       "       154541.08736469, 163967.08007046,   7199.41128892,    497.29424331,\n",
       "         3587.05840036,   2256.4184887 ,    984.9581014 ,    733.64160285,\n",
       "         1657.5096969 ,    640.06074366,    912.84450593,   2796.2034058 ,\n",
       "         4961.72378736,   3618.59871379,   3627.72166682,   4288.28627409,\n",
       "        10652.75212575,   6325.201911  ,   8371.45217073,   4001.58779986,\n",
       "         4708.76704394,   2607.57783491,  42895.33030447,  60418.04121928,\n",
       "        44519.87115693, 110359.26767355,  26782.64381059,  20507.22378777,\n",
       "        92242.99953591,  48802.83091682, 156895.96877157, 166263.16134784,\n",
       "         4923.300983  ,   1709.22388791,    963.01233848,   3137.02691124,\n",
       "         1191.13654126,   1139.06440931,   1642.86611937,   1010.75271244,\n",
       "         1370.93486235,   3645.94125348,   4381.20008211,   3247.4384031 ,\n",
       "         1524.92378194,   4177.7459525 ,  10602.24402008,   4243.30526675,\n",
       "         8749.83925208,   1310.79334972,   3105.17562884,   2494.91732025,\n",
       "        96349.77677821,  54410.43085637, 102238.14658543, 127965.99098759,\n",
       "        33125.54301202,  20088.13042823, 134024.21925886,  49041.17072522,\n",
       "       103227.76535456, 108460.18602126,   4716.47400789,   3560.36921341,\n",
       "          944.33358875,   2747.13235187,   1707.38074356,   1824.82947933,\n",
       "         1661.78841501,    642.39729078,   1358.28247723,   2662.648874  ,\n",
       "         1473.07501691,   2400.5323035 ,   4528.07083511,   3233.63205048,\n",
       "         8402.29219737,   3128.61873222,   8669.15747362,   5201.76995886,\n",
       "         4696.78393911,   7732.2080545 , 116881.40527965,  60828.14859   ,\n",
       "        87082.32931145,  56431.61613252,  26652.29410635,  19640.03722484,\n",
       "       133917.77266654, 102730.25367775, 104236.19399084, 113575.72713013,\n",
       "         9855.07265344,    496.60710425,   1579.71488363,   1567.6688392 ,\n",
       "         1680.26368677,   2260.634131  ,   1613.01813796,    648.06966946,\n",
       "         1412.61788824,   2794.56632318,   5716.84454686,   2968.29435061,\n",
       "         4538.53668808,   5289.09012184,  10458.74184651,   3164.29352131,\n",
       "         8453.337563  ,   3844.03584008,   3208.96800218,   5120.2716241 ,\n",
       "       141315.26771942,  51700.05723   ,  60867.55910447,  95006.28876766,\n",
       "        20108.15700162,  20450.37487063, 138449.92203905,  50506.35592372,\n",
       "       156330.96988963, 110054.30404088,    648.00583868,   4081.76765825,\n",
       "         1282.63410248,   1871.15540436,   1709.86782827,   1506.02153531,\n",
       "         1256.78004367,   1011.3326904 ,    905.12794262,   3574.57749318,\n",
       "         3758.49008069,   1247.95455038,   5219.7057329 ,   3258.737847  ,\n",
       "        10695.71214802,   2197.63212703,  12939.10375841,   2593.10239417,\n",
       "         4742.79817433,   2624.66770517])"
      ]
     },
     "execution_count": 99,
     "metadata": {},
     "output_type": "execute_result"
    }
   ],
   "source": [
    "net_sales = np.array(sales_df['Net Sales Value'])\n",
    "net_sales"
   ]
  },
  {
   "cell_type": "code",
   "execution_count": 100,
   "id": "322fef2b",
   "metadata": {},
   "outputs": [
    {
     "data": {
      "text/plain": [
       "30466.336131270138"
      ]
     },
     "execution_count": 100,
     "metadata": {},
     "output_type": "execute_result"
    }
   ],
   "source": [
    "mean_net_sales = np.mean(net_sales)\n",
    "mean_net_sales"
   ]
  },
  {
   "cell_type": "code",
   "execution_count": 101,
   "id": "f555dc40",
   "metadata": {},
   "outputs": [
    {
     "data": {
      "text/plain": [
       "46307.118357300766"
      ]
     },
     "execution_count": 101,
     "metadata": {},
     "output_type": "execute_result"
    }
   ],
   "source": [
    "std_net_sales = np.std(net_sales)\n",
    "std_net_sales"
   ]
  },
  {
   "cell_type": "code",
   "execution_count": 102,
   "id": "1555cc0f",
   "metadata": {},
   "outputs": [
    {
     "name": "stdout",
     "output_type": "stream",
     "text": [
      "Original Net Sales:  [160346.50118041  89323.89703902 102042.0898433  112235.92529793\n",
      "  19927.05376954  20169.85319478 133705.960281   102190.8756786\n",
      " 102034.06485638 162399.01626687   4218.79943418   1001.06020993\n",
      "   1276.7132336    3410.37710437   1225.00943645   1842.27911192\n",
      "   1228.27694101    989.91639344    466.35083864   3660.28747596\n",
      "   3621.26327432   3232.22706928   5162.1653581    5284.04744785\n",
      "   8402.44397524   4220.21194592  11021.04718256   3858.86340944\n",
      "   1583.29778744   7758.31896227 115654.3961719   71537.32273\n",
      " 101637.23833727 113104.84482875  13164.90257614  19928.78437837\n",
      " 139563.63821492  49101.72407986 151348.33980554 163915.971\n",
      "   9316.18342447   2010.68638279   1917.32697277   3460.96774041\n",
      "   1678.87591365   1134.01071751   1222.21334348    330.82205771\n",
      "    941.12956117   2688.21335141   4815.51721623   1269.76647209\n",
      "   3005.72124543   6395.45399296  12031.47146773   6593.71987842\n",
      "   8526.23015348   4014.67092636   1550.47874474   5145.70545731\n",
      "  53921.95261411  44983.15865591  73522.22673742  91300.28069\n",
      "  26844.45023633  13197.83338434 179507.47904902  49976.61109176\n",
      "  50192.16895617 114180.59772858   7963.17151138   3486.47689892\n",
      "   1259.29332606   2289.36583056   1423.57808777   2163.03806055\n",
      "   2054.70187779    975.5538636     926.76207808   3651.05039963\n",
      "   4363.74698184   3718.74050626   3779.07810382   5241.73427203\n",
      "   5337.66886764   3174.5014872   12884.58862065   3919.97214174\n",
      "   4789.13035618   2621.2340625   93685.35668     79578.71723899\n",
      "  44234.2365754  113519.97084857  20220.19047     13644.27354269\n",
      " 134677.49634229  99734.67661941 102805.08020289 112873.56786864\n",
      "   8206.77251598   3725.23754234   3580.8580322    2758.55619169\n",
      "   1453.94148555   1503.81737018   1606.39121746   1342.54980316\n",
      "   1387.6811596     896.03005127   3675.32917258   4010.76281328\n",
      "   2292.57466025   3153.96670738  12079.30433563   5221.7765453\n",
      "   8760.63540536   2560.73987671   1540.82092399   7656.52038268\n",
      "  31893.84749215  51771.73054804  73981.84489498  55627.96149931\n",
      "  20553.74846387  20089.14199403 134731.95462498 152667.35835357\n",
      " 101841.78111682 109278.52245456   4937.23833804   1736.758242\n",
      "   3251.37080587   3066.27995611    953.49601416   1481.03578386\n",
      "   1689.07771522    669.22096774    934.53105417   1843.76718983\n",
      "   5216.73362467   1239.83238685   1481.87929278   5452.09621745\n",
      "   6805.81571837   4296.26056657   8518.41450351   2636.60487559\n",
      "   4711.36972022   2617.26869723  73765.63766487  53145.27220794\n",
      "  59420.16239494 111875.98082874  32494.43329685  13400.53416899\n",
      "  92877.06246    151182.48953317 100929.28561645 111477.45192469\n",
      "   3033.04213184   3013.30549451   2573.76210202    788.79575786\n",
      "    731.33543572   2215.93820018    834.64837341    326.97480055\n",
      "    897.97827234   2675.53103736   4513.03673045   2500.05584066\n",
      "   4538.70168068   6626.59762328  12435.90583813   3259.07313572\n",
      "  10915.17149334   3959.74664874   4663.56666563   2492.73713132\n",
      " 128021.66814052  17666.40097235 102848.55229368  73976.9945713\n",
      "  26691.57862063  20396.06500872 134546.43404201 150648.92786553\n",
      " 151300.06150129 162603.18637945   7199.91806174   2407.04540993\n",
      "   3478.22280614   4128.77507763    485.31726463   1101.91258508\n",
      "    809.3516034     641.56227914   1894.19700943   2728.10012671\n",
      "   4335.50729876   4941.51869933   5353.50366291   3259.63240139\n",
      "   5162.25844542   4348.39860021   8582.26122172   3866.49958064\n",
      "   3180.60741703   2545.2063493  144071.7757958   61585.66335\n",
      " 104045.33243365  94676.22391     39087.12467331  20455.44076701\n",
      " 133691.76168077  97741.29896    104624.09899258  54360.55080507\n",
      "    675.42085158   2698.119474     3462.45486068    744.8334313\n",
      "   1215.39177391   1522.90291646   1209.62225286    664.3296321\n",
      "   1421.14983423   2753.93908963   2663.84371395   3763.44386484\n",
      "   5315.84042902   3138.00844127  10293.03923532   3309.82846314\n",
      "  10599.95387423   2703.614987     4658.24282076   5118.32572754\n",
      " 155761.97780624  62202.65003674 104970.7471005  130557.83332703\n",
      "  33548.77025568  13504.67909005 136485.41909127  97627.3804\n",
      " 103066.41821507  56229.60810413  10244.39213198   2944.94142172\n",
      "   2236.7329254    1555.50692281   1860.24607897    733.60618477\n",
      "   1662.66059089    674.13019733    923.1127786     910.43815811\n",
      "   5821.86115101   2429.88677232   3748.82093494   2137.42454756\n",
      "   8702.69959232   4343.28695952   6430.15160075   2593.06760126\n",
      "   3129.47506224   2543.01863687  32286.76724735  53879.95599069\n",
      "  58618.5908674   93041.56777     27036.5531938   26594.90245216\n",
      "  90537.59060532  97557.69337418 154937.48547455 112003.42898323\n",
      "   7741.56666613   2739.35006072   3861.62798594   1564.057633\n",
      "    738.26099313   1139.90529057   1235.53214764    977.05511055\n",
      "    936.47554727   1825.77167052   1854.73784234   1649.88465521\n",
      "   3793.87493271   4399.84636977   8425.77314789   5230.0584695\n",
      "  10814.23402301   1295.86800289   4692.00945297   5130.06765662\n",
      " 123703.32463264  62049.58286879  90639.39563343  76322.01215476\n",
      "  26005.66443361  19454.43170425 134934.94669154  50796.15048883\n",
      " 154541.08736469 163967.08007046   7199.41128892    497.29424331\n",
      "   3587.05840036   2256.4184887     984.9581014     733.64160285\n",
      "   1657.5096969     640.06074366    912.84450593   2796.2034058\n",
      "   4961.72378736   3618.59871379   3627.72166682   4288.28627409\n",
      "  10652.75212575   6325.201911     8371.45217073   4001.58779986\n",
      "   4708.76704394   2607.57783491  42895.33030447  60418.04121928\n",
      "  44519.87115693 110359.26767355  26782.64381059  20507.22378777\n",
      "  92242.99953591  48802.83091682 156895.96877157 166263.16134784\n",
      "   4923.300983     1709.22388791    963.01233848   3137.02691124\n",
      "   1191.13654126   1139.06440931   1642.86611937   1010.75271244\n",
      "   1370.93486235   3645.94125348   4381.20008211   3247.4384031\n",
      "   1524.92378194   4177.7459525   10602.24402008   4243.30526675\n",
      "   8749.83925208   1310.79334972   3105.17562884   2494.91732025\n",
      "  96349.77677821  54410.43085637 102238.14658543 127965.99098759\n",
      "  33125.54301202  20088.13042823 134024.21925886  49041.17072522\n",
      " 103227.76535456 108460.18602126   4716.47400789   3560.36921341\n",
      "    944.33358875   2747.13235187   1707.38074356   1824.82947933\n",
      "   1661.78841501    642.39729078   1358.28247723   2662.648874\n",
      "   1473.07501691   2400.5323035    4528.07083511   3233.63205048\n",
      "   8402.29219737   3128.61873222   8669.15747362   5201.76995886\n",
      "   4696.78393911   7732.2080545  116881.40527965  60828.14859\n",
      "  87082.32931145  56431.61613252  26652.29410635  19640.03722484\n",
      " 133917.77266654 102730.25367775 104236.19399084 113575.72713013\n",
      "   9855.07265344    496.60710425   1579.71488363   1567.6688392\n",
      "   1680.26368677   2260.634131     1613.01813796    648.06966946\n",
      "   1412.61788824   2794.56632318   5716.84454686   2968.29435061\n",
      "   4538.53668808   5289.09012184  10458.74184651   3164.29352131\n",
      "   8453.337563     3844.03584008   3208.96800218   5120.2716241\n",
      " 141315.26771942  51700.05723     60867.55910447  95006.28876766\n",
      "  20108.15700162  20450.37487063 138449.92203905  50506.35592372\n",
      " 156330.96988963 110054.30404088    648.00583868   4081.76765825\n",
      "   1282.63410248   1871.15540436   1709.86782827   1506.02153531\n",
      "   1256.78004367   1011.3326904     905.12794262   3574.57749318\n",
      "   3758.49008069   1247.95455038   5219.7057329    3258.737847\n",
      "  10695.71214802   2197.63212703  12939.10375841   2593.10239417\n",
      "   4742.79817433   2624.66770517]\n",
      "Mean:  30466.336131270138\n",
      "Standard Deviation:  46307.118357300766\n",
      "Z-scores:  [ 2.80475594  1.2710262   1.54567497  1.76581036 -0.2275953  -0.22235206\n",
      "  2.22945473  1.54888799  1.54550167  2.8490799  -0.5668143  -0.63630122\n",
      " -0.63034851 -0.58427214 -0.63146505 -0.61813514 -0.63139449 -0.63654187\n",
      " -0.64784824 -0.57887534 -0.57971806 -0.58811928 -0.54644235 -0.54381032\n",
      " -0.47646869 -0.56678379 -0.41992008 -0.5745871  -0.62372783 -0.49037854\n",
      "  1.83963207  0.88692599  1.53693222  1.78457463 -0.37362363 -0.22755792\n",
      "  2.35595101  0.40243031  2.61044107  2.88183846 -0.45673653 -0.61449839\n",
      " -0.61651448 -0.58317964 -0.62166382 -0.63343016 -0.63152543 -0.65077498\n",
      " -0.63759542 -0.59986723 -0.5539282  -0.63049852 -0.59301066 -0.51980955\n",
      " -0.39810002 -0.515528   -0.47379554 -0.57122244 -0.62443655 -0.54679781\n",
      "  0.50652291  0.31349009  0.92978989  1.31370612 -0.07821445 -0.37291249\n",
      "  3.21853633  0.42132345  0.42597841  1.80780546 -0.48595476 -0.58262877\n",
      " -0.63072469 -0.60848032 -0.62717697 -0.61120836 -0.61354788 -0.63685203\n",
      " -0.63790568 -0.57907481 -0.56368416 -0.57761304 -0.57631006 -0.54472407\n",
      " -0.54265236 -0.58936586 -0.37967699 -0.57326746 -0.55449803 -0.60131364\n",
      "  1.36521172  1.06057951  0.29731715  1.79353926 -0.22126502 -0.36327163\n",
      "  2.25043501  1.49584649  1.56215171  1.77958022 -0.48069421 -0.57747274\n",
      " -0.58059061 -0.59834818 -0.62652127 -0.6254442  -0.62322913 -0.62892677\n",
      " -0.62795216 -0.63856934 -0.57855051 -0.57130684 -0.60841103 -0.58980931\n",
      " -0.39706707 -0.54515505 -0.46873357 -0.60262001 -0.62464511 -0.49257688\n",
      "  0.03082704  0.46008897  0.93971532  0.54336409 -0.21406186 -0.22409501\n",
      "  2.25161103  2.63892521  1.54134931  1.70194538 -0.55129964 -0.62041386\n",
      " -0.58770587 -0.5917029  -0.63732837 -0.62593617 -0.62144352 -0.64346727\n",
      " -0.63773791 -0.618103   -0.54526396 -0.63114495 -0.62591796 -0.54018131\n",
      " -0.5109478  -0.56514153 -0.47396431 -0.60098171 -0.55617726 -0.60139928\n",
      "  0.93504634  0.48975054  0.62525649  1.75803737  0.04379666 -0.36853517\n",
      "  1.34775664  2.60685954  1.52164401  1.74943116 -0.59242067 -0.59284688\n",
      " -0.6023388  -0.64088506 -0.64212591 -0.61006599 -0.63989488 -0.65085806\n",
      " -0.63852727 -0.6001411  -0.56046026 -0.60393048 -0.55990602 -0.51481801\n",
      " -0.38936628 -0.58753954 -0.42220646 -0.57240853 -0.55720957 -0.60408853\n",
      "  2.10670272 -0.27641399  1.56309049  0.93961058 -0.08151571 -0.21746702\n",
      "  2.24760472  2.5953373   2.6093985   2.85348894 -0.50243718 -0.60593904\n",
      " -0.58280701 -0.56875837 -0.64743866 -0.63412332 -0.64044116 -0.64406456\n",
      " -0.61701397 -0.59900588 -0.564294   -0.55120721 -0.54231041 -0.58752746\n",
      " -0.54644034 -0.56401561 -0.47258555 -0.57442219 -0.589234   -0.60295546\n",
      "  2.45330402  0.67202038  1.5889349   1.38660945  0.18616552 -0.21618481\n",
      "  2.22914811  1.4527996   1.60143333  0.51599442 -0.64333339 -0.59965331\n",
      " -0.58314752 -0.64183443 -0.63167274 -0.62503205 -0.63179733 -0.6435729\n",
      " -0.62722941 -0.59844789 -0.60039349 -0.57664768 -0.54312375 -0.59015393\n",
      " -0.43564138 -0.58644348 -0.42901357 -0.59953463 -0.55732454 -0.54738907\n",
      "  2.70575337  0.68534418  1.60891918  2.16147108  0.06656502 -0.36628617\n",
      "  2.28947701  1.45033953  1.56779529  0.55635662 -0.43669191 -0.5943232\n",
      " -0.60961693 -0.62432797 -0.61774714 -0.64207688 -0.62201399 -0.64336126\n",
      " -0.63798449 -0.6382582  -0.53219626 -0.60544578 -0.57696346 -0.61176149\n",
      " -0.46998469 -0.56412599 -0.51906025 -0.6019219  -0.5903382  -0.6030027\n",
      "  0.03931212  0.505616    0.60794659  1.35130913 -0.074066   -0.08360342\n",
      "  1.29723586  1.44883464  2.6879485   1.76078961 -0.49074031 -0.59876293\n",
      " -0.5745274  -0.62414332 -0.64197636 -0.63330287 -0.63123781 -0.63681961\n",
      " -0.63769592 -0.61849162 -0.61786609 -0.62228989 -0.57599052 -0.5629046\n",
      " -0.4759649  -0.54497621 -0.4243862  -0.62993486 -0.55659535 -0.5471355\n",
      "  2.01344829  0.6820387   1.29943433  0.99025112 -0.09632799 -0.23780155\n",
      "  2.25599463  0.43902137  2.6793883   2.88294216 -0.50244813 -0.64718002\n",
      " -0.58045671 -0.60919182 -0.63664894 -0.64207611 -0.62212523 -0.64409699\n",
      " -0.63820623 -0.59753519 -0.55077088 -0.5797756  -0.57957859 -0.56531373\n",
      " -0.4278734  -0.52132664 -0.47713796 -0.57150497 -0.55623347 -0.60160855\n",
      "  0.26840353  0.64680563  0.30348541  1.72528402 -0.07954916 -0.21506655\n",
      "  1.33406408  0.39597573  2.73024185  2.93252593 -0.55160062 -0.62100846\n",
      " -0.63712286 -0.59017512 -0.63219653 -0.63332103 -0.62244145 -0.63609191\n",
      " -0.62831379 -0.57918514 -0.56330726 -0.58779079 -0.62498841 -0.56770084\n",
      " -0.42896412 -0.56628509 -0.46896671 -0.62961255 -0.59086295 -0.60404145\n",
      "  1.42274974  0.51707158  1.5499088   2.10550037  0.05742545 -0.22411685\n",
      "  2.23632752  0.40112266  1.57127957  1.68427345 -0.55606704 -0.58103307\n",
      " -0.63752623 -0.59859488 -0.62104826 -0.61851196 -0.62203283 -0.64404653\n",
      " -0.62858702 -0.60041929 -0.62610808 -0.60607969 -0.5601356  -0.58808894\n",
      " -0.47647197 -0.5903567  -0.47070903 -0.54558709 -0.55649224 -0.49094241\n",
      "  1.86612927  0.65566188  1.22261966  0.56071898 -0.08236405 -0.23379341\n",
      "  2.23402881  1.56053583  1.59305654  1.79474331 -0.44509925 -0.64719486\n",
      " -0.6238052  -0.62406533 -0.62163385 -0.60910078 -0.62308602 -0.64392403\n",
      " -0.62741365 -0.59757054 -0.53446408 -0.59381889 -0.55990959 -0.54370142\n",
      " -0.43206304 -0.5895863  -0.47536965 -0.5749073  -0.58862156 -0.54734705\n",
      "  2.39377736  0.45854119  0.65651295  1.39373718 -0.22368438 -0.2162942\n",
      "  2.33190036  0.43276327  2.71804073  1.71869835 -0.64392541 -0.56977349\n",
      " -0.63022065 -0.61751156 -0.62099455 -0.6253966  -0.63077896 -0.63607939\n",
      " -0.63837287 -0.58072624 -0.57675465 -0.63096955 -0.54519977 -0.58754678\n",
      " -0.42694568 -0.61046131 -0.37849974 -0.60192115 -0.55549857 -0.60123949]\n"
     ]
    }
   ],
   "source": [
    "z_scores = (net_sales - mean_net_sales) / std_net_sales\n",
    "print(\"Original Net Sales: \", net_sales)\n",
    "print(\"Mean: \", mean_net_sales)\n",
    "print(\"Standard Deviation: \", std_net_sales)\n",
    "print(\"Z-scores: \", z_scores)"
   ]
  },
  {
   "cell_type": "code",
   "execution_count": 104,
   "id": "be8f1ef9",
   "metadata": {},
   "outputs": [
    {
     "name": "stdout",
     "output_type": "stream",
     "text": [
      "Outliers: [179507.47904902]\n"
     ]
    },
    {
     "data": {
      "image/png": "[encoded data removed]",
      "text/plain": [
       "<Figure size 1000x600 with 1 Axes>"
      ]
     },
     "metadata": {},
     "output_type": "display_data"
    }
   ],
   "source": [
    "#Outlier detection: Z-scores beyond ±3 are considered outliers\n",
    "outliers = np.where(np.abs(z_scores) > 3)\n",
    "print(\"Outliers:\", net_sales[outliers])\n",
    "\n",
    "# Visualizing the data\n",
    "import matplotlib.pyplot as plt\n",
    "plt.figure(figsize=(10, 6))\n",
    "plt.plot(discount_amount, 'bo-', label='Original Data')\n",
    "plt.plot(outliers[0], net_sales[outliers], 'ro', label='Outliers')\n",
    "plt.axhline(mean_net_sales, color='g', linestyle='--', label='Mean')\n",
    "plt.xlabel('Index')\n",
    "plt.ylabel('Value')\n",
    "plt.title('Net Sales data with Outliers Detected')\n",
    "plt.legend()\n",
    "plt.show()"
   ]
  },
  {
   "cell_type": "markdown",
   "id": "08f1b652",
   "metadata": {},
   "source": [
    "# Conversion of Categorical Data into Dummy Variables"
   ]
  },
  {
   "cell_type": "code",
   "execution_count": 105,
   "id": "6ee045db",
   "metadata": {},
   "outputs": [
    {
     "data": {
      "text/html": [
       "<div>\n",
       "<style scoped>\n",
       "    .dataframe tbody tr th:only-of-type {\n",
       "        vertical-align: middle;\n",
       "    }\n",
       "\n",
       "    .dataframe tbody tr th {\n",
       "        vertical-align: top;\n",
       "    }\n",
       "\n",
       "    .dataframe thead th {\n",
       "        text-align: right;\n",
       "    }\n",
       "</style>\n",
       "<table border=\"1\" class=\"dataframe\">\n",
       "  <thead>\n",
       "    <tr style=\"text-align: right;\">\n",
       "      <th></th>\n",
       "      <th>Date</th>\n",
       "      <th>Day</th>\n",
       "      <th>SKU</th>\n",
       "      <th>City</th>\n",
       "      <th>Volume</th>\n",
       "      <th>BU</th>\n",
       "      <th>Brand</th>\n",
       "      <th>Model</th>\n",
       "      <th>Avg Price</th>\n",
       "      <th>Total Sales Value</th>\n",
       "      <th>Discount Rate (%)</th>\n",
       "      <th>Discount Amount</th>\n",
       "      <th>Net Sales Value</th>\n",
       "    </tr>\n",
       "  </thead>\n",
       "  <tbody>\n",
       "    <tr>\n",
       "      <th>0</th>\n",
       "      <td>01-04-2021</td>\n",
       "      <td>Thursday</td>\n",
       "      <td>M01</td>\n",
       "      <td>C</td>\n",
       "      <td>15</td>\n",
       "      <td>Mobiles</td>\n",
       "      <td>RealU</td>\n",
       "      <td>RU-10</td>\n",
       "      <td>12100</td>\n",
       "      <td>181500</td>\n",
       "      <td>11.654820</td>\n",
       "      <td>21153.498820</td>\n",
       "      <td>160346.501180</td>\n",
       "    </tr>\n",
       "    <tr>\n",
       "      <th>1</th>\n",
       "      <td>01-04-2021</td>\n",
       "      <td>Thursday</td>\n",
       "      <td>M02</td>\n",
       "      <td>C</td>\n",
       "      <td>10</td>\n",
       "      <td>Mobiles</td>\n",
       "      <td>RealU</td>\n",
       "      <td>RU-9 Plus</td>\n",
       "      <td>10100</td>\n",
       "      <td>101000</td>\n",
       "      <td>11.560498</td>\n",
       "      <td>11676.102961</td>\n",
       "      <td>89323.897039</td>\n",
       "    </tr>\n",
       "    <tr>\n",
       "      <th>2</th>\n",
       "      <td>01-04-2021</td>\n",
       "      <td>Thursday</td>\n",
       "      <td>M03</td>\n",
       "      <td>C</td>\n",
       "      <td>7</td>\n",
       "      <td>Mobiles</td>\n",
       "      <td>YouM</td>\n",
       "      <td>YM-99</td>\n",
       "      <td>16100</td>\n",
       "      <td>112700</td>\n",
       "      <td>9.456886</td>\n",
       "      <td>10657.910157</td>\n",
       "      <td>102042.089843</td>\n",
       "    </tr>\n",
       "    <tr>\n",
       "      <th>3</th>\n",
       "      <td>01-04-2021</td>\n",
       "      <td>Thursday</td>\n",
       "      <td>M04</td>\n",
       "      <td>C</td>\n",
       "      <td>6</td>\n",
       "      <td>Mobiles</td>\n",
       "      <td>YouM</td>\n",
       "      <td>YM-99 Plus</td>\n",
       "      <td>20100</td>\n",
       "      <td>120600</td>\n",
       "      <td>6.935385</td>\n",
       "      <td>8364.074702</td>\n",
       "      <td>112235.925298</td>\n",
       "    </tr>\n",
       "    <tr>\n",
       "      <th>4</th>\n",
       "      <td>01-04-2021</td>\n",
       "      <td>Thursday</td>\n",
       "      <td>M05</td>\n",
       "      <td>C</td>\n",
       "      <td>3</td>\n",
       "      <td>Mobiles</td>\n",
       "      <td>YouM</td>\n",
       "      <td>YM-98</td>\n",
       "      <td>8100</td>\n",
       "      <td>24300</td>\n",
       "      <td>17.995663</td>\n",
       "      <td>4372.946230</td>\n",
       "      <td>19927.053770</td>\n",
       "    </tr>\n",
       "    <tr>\n",
       "      <th>...</th>\n",
       "      <td>...</td>\n",
       "      <td>...</td>\n",
       "      <td>...</td>\n",
       "      <td>...</td>\n",
       "      <td>...</td>\n",
       "      <td>...</td>\n",
       "      <td>...</td>\n",
       "      <td>...</td>\n",
       "      <td>...</td>\n",
       "      <td>...</td>\n",
       "      <td>...</td>\n",
       "      <td>...</td>\n",
       "      <td>...</td>\n",
       "    </tr>\n",
       "    <tr>\n",
       "      <th>445</th>\n",
       "      <td>15-04-2021</td>\n",
       "      <td>Thursday</td>\n",
       "      <td>L06</td>\n",
       "      <td>C</td>\n",
       "      <td>2</td>\n",
       "      <td>Lifestyle</td>\n",
       "      <td>Jeera</td>\n",
       "      <td>M-Casuals</td>\n",
       "      <td>1300</td>\n",
       "      <td>2600</td>\n",
       "      <td>15.475687</td>\n",
       "      <td>402.367873</td>\n",
       "      <td>2197.632127</td>\n",
       "    </tr>\n",
       "    <tr>\n",
       "      <th>446</th>\n",
       "      <td>15-04-2021</td>\n",
       "      <td>Thursday</td>\n",
       "      <td>L07</td>\n",
       "      <td>C</td>\n",
       "      <td>6</td>\n",
       "      <td>Lifestyle</td>\n",
       "      <td>Viva</td>\n",
       "      <td>W-Western</td>\n",
       "      <td>2600</td>\n",
       "      <td>15600</td>\n",
       "      <td>17.057027</td>\n",
       "      <td>2660.896242</td>\n",
       "      <td>12939.103758</td>\n",
       "    </tr>\n",
       "    <tr>\n",
       "      <th>447</th>\n",
       "      <td>15-04-2021</td>\n",
       "      <td>Thursday</td>\n",
       "      <td>L08</td>\n",
       "      <td>C</td>\n",
       "      <td>2</td>\n",
       "      <td>Lifestyle</td>\n",
       "      <td>Viva</td>\n",
       "      <td>W-Lounge</td>\n",
       "      <td>1600</td>\n",
       "      <td>3200</td>\n",
       "      <td>18.965550</td>\n",
       "      <td>606.897606</td>\n",
       "      <td>2593.102394</td>\n",
       "    </tr>\n",
       "    <tr>\n",
       "      <th>448</th>\n",
       "      <td>15-04-2021</td>\n",
       "      <td>Thursday</td>\n",
       "      <td>L09</td>\n",
       "      <td>C</td>\n",
       "      <td>3</td>\n",
       "      <td>Lifestyle</td>\n",
       "      <td>Jeera</td>\n",
       "      <td>M-Formals</td>\n",
       "      <td>1900</td>\n",
       "      <td>5700</td>\n",
       "      <td>16.793014</td>\n",
       "      <td>957.201826</td>\n",
       "      <td>4742.798174</td>\n",
       "    </tr>\n",
       "    <tr>\n",
       "      <th>449</th>\n",
       "      <td>15-04-2021</td>\n",
       "      <td>Thursday</td>\n",
       "      <td>L10</td>\n",
       "      <td>C</td>\n",
       "      <td>1</td>\n",
       "      <td>Lifestyle</td>\n",
       "      <td>Jeera</td>\n",
       "      <td>M-Shoes</td>\n",
       "      <td>3100</td>\n",
       "      <td>3100</td>\n",
       "      <td>15.333300</td>\n",
       "      <td>475.332295</td>\n",
       "      <td>2624.667705</td>\n",
       "    </tr>\n",
       "  </tbody>\n",
       "</table>\n",
       "<p>450 rows × 13 columns</p>\n",
       "</div>"
      ],
      "text/plain": [
       "           Date       Day  SKU City  Volume         BU  Brand       Model  \\\n",
       "0    01-04-2021  Thursday  M01    C      15    Mobiles  RealU       RU-10   \n",
       "1    01-04-2021  Thursday  M02    C      10    Mobiles  RealU   RU-9 Plus   \n",
       "2    01-04-2021  Thursday  M03    C       7    Mobiles   YouM       YM-99   \n",
       "3    01-04-2021  Thursday  M04    C       6    Mobiles   YouM  YM-99 Plus   \n",
       "4    01-04-2021  Thursday  M05    C       3    Mobiles   YouM      YM-98    \n",
       "..          ...       ...  ...  ...     ...        ...    ...         ...   \n",
       "445  15-04-2021  Thursday  L06    C       2  Lifestyle  Jeera   M-Casuals   \n",
       "446  15-04-2021  Thursday  L07    C       6  Lifestyle   Viva   W-Western   \n",
       "447  15-04-2021  Thursday  L08    C       2  Lifestyle   Viva    W-Lounge   \n",
       "448  15-04-2021  Thursday  L09    C       3  Lifestyle  Jeera   M-Formals   \n",
       "449  15-04-2021  Thursday  L10    C       1  Lifestyle  Jeera     M-Shoes   \n",
       "\n",
       "     Avg Price  Total Sales Value  Discount Rate (%)  Discount Amount  \\\n",
       "0        12100             181500          11.654820     21153.498820   \n",
       "1        10100             101000          11.560498     11676.102961   \n",
       "2        16100             112700           9.456886     10657.910157   \n",
       "3        20100             120600           6.935385      8364.074702   \n",
       "4         8100              24300          17.995663      4372.946230   \n",
       "..         ...                ...                ...              ...   \n",
       "445       1300               2600          15.475687       402.367873   \n",
       "446       2600              15600          17.057027      2660.896242   \n",
       "447       1600               3200          18.965550       606.897606   \n",
       "448       1900               5700          16.793014       957.201826   \n",
       "449       3100               3100          15.333300       475.332295   \n",
       "\n",
       "     Net Sales Value  \n",
       "0      160346.501180  \n",
       "1       89323.897039  \n",
       "2      102042.089843  \n",
       "3      112235.925298  \n",
       "4       19927.053770  \n",
       "..               ...  \n",
       "445      2197.632127  \n",
       "446     12939.103758  \n",
       "447      2593.102394  \n",
       "448      4742.798174  \n",
       "449      2624.667705  \n",
       "\n",
       "[450 rows x 13 columns]"
      ]
     },
     "execution_count": 105,
     "metadata": {},
     "output_type": "execute_result"
    }
   ],
   "source": [
    "sales_df = pd.read_csv(r'D:\\GCOEN\\DS ExcelR Assignments\\sales_data_with_discounts.csv')\n",
    "sales_df"
   ]
  },
  {
   "cell_type": "code",
   "execution_count": 107,
   "id": "9635d085",
   "metadata": {},
   "outputs": [
    {
     "name": "stdout",
     "output_type": "stream",
     "text": [
      "           Date  Volume  Avg Price  Total Sales Value  Discount Rate (%)  \\\n",
      "0    01-04-2021      15      12100             181500          11.654820   \n",
      "1    01-04-2021      10      10100             101000          11.560498   \n",
      "2    01-04-2021       7      16100             112700           9.456886   \n",
      "3    01-04-2021       6      20100             120600           6.935385   \n",
      "4    01-04-2021       3       8100              24300          17.995663   \n",
      "..          ...     ...        ...                ...                ...   \n",
      "445  15-04-2021       2       1300               2600          15.475687   \n",
      "446  15-04-2021       6       2600              15600          17.057027   \n",
      "447  15-04-2021       2       1600               3200          18.965550   \n",
      "448  15-04-2021       3       1900               5700          16.793014   \n",
      "449  15-04-2021       1       3100               3100          15.333300   \n",
      "\n",
      "     Discount Amount  Net Sales Value  Day_Friday  Day_Monday  Day_Saturday  \\\n",
      "0       21153.498820    160346.501180           0           0             0   \n",
      "1       11676.102961     89323.897039           0           0             0   \n",
      "2       10657.910157    102042.089843           0           0             0   \n",
      "3        8364.074702    112235.925298           0           0             0   \n",
      "4        4372.946230     19927.053770           0           0             0   \n",
      "..               ...              ...         ...         ...           ...   \n",
      "445       402.367873      2197.632127           0           0             0   \n",
      "446      2660.896242     12939.103758           0           0             0   \n",
      "447       606.897606      2593.102394           0           0             0   \n",
      "448       957.201826      4742.798174           0           0             0   \n",
      "449       475.332295      2624.667705           0           0             0   \n",
      "\n",
      "     ...  Model_Vedic Cream  Model_Vedic Oil  Model_Vedic Shampoo  \\\n",
      "0    ...                  0                0                    0   \n",
      "1    ...                  0                0                    0   \n",
      "2    ...                  0                0                    0   \n",
      "3    ...                  0                0                    0   \n",
      "4    ...                  0                0                    0   \n",
      "..   ...                ...              ...                  ...   \n",
      "445  ...                  0                0                    0   \n",
      "446  ...                  0                0                    0   \n",
      "447  ...                  0                0                    0   \n",
      "448  ...                  0                0                    0   \n",
      "449  ...                  0                0                    0   \n",
      "\n",
      "     Model_W-Casuals  Model_W-Inners  Model_W-Lounge  Model_W-Western  \\\n",
      "0                  0               0               0                0   \n",
      "1                  0               0               0                0   \n",
      "2                  0               0               0                0   \n",
      "3                  0               0               0                0   \n",
      "4                  0               0               0                0   \n",
      "..               ...             ...             ...              ...   \n",
      "445                0               0               0                0   \n",
      "446                0               0               0                1   \n",
      "447                0               0               1                0   \n",
      "448                0               0               0                0   \n",
      "449                0               0               0                0   \n",
      "\n",
      "     Model_YM-98   Model_YM-99  Model_YM-99 Plus  \n",
      "0               0            0                 0  \n",
      "1               0            0                 0  \n",
      "2               0            1                 0  \n",
      "3               0            0                 1  \n",
      "4               1            0                 0  \n",
      "..            ...          ...               ...  \n",
      "445             0            0                 0  \n",
      "446             0            0                 0  \n",
      "447             0            0                 0  \n",
      "448             0            0                 0  \n",
      "449             0            0                 0  \n",
      "\n",
      "[450 rows x 87 columns]\n"
     ]
    }
   ],
   "source": [
    "one_hot_encoded_data = pd.get_dummies(sales_df, columns = ['Day', 'BU', 'Brand', 'SKU', 'City', 'Model'])\n",
    "print(one_hot_encoded_data)"
   ]
  },
  {
   "cell_type": "code",
   "execution_count": null,
   "id": "80d78c66",
   "metadata": {},
   "outputs": [],
   "source": []
  }
 ],
 "metadata": {
  "kernelspec": {
   "display_name": "Python 3 (ipykernel)",
   "language": "python",
   "name": "python3"
  },
  "language_info": {
   "codemirror_mode": {
    "name": "ipython",
    "version": 3
   },
   "file_extension": ".py",
   "mimetype": "text/x-python",
   "name": "python",
   "nbconvert_exporter": "python",
   "pygments_lexer": "ipython3",
   "version": "3.9.12"
  }
 },
 "nbformat": 4,
 "nbformat_minor": 5
}
